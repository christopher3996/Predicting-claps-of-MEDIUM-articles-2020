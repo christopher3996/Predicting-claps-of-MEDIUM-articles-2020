{
  "nbformat": 4,
  "nbformat_minor": 0,
  "metadata": {
    "colab": {
      "name": "ADAMS.ipynb",
      "provenance": [],
      "collapsed_sections": [],
      "authorship_tag": "ABX9TyNOIJ/TK/9DETevue+Xtz5J",
      "include_colab_link": true
    },
    "kernelspec": {
      "name": "python3",
      "display_name": "Python 3"
    }
  },
  "cells": [
    {
      "cell_type": "markdown",
      "metadata": {
        "id": "view-in-github",
        "colab_type": "text"
      },
      "source": [
        "<a href=\"https://colab.research.google.com/github/christopher3996/Predicting-claps-of-MEDIUM-articles-2020/blob/master/ML_clap_prediction.ipynb\" target=\"_parent\"><img src=\"https://colab.research.google.com/assets/colab-badge.svg\" alt=\"Open In Colab\"/></a>"
      ]
    },
    {
      "cell_type": "markdown",
      "metadata": {
        "id": "NjVCccQiu-P1",
        "colab_type": "text"
      },
      "source": [
        "# **Predicting claps of MEDIUM articles 2020**\n",
        "## *Advanced Data Analytics for Management Support*\n",
        "### *Christopher Gerling - Humboldt University of Berlin*"
      ]
    },
    {
      "cell_type": "markdown",
      "metadata": {
        "id": "EhSpXUu8zpn2",
        "colab_type": "text"
      },
      "source": [
        "This notebook provides a modern approach for predicting the number of claps a MEDIUM article is going to reach after publication. The model uses both methods of NLP (including Word2Vec embeddings) and general feedforward neural networks. As a main package for machine learning, the *sklearn* tools will be applied to model a ML regession."
      ]
    },
    {
      "cell_type": "markdown",
      "metadata": {
        "id": "IgRLozTCvLfv",
        "colab_type": "text"
      },
      "source": [
        "# 1. Data Loading"
      ]
    },
    {
      "cell_type": "code",
      "metadata": {
        "id": "zqXgwndMu5jV",
        "colab_type": "code",
        "colab": {}
      },
      "source": [
        "# connect to Google Drive\n",
        "from google.colab import drive\n",
        "drive.mount(\"/content/gdrive\")"
      ],
      "execution_count": null,
      "outputs": []
    },
    {
      "cell_type": "code",
      "metadata": {
        "id": "1lg-zMyj0TWM",
        "colab_type": "code",
        "colab": {}
      },
      "source": [
        "# import libraries\n",
        "import numpy as np\n",
        "import pandas as pd\n",
        "from datetime import datetime\n",
        "import matplotlib.pyplot as plt\n",
        "from tqdm import tqdm\n",
        "from sklearn.preprocessing import PowerTransformer\n",
        "import pickle\n",
        "import warnings\n",
        "from IPython.display import Image\n",
        "\n",
        "# settings\n",
        "warnings.filterwarnings(\"ignore\")\n",
        "%matplotlib inline\n"
      ],
      "execution_count": null,
      "outputs": []
    },
    {
      "cell_type": "markdown",
      "metadata": {
        "id": "Qz2PScyzzSYT",
        "colab_type": "text"
      },
      "source": [
        "## 1.1. Read CSV files as Data Frames\n"
      ]
    },
    {
      "cell_type": "code",
      "metadata": {
        "id": "ze5YfylCyDlo",
        "colab_type": "code",
        "colab": {}
      },
      "source": [
        "# training data\n",
        "df_train = pd.read_csv(\"gdrive/My Drive/Adams Assignment/Train.csv\", sep=\",\") \n",
        "\n",
        "# testing data\n",
        "df_test = pd.read_csv(\"gdrive/My Drive/Adams Assignment/Test.csv\", sep=\",\")    "
      ],
      "execution_count": null,
      "outputs": []
    },
    {
      "cell_type": "code",
      "metadata": {
        "id": "leLOkKwnyMvT",
        "colab_type": "code",
        "colab": {
          "base_uri": "https://localhost:8080/",
          "height": 551
        },
        "outputId": "22cb8f5b-4a8b-454b-a85a-23d38789d465"
      },
      "source": [
        "# check train data frame\n",
        "df_train.head()"
      ],
      "execution_count": null,
      "outputs": [
        {
          "output_type": "execute_result",
          "data": {
            "text/html": [
              "<div>\n",
              "<style scoped>\n",
              "    .dataframe tbody tr th:only-of-type {\n",
              "        vertical-align: middle;\n",
              "    }\n",
              "\n",
              "    .dataframe tbody tr th {\n",
              "        vertical-align: top;\n",
              "    }\n",
              "\n",
              "    .dataframe thead th {\n",
              "        text-align: right;\n",
              "    }\n",
              "</style>\n",
              "<table border=\"1\" class=\"dataframe\">\n",
              "  <thead>\n",
              "    <tr style=\"text-align: right;\">\n",
              "      <th></th>\n",
              "      <th>audioVersionDurationSec</th>\n",
              "      <th>codeBlock</th>\n",
              "      <th>codeBlockCount</th>\n",
              "      <th>collectionId</th>\n",
              "      <th>createdDate</th>\n",
              "      <th>createdDatetime</th>\n",
              "      <th>firstPublishedDate</th>\n",
              "      <th>firstPublishedDatetime</th>\n",
              "      <th>imageCount</th>\n",
              "      <th>isSubscriptionLocked</th>\n",
              "      <th>language</th>\n",
              "      <th>latestPublishedDate</th>\n",
              "      <th>latestPublishedDatetime</th>\n",
              "      <th>linksCount</th>\n",
              "      <th>postId</th>\n",
              "      <th>readingTime</th>\n",
              "      <th>recommends</th>\n",
              "      <th>responsesCreatedCount</th>\n",
              "      <th>socialRecommendsCount</th>\n",
              "      <th>subTitle</th>\n",
              "      <th>tagsCount</th>\n",
              "      <th>text</th>\n",
              "      <th>title</th>\n",
              "      <th>totalClapCount</th>\n",
              "      <th>uniqueSlug</th>\n",
              "      <th>updatedDate</th>\n",
              "      <th>updatedDatetime</th>\n",
              "      <th>url</th>\n",
              "      <th>vote</th>\n",
              "      <th>wordCount</th>\n",
              "      <th>publicationdescription</th>\n",
              "      <th>publicationdomain</th>\n",
              "      <th>publicationfacebookPageName</th>\n",
              "      <th>publicationfollowerCount</th>\n",
              "      <th>publicationname</th>\n",
              "      <th>publicationpublicEmail</th>\n",
              "      <th>publicationslug</th>\n",
              "      <th>publicationtags</th>\n",
              "      <th>publicationtwitterUsername</th>\n",
              "      <th>tag_name</th>\n",
              "      <th>slug</th>\n",
              "      <th>name</th>\n",
              "      <th>postCount</th>\n",
              "      <th>author</th>\n",
              "      <th>bio</th>\n",
              "      <th>userId</th>\n",
              "      <th>userName</th>\n",
              "      <th>usersFollowedByCount</th>\n",
              "      <th>usersFollowedCount</th>\n",
              "      <th>scrappedDate</th>\n",
              "    </tr>\n",
              "  </thead>\n",
              "  <tbody>\n",
              "    <tr>\n",
              "      <th>0</th>\n",
              "      <td>0</td>\n",
              "      <td>NaN</td>\n",
              "      <td>0.0</td>\n",
              "      <td>638f418c8464</td>\n",
              "      <td>2018-09-18</td>\n",
              "      <td>2018-09-18 20:55:34</td>\n",
              "      <td>2018-09-18</td>\n",
              "      <td>2018-09-18 20:57:03</td>\n",
              "      <td>1</td>\n",
              "      <td>False</td>\n",
              "      <td>en</td>\n",
              "      <td>2018-09-18</td>\n",
              "      <td>2018-09-18 20:58:20</td>\n",
              "      <td>1</td>\n",
              "      <td>10007d3018fe</td>\n",
              "      <td>0.958491</td>\n",
              "      <td>2</td>\n",
              "      <td>0</td>\n",
              "      <td>0</td>\n",
              "      <td>A major private IT company implements blockcha...</td>\n",
              "      <td>5</td>\n",
              "      <td>Private Business, Government and Blockchain\\n\\...</td>\n",
              "      <td>Private Business, Government and Blockchain</td>\n",
              "      <td>100</td>\n",
              "      <td>private-business-government-and-blockchain-100...</td>\n",
              "      <td>2018-09-18</td>\n",
              "      <td>2018-09-18 20:58:20</td>\n",
              "      <td>https://medium.com/s/story/private-business-go...</td>\n",
              "      <td>False</td>\n",
              "      <td>201</td>\n",
              "      <td>ICOBox is the first and the biggest new genera...</td>\n",
              "      <td>NaN</td>\n",
              "      <td>icobox.io</td>\n",
              "      <td>NaN</td>\n",
              "      <td>ICOBox</td>\n",
              "      <td>support@icobox.io</td>\n",
              "      <td>icobox-io</td>\n",
              "      <td>BLOCKCHAIN,ICO,ETHEREUM,ETHEREUM BLOCKCHAIN,TO...</td>\n",
              "      <td>icobox_io</td>\n",
              "      <td>Blockchain</td>\n",
              "      <td>blockchain</td>\n",
              "      <td>Blockchain</td>\n",
              "      <td>265164.0</td>\n",
              "      <td>Anar Babaev</td>\n",
              "      <td>NaN</td>\n",
              "      <td>f1ad85af0169</td>\n",
              "      <td>babaevanar</td>\n",
              "      <td>450.0</td>\n",
              "      <td>404.0</td>\n",
              "      <td>20181104</td>\n",
              "    </tr>\n",
              "    <tr>\n",
              "      <th>1</th>\n",
              "      <td>0</td>\n",
              "      <td>NaN</td>\n",
              "      <td>0.0</td>\n",
              "      <td>638f418c8464</td>\n",
              "      <td>2018-09-18</td>\n",
              "      <td>2018-09-18 20:55:34</td>\n",
              "      <td>2018-09-18</td>\n",
              "      <td>2018-09-18 20:57:03</td>\n",
              "      <td>1</td>\n",
              "      <td>False</td>\n",
              "      <td>en</td>\n",
              "      <td>2018-09-18</td>\n",
              "      <td>2018-09-18 20:58:20</td>\n",
              "      <td>1</td>\n",
              "      <td>10007d3018fe</td>\n",
              "      <td>0.958491</td>\n",
              "      <td>2</td>\n",
              "      <td>0</td>\n",
              "      <td>0</td>\n",
              "      <td>A major private IT company implements blockcha...</td>\n",
              "      <td>5</td>\n",
              "      <td>Private Business, Government and Blockchain\\n\\...</td>\n",
              "      <td>Private Business, Government and Blockchain</td>\n",
              "      <td>100</td>\n",
              "      <td>private-business-government-and-blockchain-100...</td>\n",
              "      <td>2018-09-18</td>\n",
              "      <td>2018-09-18 20:58:20</td>\n",
              "      <td>https://medium.com/s/story/private-business-go...</td>\n",
              "      <td>False</td>\n",
              "      <td>201</td>\n",
              "      <td>ICOBox is the first and the biggest new genera...</td>\n",
              "      <td>NaN</td>\n",
              "      <td>icobox.io</td>\n",
              "      <td>NaN</td>\n",
              "      <td>ICOBox</td>\n",
              "      <td>support@icobox.io</td>\n",
              "      <td>icobox-io</td>\n",
              "      <td>BLOCKCHAIN,ICO,ETHEREUM,ETHEREUM BLOCKCHAIN,TO...</td>\n",
              "      <td>icobox_io</td>\n",
              "      <td>Samsung</td>\n",
              "      <td>samsung</td>\n",
              "      <td>Samsung</td>\n",
              "      <td>5708.0</td>\n",
              "      <td>Anar Babaev</td>\n",
              "      <td>NaN</td>\n",
              "      <td>f1ad85af0169</td>\n",
              "      <td>babaevanar</td>\n",
              "      <td>450.0</td>\n",
              "      <td>404.0</td>\n",
              "      <td>20181104</td>\n",
              "    </tr>\n",
              "    <tr>\n",
              "      <th>2</th>\n",
              "      <td>0</td>\n",
              "      <td>NaN</td>\n",
              "      <td>0.0</td>\n",
              "      <td>638f418c8464</td>\n",
              "      <td>2018-09-18</td>\n",
              "      <td>2018-09-18 20:55:34</td>\n",
              "      <td>2018-09-18</td>\n",
              "      <td>2018-09-18 20:57:03</td>\n",
              "      <td>1</td>\n",
              "      <td>False</td>\n",
              "      <td>en</td>\n",
              "      <td>2018-09-18</td>\n",
              "      <td>2018-09-18 20:58:20</td>\n",
              "      <td>1</td>\n",
              "      <td>10007d3018fe</td>\n",
              "      <td>0.958491</td>\n",
              "      <td>2</td>\n",
              "      <td>0</td>\n",
              "      <td>0</td>\n",
              "      <td>A major private IT company implements blockcha...</td>\n",
              "      <td>5</td>\n",
              "      <td>Private Business, Government and Blockchain\\n\\...</td>\n",
              "      <td>Private Business, Government and Blockchain</td>\n",
              "      <td>100</td>\n",
              "      <td>private-business-government-and-blockchain-100...</td>\n",
              "      <td>2018-09-18</td>\n",
              "      <td>2018-09-18 20:58:20</td>\n",
              "      <td>https://medium.com/s/story/private-business-go...</td>\n",
              "      <td>False</td>\n",
              "      <td>201</td>\n",
              "      <td>ICOBox is the first and the biggest new genera...</td>\n",
              "      <td>NaN</td>\n",
              "      <td>icobox.io</td>\n",
              "      <td>NaN</td>\n",
              "      <td>ICOBox</td>\n",
              "      <td>support@icobox.io</td>\n",
              "      <td>icobox-io</td>\n",
              "      <td>BLOCKCHAIN,ICO,ETHEREUM,ETHEREUM BLOCKCHAIN,TO...</td>\n",
              "      <td>icobox_io</td>\n",
              "      <td>It</td>\n",
              "      <td>it</td>\n",
              "      <td>It</td>\n",
              "      <td>3720.0</td>\n",
              "      <td>Anar Babaev</td>\n",
              "      <td>NaN</td>\n",
              "      <td>f1ad85af0169</td>\n",
              "      <td>babaevanar</td>\n",
              "      <td>450.0</td>\n",
              "      <td>404.0</td>\n",
              "      <td>20181104</td>\n",
              "    </tr>\n",
              "    <tr>\n",
              "      <th>3</th>\n",
              "      <td>0</td>\n",
              "      <td>NaN</td>\n",
              "      <td>0.0</td>\n",
              "      <td>NaN</td>\n",
              "      <td>2018-01-07</td>\n",
              "      <td>2018-01-07 17:04:37</td>\n",
              "      <td>2018-01-07</td>\n",
              "      <td>2018-01-07 17:06:29</td>\n",
              "      <td>13</td>\n",
              "      <td>False</td>\n",
              "      <td>en</td>\n",
              "      <td>2018-01-07</td>\n",
              "      <td>2018-01-07 17:18:38</td>\n",
              "      <td>24</td>\n",
              "      <td>1000c43bcb97</td>\n",
              "      <td>19.716981</td>\n",
              "      <td>0</td>\n",
              "      <td>0</td>\n",
              "      <td>0</td>\n",
              "      <td>Introduction</td>\n",
              "      <td>5</td>\n",
              "      <td>EPQ draft 1 (4844 words)\\nhttps://upload.wikim...</td>\n",
              "      <td>EPQ draft 1 (4844 words)</td>\n",
              "      <td>0</td>\n",
              "      <td>introduction-3-1000c43bcb97</td>\n",
              "      <td>2018-01-07</td>\n",
              "      <td>2018-01-07 17:18:39</td>\n",
              "      <td>https://medium.com/s/story/introduction-3-1000...</td>\n",
              "      <td>False</td>\n",
              "      <td>4854</td>\n",
              "      <td>NaN</td>\n",
              "      <td>NaN</td>\n",
              "      <td>NaN</td>\n",
              "      <td>NaN</td>\n",
              "      <td>NaN</td>\n",
              "      <td>NaN</td>\n",
              "      <td>NaN</td>\n",
              "      <td>NaN</td>\n",
              "      <td>NaN</td>\n",
              "      <td>Technology</td>\n",
              "      <td>technology</td>\n",
              "      <td>Technology</td>\n",
              "      <td>166125.0</td>\n",
              "      <td>George Sykes</td>\n",
              "      <td>NaN</td>\n",
              "      <td>93b9e94f08ca</td>\n",
              "      <td>tasty231</td>\n",
              "      <td>6.0</td>\n",
              "      <td>22.0</td>\n",
              "      <td>20181104</td>\n",
              "    </tr>\n",
              "    <tr>\n",
              "      <th>4</th>\n",
              "      <td>0</td>\n",
              "      <td>NaN</td>\n",
              "      <td>0.0</td>\n",
              "      <td>NaN</td>\n",
              "      <td>2018-01-07</td>\n",
              "      <td>2018-01-07 17:04:37</td>\n",
              "      <td>2018-01-07</td>\n",
              "      <td>2018-01-07 17:06:29</td>\n",
              "      <td>13</td>\n",
              "      <td>False</td>\n",
              "      <td>en</td>\n",
              "      <td>2018-01-07</td>\n",
              "      <td>2018-01-07 17:18:38</td>\n",
              "      <td>24</td>\n",
              "      <td>1000c43bcb97</td>\n",
              "      <td>19.716981</td>\n",
              "      <td>0</td>\n",
              "      <td>0</td>\n",
              "      <td>0</td>\n",
              "      <td>Introduction</td>\n",
              "      <td>5</td>\n",
              "      <td>EPQ draft 1 (4844 words)\\nhttps://upload.wikim...</td>\n",
              "      <td>EPQ draft 1 (4844 words)</td>\n",
              "      <td>0</td>\n",
              "      <td>introduction-3-1000c43bcb97</td>\n",
              "      <td>2018-01-07</td>\n",
              "      <td>2018-01-07 17:18:39</td>\n",
              "      <td>https://medium.com/s/story/introduction-3-1000...</td>\n",
              "      <td>False</td>\n",
              "      <td>4854</td>\n",
              "      <td>NaN</td>\n",
              "      <td>NaN</td>\n",
              "      <td>NaN</td>\n",
              "      <td>NaN</td>\n",
              "      <td>NaN</td>\n",
              "      <td>NaN</td>\n",
              "      <td>NaN</td>\n",
              "      <td>NaN</td>\n",
              "      <td>NaN</td>\n",
              "      <td>Robotics</td>\n",
              "      <td>robotics</td>\n",
              "      <td>Robotics</td>\n",
              "      <td>9103.0</td>\n",
              "      <td>George Sykes</td>\n",
              "      <td>NaN</td>\n",
              "      <td>93b9e94f08ca</td>\n",
              "      <td>tasty231</td>\n",
              "      <td>6.0</td>\n",
              "      <td>22.0</td>\n",
              "      <td>20181104</td>\n",
              "    </tr>\n",
              "  </tbody>\n",
              "</table>\n",
              "</div>"
            ],
            "text/plain": [
              "   audioVersionDurationSec codeBlock  ...  usersFollowedCount scrappedDate\n",
              "0                        0       NaN  ...               404.0     20181104\n",
              "1                        0       NaN  ...               404.0     20181104\n",
              "2                        0       NaN  ...               404.0     20181104\n",
              "3                        0       NaN  ...                22.0     20181104\n",
              "4                        0       NaN  ...                22.0     20181104\n",
              "\n",
              "[5 rows x 50 columns]"
            ]
          },
          "metadata": {
            "tags": []
          },
          "execution_count": 5
        }
      ]
    },
    {
      "cell_type": "code",
      "metadata": {
        "id": "vNmdcxr5Vmod",
        "colab_type": "code",
        "colab": {
          "base_uri": "https://localhost:8080/",
          "height": 306
        },
        "outputId": "e44bcb74-c41b-44ed-f7a9-55462db241dc"
      },
      "source": [
        "# check test data frame\n",
        "df_test.head()"
      ],
      "execution_count": null,
      "outputs": [
        {
          "output_type": "execute_result",
          "data": {
            "text/html": [
              "<div>\n",
              "<style scoped>\n",
              "    .dataframe tbody tr th:only-of-type {\n",
              "        vertical-align: middle;\n",
              "    }\n",
              "\n",
              "    .dataframe tbody tr th {\n",
              "        vertical-align: top;\n",
              "    }\n",
              "\n",
              "    .dataframe thead th {\n",
              "        text-align: right;\n",
              "    }\n",
              "</style>\n",
              "<table border=\"1\" class=\"dataframe\">\n",
              "  <thead>\n",
              "    <tr style=\"text-align: right;\">\n",
              "      <th></th>\n",
              "      <th>Unnamed: 0</th>\n",
              "      <th>index</th>\n",
              "      <th>Author</th>\n",
              "      <th>PublicationDetails</th>\n",
              "      <th>Responses</th>\n",
              "      <th>Header</th>\n",
              "      <th>Text</th>\n",
              "      <th>Length</th>\n",
              "    </tr>\n",
              "  </thead>\n",
              "  <tbody>\n",
              "    <tr>\n",
              "      <th>0</th>\n",
              "      <td>0</td>\n",
              "      <td>0</td>\n",
              "      <td>Daniel Jeffries</td>\n",
              "      <td>Daniel Jeffries in HackerNoon.comJul 31, 2017</td>\n",
              "      <td>627 responses</td>\n",
              "      <td>Why Everyone Missed the Most Mind-Blowing Feat...</td>\n",
              "      <td>There’s one incredible feature of cryptocurren...</td>\n",
              "      <td>23401</td>\n",
              "    </tr>\n",
              "    <tr>\n",
              "      <th>1</th>\n",
              "      <td>1</td>\n",
              "      <td>1</td>\n",
              "      <td>Noam Levenson</td>\n",
              "      <td>Noam Levenson in HackerNoon.comDec 6, 2017</td>\n",
              "      <td>156 responses</td>\n",
              "      <td>NEO versus Ethereum: Why NEO might be 2018’s s...</td>\n",
              "      <td>&lt;img class=\"progressiveMedia-noscript js-progr...</td>\n",
              "      <td>23972</td>\n",
              "    </tr>\n",
              "    <tr>\n",
              "      <th>2</th>\n",
              "      <td>2</td>\n",
              "      <td>2</td>\n",
              "      <td>Daniel Jeffries</td>\n",
              "      <td>Daniel Jeffries in HackerNoon.comJul 21, 2017</td>\n",
              "      <td>176 responses</td>\n",
              "      <td>The Cryptocurrency Trading Bible</td>\n",
              "      <td>So you want to trade cryptocurrency?You’ve see...</td>\n",
              "      <td>402</td>\n",
              "    </tr>\n",
              "    <tr>\n",
              "      <th>3</th>\n",
              "      <td>3</td>\n",
              "      <td>5</td>\n",
              "      <td>Haseeb Qureshi</td>\n",
              "      <td>Haseeb Qureshi in HackerNoon.comFeb 19, 2018</td>\n",
              "      <td>72 responses</td>\n",
              "      <td>Stablecoins: designing a price-stable cryptocu...</td>\n",
              "      <td>A useful currency should be a medium of exchan...</td>\n",
              "      <td>19730</td>\n",
              "    </tr>\n",
              "    <tr>\n",
              "      <th>4</th>\n",
              "      <td>4</td>\n",
              "      <td>7</td>\n",
              "      <td>William Belk</td>\n",
              "      <td>William Belk in HackerNoon.comJan 28, 2018</td>\n",
              "      <td>19 responses</td>\n",
              "      <td>Chaos vs. Order — The Cryptocurrency Dilemma</td>\n",
              "      <td>Crypto crypto crypto crypto. It’s here. It’s h...</td>\n",
              "      <td>5324</td>\n",
              "    </tr>\n",
              "  </tbody>\n",
              "</table>\n",
              "</div>"
            ],
            "text/plain": [
              "   Unnamed: 0  index  ...                                               Text Length\n",
              "0           0      0  ...  There’s one incredible feature of cryptocurren...  23401\n",
              "1           1      1  ...  <img class=\"progressiveMedia-noscript js-progr...  23972\n",
              "2           2      2  ...  So you want to trade cryptocurrency?You’ve see...    402\n",
              "3           3      5  ...  A useful currency should be a medium of exchan...  19730\n",
              "4           4      7  ...  Crypto crypto crypto crypto. It’s here. It’s h...   5324\n",
              "\n",
              "[5 rows x 8 columns]"
            ]
          },
          "metadata": {
            "tags": []
          },
          "execution_count": 6
        }
      ]
    },
    {
      "cell_type": "markdown",
      "metadata": {
        "id": "TM93nNLPVQxQ",
        "colab_type": "text"
      },
      "source": [
        "# 2. Feature Selection"
      ]
    },
    {
      "cell_type": "markdown",
      "metadata": {
        "id": "yKsew5Il12Fc",
        "colab_type": "text"
      },
      "source": [
        "# 2.1. Check for intersecting column names"
      ]
    },
    {
      "cell_type": "markdown",
      "metadata": {
        "id": "-pNBq--47BtO",
        "colab_type": "text"
      },
      "source": [
        "By taking a look at the feature names i.e. column names, it becomes obvious that the feature names of the training dataframe compared to those of the testing dataframe are not equal and hence a transformation needs to be applied."
      ]
    },
    {
      "cell_type": "code",
      "metadata": {
        "id": "LYxy467JwSgk",
        "colab_type": "code",
        "colab": {
          "base_uri": "https://localhost:8080/",
          "height": 312
        },
        "outputId": "80cec4cd-578c-4fac-af90-41e47003fd78"
      },
      "source": [
        "# check for intersecting feature names\n",
        "test_colnames = df_test.columns.values\n",
        "print(test_colnames)\n",
        "train_colnames = df_train.columns.values\n",
        "print(train_colnames)\n",
        "if np.intersect1d(train_colnames,test_colnames).size == 0:\n",
        "  print(\"\\nThere are no intersecting column names.\")"
      ],
      "execution_count": null,
      "outputs": [
        {
          "output_type": "stream",
          "text": [
            "['Unnamed: 0' 'index' 'Author' 'PublicationDetails' 'Responses' 'Header'\n",
            " 'Text' 'Length']\n",
            "['audioVersionDurationSec' 'codeBlock' 'codeBlockCount' 'collectionId'\n",
            " 'createdDate' 'createdDatetime' 'firstPublishedDate'\n",
            " 'firstPublishedDatetime' 'imageCount' 'isSubscriptionLocked' 'language'\n",
            " 'latestPublishedDate' 'latestPublishedDatetime' 'linksCount' 'postId'\n",
            " 'readingTime' 'recommends' 'responsesCreatedCount'\n",
            " 'socialRecommendsCount' 'subTitle' 'tagsCount' 'text' 'title'\n",
            " 'totalClapCount' 'uniqueSlug' 'updatedDate' 'updatedDatetime' 'url'\n",
            " 'vote' 'wordCount' 'publicationdescription' 'publicationdomain'\n",
            " 'publicationfacebookPageName' 'publicationfollowerCount'\n",
            " 'publicationname' 'publicationpublicEmail' 'publicationslug'\n",
            " 'publicationtags' 'publicationtwitterUsername' 'tag_name' 'slug' 'name'\n",
            " 'postCount' 'author' 'bio' 'userId' 'userName' 'usersFollowedByCount'\n",
            " 'usersFollowedCount' 'scrappedDate']\n",
            "\n",
            "There are no intersecting column names.\n"
          ],
          "name": "stdout"
        }
      ]
    },
    {
      "cell_type": "markdown",
      "metadata": {
        "id": "r6xN3aT5v7YW",
        "colab_type": "text"
      },
      "source": [
        "## 2.2. Final Features\n",
        "The training data set differs in its structure from the test data set. Since the final predictions will be based on the features of the test data, the superfluous features of training data set need to be harmonized. The **Index** is needed for a later mapping of the final predictions in the output file. The **Claps** are the target variable of the presented model. With **DaysPublication** the publication duration in days is measured. A column **Text** contains the title and the textual content of the articles and will be used for NLP modelling. The count of followers is given by **AuthorFollowers**. The features **TitleWordCount** and **TextWordCount** represent the length of the title and the article.\n",
        "Some of these features will be created and/or transformed in the following section for a neural network data preparation.\n",
        "\n",
        "\n"
      ]
    },
    {
      "cell_type": "markdown",
      "metadata": {
        "id": "WJUK7UNXL4qo",
        "colab_type": "text"
      },
      "source": [
        "\n",
        "Training Data | Test Data | New Column Name\n",
        "--- | --- | ---\n",
        "N/A | 'Unnamed: 0' | [drop]\n",
        "N/A | 'index' | '**Index'**\n",
        "'totalClapCount' | N/A | **'Claps'**\n",
        "'author' | 'Author' | [drop]\n",
        "'firstPublishedDate' | 'PublicationDetails' | **'DaysPublication'**\n",
        "N/A | 'Responses' | [drop]\n",
        "'title' | 'Header' | [drop]\n",
        "'text' | 'Text' | **'Text'**\n",
        "'wordCount'  | 'Length' | [drop]\n",
        "various | N/A  | [drop]\n",
        "'usersFollowedByCount'  | N/A | **'AuthorFollowers'**\n",
        "N/A  | N/A | **'TitleWordCount'**\n",
        "N/A  | N/A | **'TextWordCount'**\n",
        "\n"
      ]
    },
    {
      "cell_type": "markdown",
      "metadata": {
        "id": "UrVW4vIl4m-G",
        "colab_type": "text"
      },
      "source": [
        "## 2.3. Feature Extraction"
      ]
    },
    {
      "cell_type": "markdown",
      "metadata": {
        "id": "cXPmGG96Y3Vq",
        "colab_type": "text"
      },
      "source": [
        "### 2.3.1. Feature Extraction: *DaysPublication*"
      ]
    },
    {
      "cell_type": "code",
      "metadata": {
        "id": "hyRVhnJu8iyO",
        "colab_type": "code",
        "colab": {}
      },
      "source": [
        "# test data\n",
        "\n",
        "Details = df_test.PublicationDetails\n",
        "Dates =[]\n",
        "\n",
        "def getDateOfPublication_test():\n",
        "  months = [\"Jan \", \"Feb \", \"Mar \", \"Apr \", \"May \", \"Jun \", \"Jul \", \"Aug \", \"Sep \", \"Oct \", \"Nov \", \"Dec \"]\n",
        "\n",
        "  for cnt, det in enumerate(Details):\n",
        "    for m in months:\n",
        "      if m in det:\n",
        "        tmp = det[det.find(m):]\n",
        "        if len(tmp)<8:\n",
        "          tmp = tmp + str(\", 2019\")\n",
        "        tmp = datetime.strptime(tmp, '%b %d, %Y')\n",
        "        tmp = datetime(2019, 12, 31, 0, 0) - tmp\n",
        "        Dates.append(tmp.days)\n",
        "\n",
        "getDateOfPublication_test()\n",
        "df_test[\"DaysPublication\"]=Dates\n",
        "del Dates, Details\n"
      ],
      "execution_count": null,
      "outputs": []
    },
    {
      "cell_type": "code",
      "metadata": {
        "id": "Ls24630Endd6",
        "colab_type": "code",
        "colab": {}
      },
      "source": [
        "# train data\n",
        "\n",
        "Dates = df_train.firstPublishedDate\n",
        "Dates = [datetime(2018, 11, 4, 0, 0) - datetime.strptime(d, '%Y-%m-%d') for d in Dates]\n",
        "Dates = [d.days for d in Dates] # scraping date \n",
        "df_train[\"DaysPublication\"] = Dates\n",
        "del Dates"
      ],
      "execution_count": null,
      "outputs": []
    },
    {
      "cell_type": "markdown",
      "metadata": {
        "id": "ojgZxua_5CAQ",
        "colab_type": "text"
      },
      "source": [
        "The publication dates of training data and the testing data are not identically distributed. The training data was scraped on the 04th of November 2018 and the testing data about one year later. This bias will be treated in chapter 4.3. (Scaling). "
      ]
    },
    {
      "cell_type": "markdown",
      "metadata": {
        "id": "LLIp0dOIaurD",
        "colab_type": "text"
      },
      "source": [
        "### 2.3.2. Feature Scraping: *AuthorFollowers*"
      ]
    },
    {
      "cell_type": "markdown",
      "metadata": {
        "id": "v8_ZSYru6Lt-",
        "colab_type": "text"
      },
      "source": [
        "From a theoretical perspective, the author of an article will influence the number of claps. The popularity of an author can be approximated by his number of followers. Since the testing dataframe does neither contain this number nor the exact username, a **composite web scraping** is used to recreate this information. \n",
        "The column *PublicationDetails* consists of the author's name and the publication date. The name is extracted and a combined Google search with the author's name and the keyword \"Medium\" will return the author's profile page on Medium with a high probability. This URL is then used for extracting the number of followers from the HTML.  "
      ]
    },
    {
      "cell_type": "code",
      "metadata": {
        "id": "iNUCPoqTfXZY",
        "colab_type": "code",
        "colab": {
          "base_uri": "https://localhost:8080/",
          "height": 1000
        },
        "outputId": "8e21c2fc-627f-4f4f-8cc3-bb444f614315"
      },
      "source": [
        "# web scrape for author's followers\n",
        "\n",
        "# !pip install google\n",
        "\n",
        "from googlesearch import search \n",
        "\n",
        "Authors = [row[0:row.find(\" in \")] for row in df_test.PublicationDetails]\n",
        "Followers =[]\n",
        "\n",
        "def getAuthorFollowers():\n",
        "  months = [\"Jan\", \"Feb\", \"Mar\", \"Apr\", \"May\", \"Jun\", \"Jul\", \"Aug\", \"Sep\", \"Oct\", \"Nov\", \"Dec\"]\n",
        "\n",
        "  for cnt, auth in enumerate(Authors):\n",
        "\n",
        "    for m in months:\n",
        "      if m in auth:\n",
        "        Authors[cnt] = auth[0:auth.find(m)]\n",
        "\n",
        "    # has this author been scraped? (speed up)\n",
        "    flag = False\n",
        "    for cnt2 in range(0, cnt):\n",
        "      if auth == Authors[cnt2]:\n",
        "        Followers.append(Followers[cnt2])\n",
        "        flag = True\n",
        "        break\n",
        "\n",
        "    if flag:\n",
        "      print(Authors[cnt], Followers[cnt])\n",
        "      continue\n",
        "\n",
        "    # Google search\n",
        "    import requests\n",
        "    for g_res in search(\"Medium \" + Authors[cnt], tld='com', lang='en', num=10, start=0, stop=10, pause=2.0):\n",
        "      if \"https://medium.com/@\" in g_res:\n",
        "        page = requests.get(g_res)\n",
        "\n",
        "        index = page.text.find(\"Followers\")-9\n",
        "        if index<0:\n",
        "          continue\n",
        "        tmp =page.text[index-10:index]\n",
        "        tmp = tmp[tmp.find(\">\")+1:]\n",
        "        tmp = tmp.replace(\"K\",\"000\")\n",
        "        tmp = tmp.replace(\".\",\"\")\n",
        "        tmp = tmp.replace(\",\",\"\")\n",
        "        tmp = int(tmp)\n",
        "        Followers.append(tmp)\n",
        "        print(Authors[cnt], tmp)\n",
        "        break\n",
        "    else:\n",
        "      Followers.append(0)\n",
        "\n",
        "# apply on test data\n",
        "getAuthorFollowers()\n",
        "df_test[\"AuthorFollowers\"]=Followers    \n",
        "del Authors, Followers\n",
        "\n",
        "# train data\n",
        "df_train.rename(columns={\"usersFollowedByCount\":\"AuthorFollowers\"}, inplace=True)"
      ],
      "execution_count": null,
      "outputs": [
        {
          "output_type": "stream",
          "text": [
            "Daniel Jeffries 53000\n",
            "Noam Levenson 117000\n",
            "Daniel Jeffries 53000\n",
            "Haseeb Qureshi 193000\n",
            "William Belk 39000\n",
            "Daniel Jeffries 53000\n",
            "Coinbase 63000\n",
            "David Gilbertson 30000\n",
            "Daniel Jeffries 53000\n",
            "Indrek Lasn 23000\n",
            "Jimmy Odom 15000\n",
            "Chris Douthit 281\n",
            "Daniel van Flymen 111000\n",
            "Mohit Mamoria 116000\n",
            "Adrian Gallagher 244\n",
            "Tiffany Hayden 52000\n",
            "Michelle Leech 49\n",
            "Taylor Pearson 101000\n",
            "Flavio Lamenza 2000\n",
            "Taylor Pearson 101000\n",
            "Mohit Mamoria 116000\n",
            "Zebpay 64000\n",
            "Blake Urban 354\n",
            "Alvaro Videla 55000\n",
            "Chris Newman 55000\n",
            "Alvaro Videla 55000\n",
            "Gid M-K; Health Nerd 154000\n",
            "Alvaro Videla 55000\n",
            "Nafeez Ahmed 28000\n",
            "J. Kenji López-Alt 21000\n",
            "Corinne Kocher 795\n",
            "Michael Pollan 51000\n",
            "Brooke Siem 197000\n",
            "Kris Gage 84000\n",
            "The Aspen Institute 198000\n",
            "Elaheh Nozari 114\n",
            "Shannon Ashley 30000\n",
            "Hannah White 14000\n",
            "Gid M-K; Health Nerd 154000\n",
            "Kim Screen 24000\n",
            "Kris Gage 84000\n",
            "VeChain Foundation 105000\n",
            "TE-FOOD 31000\n",
            "Shaun Chavis 216\n",
            "Nick Jeffries 273\n",
            "Micki Seibel 13000\n",
            "Nafeez Ahmed 28000\n",
            "Vincent Bevins 33000\n",
            "TE-FOOD 31000\n",
            "Shannon Ashley 30000\n",
            "Debby Germino 197000\n",
            "Ensia 71000\n",
            "Food Republic 27000\n",
            "Shaunta Grimes 33000\n",
            "Tubik Studio 38000\n",
            "TE-FOOD 31000\n",
            "Gid M-K; Health Nerd 154000\n",
            "TE-FOOD 31000\n",
            "Ashley Daigneault 982\n",
            "Mike Lee 78000\n",
            "Matthew Gartland 1000\n",
            "Neo Ighodaro 12000\n",
            "TE-FOOD 31000\n",
            "TE-FOOD 31000\n",
            "Heather Burton 16000\n",
            "TE-FOOD 31000\n",
            "Sarah Mock 89000\n",
            "Mother Jones 9998000\n",
            "Erik Brown 25000\n",
            "TE-FOOD 31000\n",
            "Jamie Mah 549\n",
            "Darcy Reeder 41000\n",
            "TE-FOOD 31000\n",
            "TE-FOOD 31000\n",
            "erika sauter 22000\n",
            "The Beam 6000\n",
            "TE-FOOD 31000\n",
            "Nneka M. Okona 11000\n",
            "Sarah Kurchak 25000\n",
            "Mike Lee 78000\n",
            "TE-FOOD 31000\n",
            "George Li 606\n",
            "TE-FOOD 31000\n",
            "TE-FOOD 31000\n",
            "TE-FOOD 31000\n",
            "TE-FOOD 31000\n",
            "The Lily News 171000\n",
            "Zach J. Payne 51000\n",
            "Jessica Archuleta 15000\n",
            "Awful Pictures 35000\n",
            "Ted Wilson 22\n",
            "Theo Brenner-Roach 24000\n",
            "TE-FOOD 31000\n",
            "Mike Lee 78000\n",
            "Ensia 71000\n",
            "Shaunta Grimes 33000\n",
            "Shannon Ashley 30000\n",
            "Andrew Knott 5000\n",
            "Linda Horton 17000\n",
            "Zach J. Payne 51000\n",
            "Unseen Japan 22000\n",
            "TE-FOOD 31000\n",
            "TE-FOOD 31000\n",
            "Zach J. Payne 51000\n",
            "TE-FOOD 31000\n",
            "The Lily News 171000\n",
            "The Establishment 145000\n",
            "Savina van der Straten 792\n",
            "Foreign Policy 46000\n",
            "B. Michael Logan 21000\n",
            "Food Republic 27000\n",
            "Shannon Ashley 30000\n",
            "Reserve 711\n",
            "TE-FOOD 31000\n",
            "TE-FOOD 31000\n",
            "Shani Silver 88000\n",
            "Andrew Knott 5000\n",
            "Zach J. Payne 51000\n",
            "Terrye Turpin 15000\n",
            "Nicole Dieker 23000\n",
            "sweetgreen 33000\n",
            "TE-FOOD 31000\n",
            "Jeremy Puma 121000\n",
            "Impossible Foods 15000\n",
            "TE-FOOD 31000\n",
            "Lauren Howell 14000\n",
            "WWF 35000\n",
            "Soundarya Balasubramani 12000\n",
            "Impossible Foods 15000\n",
            "TE-FOOD 31000\n",
            "Food Republic 27000\n",
            "Leslie Wibberley 21000\n",
            "Jill Ettinger 816\n",
            "Lisa Renee 125000\n",
            "Saaniya Aamir 803\n",
            "TE-FOOD 31000\n",
            "Micki Seibel 13000\n",
            "OriginTrail 0\n",
            "Corevity 18000\n",
            "OriginTrail 0\n",
            "B. Michael Logan 21000\n",
            "Silvia Killingsworth 153000\n",
            "TE-FOOD 31000\n",
            "Alexey Ivanov 908\n",
            "TE-FOOD 31000\n",
            "Kitty Hannah Eden 51000\n",
            "Stark Raving 28000\n",
            "Saaniya Aamir 803\n",
            "Food Republic 27000\n",
            "TE-FOOD 31000\n",
            "TE-FOOD 31000\n",
            "TE-FOOD 31000\n",
            "Scott Stavrou 11000\n",
            "Krista Stryker 16000\n",
            "Jessica Archuleta 15000\n",
            "Ford Motor Company 182000\n",
            "Ashley Nguyen 697\n",
            "TE-FOOD 31000\n",
            "TE-FOOD 31000\n",
            "Climate Reality 179000\n",
            "Mike Lee 78000\n",
            "Kitty Hannah Eden 51000\n",
            "TE-FOOD 31000\n",
            "TE-FOOD 31000\n",
            "The Lily News 171000\n",
            "Kursat Ozenc 14000\n",
            "Nagricoin 194000\n",
            "Nagricoin 194000\n",
            "Megan Reynolds 34000\n",
            "Nicole Dieker 23000\n",
            "Sarthak Sharma 12000\n",
            "Kitty Hannah Eden 51000\n",
            "Dig Inn 12000\n",
            "Micki Seibel 13000\n",
            "The Establishment 145000\n",
            "Shaunta Grimes 33000\n",
            "Donna Barker 0\n",
            "Megan Reynolds 34000\n",
            "TomoChain Publisher 897\n",
            "TE-FOOD 31000\n",
            "Food Republic 27000\n",
            "Debby Germino 197000\n",
            "Stephen Muskett, M.S.Ed 32000\n",
            "平子／Ping ／ผิง 12000\n",
            "Donna Barker 0\n",
            "World Food Program USA 35000\n",
            "Local Futures 885\n",
            "Mantry 46000\n",
            "Micki Seibel 13000\n",
            "The Schwab Foundation for Social Entrepreneurship 41000\n",
            "Scott Stavrou 11000\n",
            "Ted Pillow 17000\n",
            "World Bank 107000\n",
            "farmdrop 889\n",
            "P2P Global Network — P2Px 196000\n",
            "Food Republic 27000\n",
            "Simon Black 288\n",
            "David Brier 167000\n",
            "Danone 18000\n",
            "Megan Reynolds 34000\n",
            "The Establishment 145000\n",
            "TE-FOOD 31000\n",
            "Ryan Scott 555\n",
            "TE-FOOD 31000\n",
            "WWF 35000\n",
            "Mike Crowley 4\n",
            "Popular Science 50000\n",
            "Dr Louis Arnoux 799\n",
            "Mantry 46000\n",
            "Airbnb Magazine Editors 898\n",
            "BULLY KING Magazine 11000\n",
            "Jill Ettinger 816\n",
            "World Food Programme 37000\n",
            "Micki Seibel 13000\n",
            "Aaron Hockley 1\n",
            "Food Republic 27000\n",
            "Erin Meyer 994\n",
            "Lana Camiel 54000\n",
            "Lana Camiel 54000\n",
            "Ellie Daforge 12000\n",
            "Tristan Harris 26000\n",
            "Kai Stinchcombe 104000\n",
            "Lance Ulanoff 25000\n",
            "Katie Jacobs Stanton 149000\n",
            "Netflix Technology Blog 96000\n",
            "Lance Ulanoff 25000\n",
            "Netflix Technology Blog 96000\n",
            "Netflix Technology Blog 96000\n",
            "Daniel Eckler 131000\n",
            "Matt Clifford 10\n",
            "Chris Dixon 150000\n",
            "TechnologyAdvice 17000\n",
            "Tomas Eglinskas 12000\n",
            "Netflix Technology Blog 96000\n",
            "Chris Moran 22000\n",
            "Jason Kowalski 17000\n",
            "RSK: Smarter Bitcoin 2000\n",
            "Vinod Khosla 56000\n",
            "Tom Scheffers 124\n",
            "Netflix Technology Blog 96000\n",
            "Netflix Technology Blog 96000\n",
            "Netflix Technology Blog 96000\n",
            "Jon Li 487\n",
            "Netflix Technology Blog 96000\n",
            "Netflix Technology Blog 96000\n",
            "Will Wang 656\n",
            "Netflix Technology Blog 96000\n",
            "Netflix Technology Blog 96000\n",
            "Netflix Technology Blog 96000\n",
            "Netflix Technology Blog 96000\n",
            "Netflix Technology Blog 96000\n",
            "Netflix Technology Blog 96000\n",
            "Netflix Technology Blog 96000\n",
            "Netflix Technology Blog 96000\n",
            "Netflix Technology Blog 96000\n",
            "Netflix Technology Blog 96000\n",
            "Netflix Technology Blog 96000\n",
            "Netflix Technology Blog 96000\n",
            "Paris  175\n",
            "Netflix Technology Blog 96000\n",
            "Netflix Technology Blog 96000\n",
            "Netflix Technology Blog 96000\n",
            "Netflix Technology Blog 96000\n",
            "Netflix Technology Blog 96000\n",
            "Netflix Technology Blog 96000\n",
            "Netflix Technology Blog 96000\n",
            "Netflix Technology Blog 96000\n",
            "Netflix Technology Blog 96000\n",
            "Netflix Technology Blog 96000\n",
            "University of Leeds 300\n",
            "Netflix Technology Blog 96000\n",
            "Netflix Technology Blog 96000\n",
            "Netflix Technology Blog 96000\n",
            "Netflix Technology Blog 96000\n",
            "Netflix Technology Blog 96000\n",
            "Netflix Technology Blog 96000\n",
            "Netflix Technology Blog 96000\n",
            "Netflix Technology Blog 96000\n",
            "Netflix Technology Blog 96000\n",
            "Netflix Technology Blog 96000\n",
            "Netflix Technology Blog 96000\n",
            "Netflix Technology Blog 96000\n",
            "Netflix Technology Blog 96000\n",
            "Netflix Technology Blog 96000\n",
            "John David Back 628\n",
            "Netflix Technology Blog 96000\n",
            "Netflix Technology Blog 96000\n",
            "Netflix Technology Blog 96000\n",
            "Netflix Technology Blog 96000\n",
            "Netflix Technology Blog 96000\n",
            "Paul Ford 83000\n",
            "Netflix Technology Blog 96000\n",
            "Netflix Technology Blog 96000\n",
            "Clark Boyd 11000\n",
            "Netflix Technology Blog 96000\n",
            "Netflix Technology Blog 96000\n",
            "Netflix Technology Blog 96000\n",
            "Girish Rawat 17000\n",
            "Netflix Technology Blog 96000\n",
            "Netflix Technology Blog 96000\n",
            "Netflix Technology Blog 96000\n",
            "Netflix Technology Blog 96000\n",
            "Netflix Technology Blog 96000\n",
            "Netflix Technology Blog 96000\n",
            "Eniac Ventures 11000\n",
            "Netflix Technology Blog 96000\n",
            "Netflix Technology Blog 96000\n",
            "Netflix Technology Blog 96000\n",
            "Netflix Technology Blog 96000\n",
            "Tristan Harris 26000\n",
            "Netflix Technology Blog 96000\n",
            "Netflix Technology Blog 96000\n",
            "Netflix Technology Blog 96000\n",
            "Subhan Nadeem 35000\n",
            "Netflix Technology Blog 96000\n",
            "Netflix Technology Blog 96000\n",
            "Netflix Technology Blog 96000\n",
            "Netflix Technology Blog 96000\n",
            "Netflix Technology Blog 96000\n",
            "Netflix Technology Blog 96000\n",
            "Netflix Technology Blog 96000\n",
            "Netflix Technology Blog 96000\n",
            "Jon Li 487\n",
            "Netflix Technology Blog 96000\n",
            "Netflix Technology Blog 96000\n",
            "Will Wang 656\n",
            "Netflix Technology Blog 96000\n",
            "Netflix Technology Blog 96000\n",
            "Netflix Technology Blog 96000\n",
            "Netflix Technology Blog 96000\n",
            "Netflix Technology Blog 96000\n",
            "Netflix Technology Blog 96000\n",
            "Netflix Technology Blog 96000\n",
            "Netflix Technology Blog 96000\n",
            "Paris  175\n",
            "Netflix Technology Blog 96000\n",
            "Netflix Technology Blog 96000\n",
            "Netflix Technology Blog 96000\n",
            "Netflix Technology Blog 96000\n",
            "Netflix Technology Blog 96000\n",
            "Netflix Technology Blog 96000\n",
            "Netflix Technology Blog 96000\n",
            "Netflix Technology Blog 96000\n",
            "Tait Brown 497000\n",
            "Sacha Greif 36000\n",
            "Michael Simmons 55000\n",
            "Ravi Shankar Rajan 0\n",
            "Netflix Technology Blog 96000\n",
            "Netflix Technology Blog 96000\n",
            "Netflix Technology Blog 96000\n",
            "Netflix Technology Blog 96000\n",
            "Netflix Technology Blog 96000\n",
            "Netflix Technology Blog 96000\n",
            "Netflix Technology Blog 96000\n",
            "John David Back 628\n",
            "Netflix Technology Blog 96000\n",
            "Sajid Rahman 24000\n",
            "Netflix Technology Blog 96000\n",
            "Netflix Technology Blog 96000\n",
            "Netflix Technology Blog 96000\n",
            "Netflix Technology Blog 96000\n",
            "Netflix Technology Blog 96000\n",
            "Netflix Technology Blog 96000\n",
            "Netflix Technology Blog 96000\n",
            "Netflix Technology Blog 96000\n",
            "Netflix Technology Blog 96000\n",
            "Netflix Technology Blog 96000\n",
            "Netflix Technology Blog 96000\n",
            "Netflix Technology Blog 96000\n",
            "Netflix Technology Blog 96000\n",
            "University of Leeds 300\n",
            "Netflix Technology Blog 96000\n",
            "Netflix Technology Blog 96000\n",
            "Netflix Technology Blog 96000\n",
            "Netflix Technology Blog 96000\n",
            "Netflix Technology Blog 96000\n",
            "Netflix Technology Blog 96000\n",
            "Netflix Technology Blog 96000\n",
            "Netflix Technology Blog 96000\n",
            "Netflix Technology Blog 96000\n",
            "Netflix Technology Blog 96000\n",
            "Netflix Technology Blog 96000\n",
            "Netflix Technology Blog 96000\n",
            "Netflix Technology Blog 96000\n",
            "Netflix Technology Blog 96000\n",
            "Netflix Technology Blog 96000\n",
            "Netflix Technology Blog 96000\n",
            "Paul Ford 83000\n",
            "Netflix Technology Blog 96000\n",
            "Netflix Technology Blog 96000\n",
            "Clark Boyd 11000\n",
            "Netflix Technology Blog 96000\n",
            "Netflix Technology Blog 96000\n",
            "Netflix Technology Blog 96000\n",
            "Girish Rawat 17000\n",
            "Netflix Technology Blog 96000\n",
            "Netflix Technology Blog 96000\n",
            "Netflix Technology Blog 96000\n",
            "Netflix Technology Blog 96000\n",
            "Netflix Technology Blog 96000\n",
            "Netflix Technology Blog 96000\n",
            "Eniac Ventures 11000\n",
            "Netflix Technology Blog 96000\n",
            "Netflix Technology Blog 96000\n",
            "Netflix Technology Blog 96000\n",
            "Netflix Technology Blog 96000\n",
            "Netflix Technology Blog 96000\n",
            "Netflix Technology Blog 96000\n",
            "Netflix Technology Blog 96000\n",
            "Narain Jashanmal 1000\n",
            "Diana Biggs 933\n",
            "Lance Ulanoff 25000\n",
            "Netflix Technology Blog 96000\n",
            "Tessa Chung 838\n",
            "Walt Schlender 13000\n",
            "Carmel DeAmicis 62000\n",
            "Netflix Technology Blog 96000\n",
            "Netflix Technology Blog 96000\n",
            "Slack API 91000\n",
            "BlockChannel 61000\n",
            "Thaddeus Howze 12000\n",
            "Netflix Technology Blog 96000\n",
            "Netflix Technology Blog 96000\n",
            "Netflix Technology Blog 96000\n",
            "Netflix Technology Blog 96000\n",
            "Netflix Technology Blog 96000\n",
            "Aeon Magazine 34000\n",
            "Netflix Technology Blog 96000\n",
            "Brad Feld 70000\n",
            "Netflix Technology Blog 96000\n",
            "Netflix Technology Blog 96000\n",
            "Netflix Technology Blog 96000\n",
            "Ethan Siegel 66000\n",
            "Netflix Technology Blog 96000\n",
            "WAX io 14000\n",
            "IoT Chain 12000\n",
            "Paul Ford 83000\n",
            "Netflix Technology Blog 96000\n",
            "Adam Fisher 904\n",
            "Netflix Technology Blog 96000\n",
            "Netflix Technology Blog 96000\n",
            "Netflix Technology Blog 96000\n",
            "Netflix Technology Blog 96000\n",
            "Netflix Technology Blog 96000\n",
            "Sarvasv Kulpati 14000\n",
            "Netflix Technology Blog 96000\n",
            "Netflix Technology Blog 96000\n",
            "Netflix Technology Blog 96000\n",
            "Esri 194000\n",
            "Netflix Technology Blog 96000\n",
            "Netflix Technology Blog 96000\n",
            "Netflix Technology Blog 96000\n",
            "Netflix Technology Blog 96000\n",
            "Peter Diamandis 53000\n",
            "Ali Mese 83000\n",
            "Shem Magnezi 68000\n",
            "Elvis Chidera 4000\n",
            "Nitesh Goel 29000\n",
            "Aytekin Tank 56000\n",
            "Eric Stromberg 57000\n",
            "Min Park 24000\n",
            "Ali Mese 83000\n",
            "Feliks Eyser 43000\n",
            "Aytekin Tank 56000\n",
            "Penny Kim 26000\n",
            "Jason Ford 15000\n",
            "Stelios Constantinides 192000\n",
            "Ali Mese 83000\n",
            "Ali Mese 83000\n",
            "Dan Kim 63000\n",
            "Startup Lab 998\n",
            "Nemil Dalal 872\n",
            "Jon Yau 86000\n",
            "Amanda Rosenberg 30000\n",
            "Jon Yau 86000\n",
            "Clifford Oravec 26000\n",
            "The Startup Journey 1\n",
            "Steve Blank 90000\n",
            "Product Hunt 191000\n",
            "Ben Weber 78000\n",
            "Arthur Attwell 1000\n",
            "Aytekin Tank 56000\n",
            "Tim Romero 14000\n",
            "Product Hunt 191000\n",
            "Joe Procopio 121000\n",
            "Winerist 21000\n",
            "Aytekin Tank 56000\n"
          ],
          "name": "stdout"
        }
      ]
    },
    {
      "cell_type": "markdown",
      "metadata": {
        "id": "3IvvnmA4bXqx",
        "colab_type": "text"
      },
      "source": [
        "### 2.3.3. Feature Extraction: *TitleWordCount*"
      ]
    },
    {
      "cell_type": "code",
      "metadata": {
        "id": "UXNApWRxL0yC",
        "colab_type": "code",
        "colab": {}
      },
      "source": [
        "def countHeaderWords(input_header):\n",
        "  tmp = input_header.split(\" \")\n",
        "  return len(tmp)\n",
        "\n",
        "# test data\n",
        "cntHeader = [countHeaderWords(str(h)) for h in df_test.Header]\n",
        "df_test[\"HeaderWordCount\"] = cntHeader\n",
        "\n",
        "# train data\n",
        "cntHeader = [countHeaderWords(str(h)) for h in df_train.title]\n",
        "df_train[\"HeaderWordCount\"] = cntHeader\n",
        "del cntHeader"
      ],
      "execution_count": null,
      "outputs": []
    },
    {
      "cell_type": "markdown",
      "metadata": {
        "id": "YuNrXbYebcCc",
        "colab_type": "text"
      },
      "source": [
        "### 2.3.4. Feature Extraction: *TextWordCount*\n",
        "The feature extraction of **TextWordCount** will be performed after the NLP preprocessing in chapter 4.5."
      ]
    },
    {
      "cell_type": "markdown",
      "metadata": {
        "id": "hG00k6indxYF",
        "colab_type": "text"
      },
      "source": [
        "## 2.4. Feature Reduction"
      ]
    },
    {
      "cell_type": "markdown",
      "metadata": {
        "id": "2HPBGFms-uet",
        "colab_type": "text"
      },
      "source": [
        "Two new dataframes **df_train_new** and **df_test_new** are created with the defined features for the prediciton model."
      ]
    },
    {
      "cell_type": "code",
      "metadata": {
        "id": "HU_9g2hhcHuq",
        "colab_type": "code",
        "colab": {
          "base_uri": "https://localhost:8080/",
          "height": 202
        },
        "outputId": "11241ccb-8d90-49f7-f470-e35d652a0740"
      },
      "source": [
        "# Create Reduced Test DataFrame\n",
        "df_test_new = df_test.loc[:,[\"index\", \"Header\", \"Text\", \"DaysPublication\", \"AuthorFollowers\",\"HeaderWordCount\"]].values\n",
        "df_test_new = pd.DataFrame(df_test_new)\n",
        "df_test_new.columns = [\"Index\",\"Header\", \"Text\", \"DaysPublication\", \"AuthorFollowers\",\"TitleWordCount\"]\n",
        "df_test_new[\"Header\"].fillna(\" \", inplace = True)   # replace missing headlines\n",
        "df_test_new[\"Text\"] = df_test_new[\"Header\"] + \" \" + df_test_new[\"Text\"]\n",
        "del df_test_new[\"Header\"] \n",
        "df_test_new.head()"
      ],
      "execution_count": null,
      "outputs": [
        {
          "output_type": "execute_result",
          "data": {
            "text/html": [
              "<div>\n",
              "<style scoped>\n",
              "    .dataframe tbody tr th:only-of-type {\n",
              "        vertical-align: middle;\n",
              "    }\n",
              "\n",
              "    .dataframe tbody tr th {\n",
              "        vertical-align: top;\n",
              "    }\n",
              "\n",
              "    .dataframe thead th {\n",
              "        text-align: right;\n",
              "    }\n",
              "</style>\n",
              "<table border=\"1\" class=\"dataframe\">\n",
              "  <thead>\n",
              "    <tr style=\"text-align: right;\">\n",
              "      <th></th>\n",
              "      <th>Index</th>\n",
              "      <th>Text</th>\n",
              "      <th>DaysPublication</th>\n",
              "      <th>AuthorFollowers</th>\n",
              "      <th>TitleWordCount</th>\n",
              "    </tr>\n",
              "  </thead>\n",
              "  <tbody>\n",
              "    <tr>\n",
              "      <th>0</th>\n",
              "      <td>0</td>\n",
              "      <td>Why Everyone Missed the Most Mind-Blowing Feat...</td>\n",
              "      <td>883</td>\n",
              "      <td>53000</td>\n",
              "      <td>9</td>\n",
              "    </tr>\n",
              "    <tr>\n",
              "      <th>1</th>\n",
              "      <td>1</td>\n",
              "      <td>NEO versus Ethereum: Why NEO might be 2018’s s...</td>\n",
              "      <td>755</td>\n",
              "      <td>117000</td>\n",
              "      <td>10</td>\n",
              "    </tr>\n",
              "    <tr>\n",
              "      <th>2</th>\n",
              "      <td>2</td>\n",
              "      <td>The Cryptocurrency Trading Bible So you want t...</td>\n",
              "      <td>893</td>\n",
              "      <td>53000</td>\n",
              "      <td>3</td>\n",
              "    </tr>\n",
              "    <tr>\n",
              "      <th>3</th>\n",
              "      <td>5</td>\n",
              "      <td>Stablecoins: designing a price-stable cryptocu...</td>\n",
              "      <td>680</td>\n",
              "      <td>193000</td>\n",
              "      <td>5</td>\n",
              "    </tr>\n",
              "    <tr>\n",
              "      <th>4</th>\n",
              "      <td>7</td>\n",
              "      <td>Chaos vs. Order — The Cryptocurrency Dilemma C...</td>\n",
              "      <td>702</td>\n",
              "      <td>39000</td>\n",
              "      <td>5</td>\n",
              "    </tr>\n",
              "  </tbody>\n",
              "</table>\n",
              "</div>"
            ],
            "text/plain": [
              "  Index  ... TitleWordCount\n",
              "0     0  ...              9\n",
              "1     1  ...             10\n",
              "2     2  ...              3\n",
              "3     5  ...              5\n",
              "4     7  ...              5\n",
              "\n",
              "[5 rows x 5 columns]"
            ]
          },
          "metadata": {
            "tags": []
          },
          "execution_count": 12
        }
      ]
    },
    {
      "cell_type": "code",
      "metadata": {
        "id": "ZW8IxCbfyZJG",
        "colab_type": "code",
        "colab": {
          "base_uri": "https://localhost:8080/",
          "height": 202
        },
        "outputId": "7ae811ec-40a9-420e-da53-1ad6f2a5f381"
      },
      "source": [
        "# Create Reduced Train DataFrame\n",
        "df_train_new = df_train.loc[:,[\"totalClapCount\", \"title\", \"text\", \"DaysPublication\", \"AuthorFollowers\",\"HeaderWordCount\"]].values\n",
        "df_train_new = pd.DataFrame(df_train_new)\n",
        "df_train_new.columns = [\"Claps\", \"Header\", \"Text\", \"DaysPublication\", \"AuthorFollowers\",\"TitleWordCount\"]\n",
        "df_train_new.Text[3]\n",
        "df_train_new[\"Text\"] = df_train_new[\"Header\"] + \" \" + df_train_new[\"Text\"]\n",
        "del df_train_new[\"Header\"] \n",
        "df_train_new.head()\n"
      ],
      "execution_count": null,
      "outputs": [
        {
          "output_type": "execute_result",
          "data": {
            "text/html": [
              "<div>\n",
              "<style scoped>\n",
              "    .dataframe tbody tr th:only-of-type {\n",
              "        vertical-align: middle;\n",
              "    }\n",
              "\n",
              "    .dataframe tbody tr th {\n",
              "        vertical-align: top;\n",
              "    }\n",
              "\n",
              "    .dataframe thead th {\n",
              "        text-align: right;\n",
              "    }\n",
              "</style>\n",
              "<table border=\"1\" class=\"dataframe\">\n",
              "  <thead>\n",
              "    <tr style=\"text-align: right;\">\n",
              "      <th></th>\n",
              "      <th>Claps</th>\n",
              "      <th>Text</th>\n",
              "      <th>DaysPublication</th>\n",
              "      <th>AuthorFollowers</th>\n",
              "      <th>TitleWordCount</th>\n",
              "    </tr>\n",
              "  </thead>\n",
              "  <tbody>\n",
              "    <tr>\n",
              "      <th>0</th>\n",
              "      <td>100</td>\n",
              "      <td>Private Business, Government and Blockchain Pr...</td>\n",
              "      <td>47</td>\n",
              "      <td>450</td>\n",
              "      <td>5</td>\n",
              "    </tr>\n",
              "    <tr>\n",
              "      <th>1</th>\n",
              "      <td>100</td>\n",
              "      <td>Private Business, Government and Blockchain Pr...</td>\n",
              "      <td>47</td>\n",
              "      <td>450</td>\n",
              "      <td>5</td>\n",
              "    </tr>\n",
              "    <tr>\n",
              "      <th>2</th>\n",
              "      <td>100</td>\n",
              "      <td>Private Business, Government and Blockchain Pr...</td>\n",
              "      <td>47</td>\n",
              "      <td>450</td>\n",
              "      <td>5</td>\n",
              "    </tr>\n",
              "    <tr>\n",
              "      <th>3</th>\n",
              "      <td>0</td>\n",
              "      <td>EPQ draft 1 (4844 words) EPQ draft 1 (4844 wor...</td>\n",
              "      <td>301</td>\n",
              "      <td>6</td>\n",
              "      <td>5</td>\n",
              "    </tr>\n",
              "    <tr>\n",
              "      <th>4</th>\n",
              "      <td>0</td>\n",
              "      <td>EPQ draft 1 (4844 words) EPQ draft 1 (4844 wor...</td>\n",
              "      <td>301</td>\n",
              "      <td>6</td>\n",
              "      <td>5</td>\n",
              "    </tr>\n",
              "  </tbody>\n",
              "</table>\n",
              "</div>"
            ],
            "text/plain": [
              "  Claps  ... TitleWordCount\n",
              "0   100  ...              5\n",
              "1   100  ...              5\n",
              "2   100  ...              5\n",
              "3     0  ...              5\n",
              "4     0  ...              5\n",
              "\n",
              "[5 rows x 5 columns]"
            ]
          },
          "metadata": {
            "tags": []
          },
          "execution_count": 33
        }
      ]
    },
    {
      "cell_type": "markdown",
      "metadata": {
        "id": "tPJ4Yjibpzcz",
        "colab_type": "text"
      },
      "source": [
        "# 3. Data Cleaning"
      ]
    },
    {
      "cell_type": "markdown",
      "metadata": {
        "id": "zkadIQhUqOwV",
        "colab_type": "text"
      },
      "source": [
        "## 3.1. Structure"
      ]
    },
    {
      "cell_type": "code",
      "metadata": {
        "id": "xUPeRcWYyUAY",
        "colab_type": "code",
        "colab": {
          "base_uri": "https://localhost:8080/",
          "height": 52
        },
        "outputId": "8270b669-a8f2-4c35-cfde-1b753c552185"
      },
      "source": [
        "#print(\"The Training Data has\" + len(df_train.index) + \" rows and \" + len(df_train.columns) + \" columns.\")\n",
        "print(\"The Training Data has %d rows and %d columns.\" %  (len(df_train_new.index), len(df_train_new.columns)))\n",
        "print(\"The Testing Data has %d rows and %d columns.\" %  (len(df_test_new.index), len(df_test_new.columns)))\n",
        "#df_train.shape"
      ],
      "execution_count": null,
      "outputs": [
        {
          "output_type": "stream",
          "text": [
            "The Training Data has 279577 rows and 5 columns.\n",
            "The Testing Data has 514 rows and 5 columns.\n"
          ],
          "name": "stdout"
        }
      ]
    },
    {
      "cell_type": "markdown",
      "metadata": {
        "id": "ia7zBDieqRim",
        "colab_type": "text"
      },
      "source": [
        "## 3.2. Remove Dublicate Values"
      ]
    },
    {
      "cell_type": "markdown",
      "metadata": {
        "id": "Pn942Gq7_LeN",
        "colab_type": "text"
      },
      "source": [
        "There are some dublicate rows in **df_train_new** due to the exclusion of the feature *tag*. In this new dataframe, the dublicate rows have no purpose anymore and can be dropped. "
      ]
    },
    {
      "cell_type": "code",
      "metadata": {
        "id": "a8xOMsGOm3pR",
        "colab_type": "code",
        "colab": {
          "base_uri": "https://localhost:8080/",
          "height": 35
        },
        "outputId": "1ade0598-040f-4994-fa83-14025ef98572"
      },
      "source": [
        "# remove dublicates in the train set\n",
        "len_before = len(df_train_new.Claps)\n",
        "df_train_new = df_train_new.drop_duplicates()\n",
        "len_after = len(df_train_new.Claps)\n",
        "print(str(len_before - len_after) + \" (\" + format(100*(len_before - len_after)/len_before, '.2f') + \"%) dublicate rows have been deleted.\")\n",
        "del len_before, len_after"
      ],
      "execution_count": null,
      "outputs": [
        {
          "output_type": "stream",
          "text": [
            "207322 (74.16%) dublicate rows have been deleted.\n"
          ],
          "name": "stdout"
        }
      ]
    },
    {
      "cell_type": "markdown",
      "metadata": {
        "id": "M40LTg9hrJ97",
        "colab_type": "text"
      },
      "source": [
        "## 3.3. Remove Missing Values"
      ]
    },
    {
      "cell_type": "code",
      "metadata": {
        "id": "n9RUcEB33brG",
        "colab_type": "code",
        "colab": {
          "base_uri": "https://localhost:8080/",
          "height": 35
        },
        "outputId": "8e97bd4b-aa14-46f9-d8ff-0e4bd9daeb2a"
      },
      "source": [
        "# drop null values\n",
        "n = df_train_new.isnull().sum()\n",
        "df_train_new = df_train_new.dropna()\n",
        "print(str(n.sum()) + \" row(s) dropped.\")"
      ],
      "execution_count": null,
      "outputs": [
        {
          "output_type": "stream",
          "text": [
            "1 row(s) dropped.\n"
          ],
          "name": "stdout"
        }
      ]
    },
    {
      "cell_type": "markdown",
      "metadata": {
        "id": "I71kklN7rV53",
        "colab_type": "text"
      },
      "source": [
        "# 4. Feature Transformation/Scaling "
      ]
    },
    {
      "cell_type": "markdown",
      "metadata": {
        "id": "F5-tcohugjX4",
        "colab_type": "text"
      },
      "source": [
        "## 4.1. NLP Preprocessing: *Text*"
      ]
    },
    {
      "cell_type": "markdown",
      "metadata": {
        "id": "k2364rJ-A98Z",
        "colab_type": "text"
      },
      "source": [
        "A literature-based approach of NLP preprocessing is performed by using regular expressions with **re** and the NLP library **nltk**. In this process, the HTML tags, links and non-alphabetic characters are deleted first. Then the lower-case text is tokenized into single words and all the english stopwords are removed. Finally a simple lemmatization operation is applied on the words. The output is a list (bag) of words for each article, stored in the column **Text**. "
      ]
    },
    {
      "cell_type": "code",
      "metadata": {
        "id": "F4_QCp1rY6kF",
        "colab_type": "code",
        "colab": {
          "base_uri": "https://localhost:8080/",
          "height": 87
        },
        "outputId": "c0867cbc-9be3-4a7b-933b-d02740705ad0"
      },
      "source": [
        "import re\n",
        "import nltk\n",
        "from nltk.tokenize import RegexpTokenizer\n",
        "from nltk.corpus import stopwords\n",
        "nltk.download('stopwords')\n",
        "from nltk.stem import WordNetLemmatizer\n",
        "nltk.download('wordnet')\n",
        "\n",
        "def nlp_preprocessing(input_data):\n",
        "\n",
        "  #remove HTML tags, Links and non-aphabetic characters\n",
        "  tmp = re.sub(r\"<[^>]*>\", \"\", input_data, flags=re.MULTILINE)\n",
        "  tmp = re.sub(r\"http\\S+\", \"\", tmp, flags=re.MULTILINE)\n",
        "  tmp = re.sub(r\"[^a-zA-Z]\", \" \", tmp, flags=re.MULTILINE)\n",
        "\n",
        "  # to lower case\n",
        "  tmp = tmp.lower()\n",
        "\n",
        "  # tokenization\n",
        "  tokenizer = RegexpTokenizer(r'\\w+')\n",
        "  tmp = tokenizer.tokenize(tmp)\n",
        "\n",
        "  # remove stopwords\n",
        "  stop_words = stopwords.words(\"english\")\n",
        "  tmp = [word for word in tmp if word not in stop_words]\n",
        "\n",
        "  # lemmatization\n",
        "  # only include words, exclude single characters\n",
        "  lemmatizer = WordNetLemmatizer()\n",
        "  tmp = [lemmatizer.lemmatize(word, pos='v') for word in tmp if len(word)>1]\n",
        "\n",
        "  return tmp"
      ],
      "execution_count": null,
      "outputs": [
        {
          "output_type": "stream",
          "text": [
            "[nltk_data] Downloading package stopwords to /root/nltk_data...\n",
            "[nltk_data]   Package stopwords is already up-to-date!\n",
            "[nltk_data] Downloading package wordnet to /root/nltk_data...\n",
            "[nltk_data]   Package wordnet is already up-to-date!\n"
          ],
          "name": "stdout"
        }
      ]
    },
    {
      "cell_type": "code",
      "metadata": {
        "id": "0RxKq7sBbXWo",
        "colab_type": "code",
        "colab": {}
      },
      "source": [
        "# apply cleaning on training data\n",
        "train_text = pd.DataFrame(df_train_new)  \n",
        "tqdm.pandas()\n",
        "df_train_new[\"Text\"] = train_text[\"Text\"].progress_apply(lambda x: nlp_preprocessing(x))\n",
        "del train_text\n"
      ],
      "execution_count": null,
      "outputs": []
    },
    {
      "cell_type": "code",
      "metadata": {
        "id": "jJsS0yALKc4A",
        "colab_type": "code",
        "colab": {}
      },
      "source": [
        "# apply cleaning on testing data\n",
        "test_text = pd.DataFrame(df_test_new)  \n",
        "tqdm.pandas()\n",
        "df_test_new[\"Text\"] = test_text[\"Text\"].progress_apply(lambda x: nlp_preprocessing(x))\n",
        "del test_text\n"
      ],
      "execution_count": null,
      "outputs": []
    },
    {
      "cell_type": "markdown",
      "metadata": {
        "id": "fBlXlfzRsKSS",
        "colab_type": "text"
      },
      "source": [
        "## 4.2. Scaling: *Claps*"
      ]
    },
    {
      "cell_type": "markdown",
      "metadata": {
        "id": "fFe5i09rCWBF",
        "colab_type": "text"
      },
      "source": [
        "In order to reduce the effect of outliers on the efficiency of the neural network(s), I define the *95-percentile* as an upper bound for the claps. Any number above will be truncated to this **upper_bound**. Afterwards, the claps are scaled by a self-defined **Min-Max-Log-Scaler**."
      ]
    },
    {
      "cell_type": "markdown",
      "metadata": {
        "id": "muRGXUqcVm_W",
        "colab_type": "text"
      },
      "source": [
        "### 4.2.1. Outlier Treatment: *Claps*"
      ]
    },
    {
      "cell_type": "code",
      "metadata": {
        "id": "HWOjDSpiVMk0",
        "colab_type": "code",
        "colab": {
          "base_uri": "https://localhost:8080/",
          "height": 35
        },
        "outputId": "a3806833-58ec-4e52-e4f8-67116c4ff35d"
      },
      "source": [
        "# getting a first intention of Claps \n",
        "print(\"The min(Claps) is \" + str(df_train_new.Claps.min()) + \" and the max(Claps) is \" + str(df_train_new.Claps.max()) + \".\")"
      ],
      "execution_count": null,
      "outputs": [
        {
          "output_type": "stream",
          "text": [
            "The min(Claps) is 0 and the max(Claps) is 291706.\n"
          ],
          "name": "stdout"
        }
      ]
    },
    {
      "cell_type": "code",
      "metadata": {
        "id": "CWns9i8XVYty",
        "colab_type": "code",
        "colab": {
          "base_uri": "https://localhost:8080/",
          "height": 265
        },
        "outputId": "34ee874c-4abd-48c5-ab94-82d26e331f19"
      },
      "source": [
        "_=plt.boxplot(df_train_new.Claps)"
      ],
      "execution_count": null,
      "outputs": [
        {
          "output_type": "display_data",
          "data": {
            "image/png": "[encoded data removed]",
            "text/plain": [
              "<Figure size 432x288 with 1 Axes>"
            ]
          },
          "metadata": {
            "tags": [],
            "needs_background": "light"
          }
        }
      ]
    },
    {
      "cell_type": "markdown",
      "metadata": {
        "id": "hQD3znLTWcpO",
        "colab_type": "text"
      },
      "source": [
        "The boxplot visualisation shows that there exist articles with a very high amount of claps. A maximum of 291706 claps has been reached by one article. In order to smooth the distribution, these outliers are truncated to the 95-percentile:"
      ]
    },
    {
      "cell_type": "code",
      "metadata": {
        "id": "wtz4BuLKZoXc",
        "colab_type": "code",
        "colab": {
          "base_uri": "https://localhost:8080/",
          "height": 52
        },
        "outputId": "8a161709-a934-49dc-dfad-c7c9f1eb2cca"
      },
      "source": [
        "# calculate the percentiles\n",
        "np.percentile(df_train_new.Claps,[0,25,50,75,90,95,99,100])"
      ],
      "execution_count": null,
      "outputs": [
        {
          "output_type": "execute_result",
          "data": {
            "text/plain": [
              "array([0.0, 0.0, 5.0, 62.0, 230.0, 509.0, 2314.470000000001, 291706.0],\n",
              "      dtype=object)"
            ]
          },
          "metadata": {
            "tags": []
          },
          "execution_count": 41
        }
      ]
    },
    {
      "cell_type": "code",
      "metadata": {
        "id": "NA0RmckuTD6G",
        "colab_type": "code",
        "colab": {}
      },
      "source": [
        "# outlier treatment\n",
        "\n",
        "# select upper bound (95-percentile)\n",
        "upper_bound = int(np.percentile(df_train_new.Claps,[95]))\n",
        "\n",
        "# truncate by setting \n",
        "df_train_new.Claps[df_train_new.Claps > upper_bound] = upper_bound"
      ],
      "execution_count": null,
      "outputs": []
    },
    {
      "cell_type": "markdown",
      "metadata": {
        "id": "P3FDRyJKX641",
        "colab_type": "text"
      },
      "source": [
        "### 4.2.2. Scaling: *Claps*\n",
        "For better results in a neural network, the target variable will be scaled by using a self-defined Min-Max-Log-Scalar, reshaping the distribution and setting the minimum to 0 and the maximum to 1."
      ]
    },
    {
      "cell_type": "code",
      "metadata": {
        "id": "pv2AMQn_UvAY",
        "colab_type": "code",
        "colab": {
          "base_uri": "https://localhost:8080/",
          "height": 265
        },
        "outputId": "3c904deb-ebfa-4b7c-ead1-befd486d7ea9"
      },
      "source": [
        "# clap transformation\n",
        "def logTransformation(c):\n",
        "  # log transformation \n",
        "  c = np.log(c+1)\n",
        "  return c\n",
        "\n",
        "def min_maxTransformation(c, max):\n",
        "  c = c / max \n",
        "  return c\n",
        "\n",
        "# apply on train data\n",
        "trans_Claps = [logTransformation(c) for c in df_train_new.Claps] \n",
        "upper_bound_log = max(trans_Claps)\n",
        "trans_Claps = [min_maxTransformation(c, upper_bound_log) for c in trans_Claps]\n",
        "plt.hist(trans_Claps)\n",
        "df_train_new[\"Claps\"] = trans_Claps\n",
        "del trans_Claps\n",
        "\n"
      ],
      "execution_count": null,
      "outputs": [
        {
          "output_type": "display_data",
          "data": {
            "image/png": "[encoded data removed]",
            "text/plain": [
              "<Figure size 432x288 with 1 Axes>"
            ]
          },
          "metadata": {
            "tags": [],
            "needs_background": "light"
          }
        }
      ]
    },
    {
      "cell_type": "code",
      "metadata": {
        "id": "L9j4N0vkyb5c",
        "colab_type": "code",
        "colab": {}
      },
      "source": [
        "# retransformation function (needed later)\n",
        "def re_Transformation_Claps(c):\n",
        "  if c<0:\n",
        "    c=0\n",
        "  c = c * upper_bound_log\n",
        "  c = np.exp(c)\n",
        "  c = c-1\n",
        "  return c"
      ],
      "execution_count": null,
      "outputs": []
    },
    {
      "cell_type": "markdown",
      "metadata": {
        "id": "PmUyfOic3yAf",
        "colab_type": "text"
      },
      "source": [
        "## 4.3. Scaling: *DaysPublication*"
      ]
    },
    {
      "cell_type": "markdown",
      "metadata": {
        "id": "oT99nCIKE8it",
        "colab_type": "text"
      },
      "source": [
        "The sklearn.preprocessing package offers a class **PowerTransformer**, that performs a Box-Cox transformation of strictly positive numeric data <center>$d_{1..n} \\in \\mathbb{R}^{+}$.</center>\n",
        "\n",
        "The advantage of Box-Cox transformation is a normal-like distribution with a mean set to 0:\n",
        "\n",
        "<center>$d_{1..n} \\sim N(0,1) $. </center>"
      ]
    },
    {
      "cell_type": "code",
      "metadata": {
        "id": "KV0Eq-0OcJ9n",
        "colab_type": "code",
        "colab": {
          "base_uri": "https://localhost:8080/",
          "height": 266
        },
        "outputId": "602b49b7-60b3-4dc2-ff85-729957e567a7"
      },
      "source": [
        "# train data\n",
        "\n",
        "from sklearn.preprocessing import PowerTransformer\n",
        "\n",
        "tmp_min = min(df_train_new.DaysPublication)\n",
        "\n",
        "tmp = [(dp - tmp_min + 1) for dp in df_train_new.DaysPublication]\n",
        "del tmp_min\n",
        "tmp = np.array(tmp)\n",
        "tmp = tmp.reshape(-1, 1)\n",
        "\n",
        "scaler_DaysPublication = PowerTransformer(method='box-cox', standardize=True, copy=True)\n",
        "scaler_DaysPublication.fit(tmp)\n",
        "df_train_new.DaysPublication = scaler_DaysPublication.transform(tmp)\n",
        "_=plt.hist(df_train_new.DaysPublication)\n"
      ],
      "execution_count": null,
      "outputs": [
        {
          "output_type": "display_data",
          "data": {
            "image/png": "[encoded data removed]",
            "text/plain": [
              "<Figure size 432x288 with 1 Axes>"
            ]
          },
          "metadata": {
            "tags": [],
            "needs_background": "light"
          }
        }
      ]
    },
    {
      "cell_type": "markdown",
      "metadata": {
        "id": "QzL6EAkSHpSB",
        "colab_type": "text"
      },
      "source": [
        "As mentioned in a previous chapter, the application of this scaler on the testing data gives biased results. One reason for this are different dates of scraping and different distributions of publication dates. Furthermore, it is not completely clear, when the testing data has been scraped. For that reason, I decided to harmonize this temporal gap by setting the latest date of publication for both data sets to $t_0$."
      ]
    },
    {
      "cell_type": "code",
      "metadata": {
        "id": "9Af6We0vivKl",
        "colab_type": "code",
        "colab": {
          "base_uri": "https://localhost:8080/",
          "height": 265
        },
        "outputId": "db46a6ad-2476-4859-fe6f-565a595a0ed4"
      },
      "source": [
        "# test data\n",
        "\n",
        "tmp_min = min(df_test_new.DaysPublication)\n",
        "\n",
        "tmp = [(dp - tmp_min + 1) for dp in df_test_new.DaysPublication]\n",
        "del tmp_min\n",
        "tmp = np.array(tmp)\n",
        "tmp = tmp.reshape(-1, 1)\n",
        "\n",
        "df_test_new.DaysPublication =scaler_DaysPublication.transform(tmp)\n",
        "_=plt.hist(df_test_new.DaysPublication)\n"
      ],
      "execution_count": null,
      "outputs": [
        {
          "output_type": "display_data",
          "data": {
            "image/png": "[encoded data removed]",
            "text/plain": [
              "<Figure size 432x288 with 1 Axes>"
            ]
          },
          "metadata": {
            "tags": [],
            "needs_background": "light"
          }
        }
      ]
    },
    {
      "cell_type": "markdown",
      "metadata": {
        "id": "GUUOndU1e1uS",
        "colab_type": "text"
      },
      "source": [
        "The testing data still shows a bias after the transformation."
      ]
    },
    {
      "cell_type": "markdown",
      "metadata": {
        "id": "8d7yPn8Te9zb",
        "colab_type": "text"
      },
      "source": [
        "## 4.4. Scaling: *AuthorFollowers*"
      ]
    },
    {
      "cell_type": "markdown",
      "metadata": {
        "id": "461AlvpDNFtd",
        "colab_type": "text"
      },
      "source": [
        "For scaling the author's followers a Box-Cox transformation by using PowerTransformer is applied, as well."
      ]
    },
    {
      "cell_type": "code",
      "metadata": {
        "id": "-e2sPnRyfHAh",
        "colab_type": "code",
        "colab": {
          "base_uri": "https://localhost:8080/",
          "height": 265
        },
        "outputId": "d5fc19b2-107f-4c26-f6a0-f58346201b66"
      },
      "source": [
        "# train data\n",
        "\n",
        "from sklearn.preprocessing import PowerTransformer\n",
        "\n",
        "tmp = [(dp+1) for dp in df_train_new.AuthorFollowers]\n",
        "tmp = np.array(tmp)\n",
        "tmp = tmp.reshape(-1, 1)\n",
        "\n",
        "scaler_AuthorFollowers = PowerTransformer(method='box-cox', standardize=True, copy=True)\n",
        "scaler_AuthorFollowers.fit(tmp)\n",
        "df_train_new.AuthorFollowers = scaler_AuthorFollowers.transform(tmp)\n",
        "_=plt.hist(df_train_new.AuthorFollowers)"
      ],
      "execution_count": null,
      "outputs": [
        {
          "output_type": "display_data",
          "data": {
            "image/png": "[encoded data removed]",
            "text/plain": [
              "<Figure size 432x288 with 1 Axes>"
            ]
          },
          "metadata": {
            "tags": [],
            "needs_background": "light"
          }
        }
      ]
    },
    {
      "cell_type": "code",
      "metadata": {
        "id": "UnMuMZGNf6ON",
        "colab_type": "code",
        "colab": {
          "base_uri": "https://localhost:8080/",
          "height": 265
        },
        "outputId": "ee5669d9-9b69-4262-eaf1-fd322b5aab0b"
      },
      "source": [
        "# test data\n",
        "\n",
        "tmp = [(dp + 1) for dp in df_test_new.AuthorFollowers]\n",
        "tmp = np.array(tmp)\n",
        "tmp = tmp.reshape(-1, 1)\n",
        "\n",
        "df_test_new.AuthorFollowers = scaler_AuthorFollowers.transform(tmp)\n",
        "_=plt.hist(df_test_new.AuthorFollowers)"
      ],
      "execution_count": null,
      "outputs": [
        {
          "output_type": "display_data",
          "data": {
            "image/png": "[encoded data removed]",
            "text/plain": [
              "<Figure size 432x288 with 1 Axes>"
            ]
          },
          "metadata": {
            "tags": [],
            "needs_background": "light"
          }
        }
      ]
    },
    {
      "cell_type": "markdown",
      "metadata": {
        "id": "-smRJBL3Ne-J",
        "colab_type": "text"
      },
      "source": [
        "The distribution of the testing data after applying the scaling is left-skewed and does not follow a normal distribution."
      ]
    },
    {
      "cell_type": "markdown",
      "metadata": {
        "id": "wUjq4jsLgmBf",
        "colab_type": "text"
      },
      "source": [
        "## 4.4. Scaling: *TitleWordCount*"
      ]
    },
    {
      "cell_type": "markdown",
      "metadata": {
        "id": "aiAI-BIDOBE-",
        "colab_type": "text"
      },
      "source": [
        "Again, the Box-Cox transformation is applied."
      ]
    },
    {
      "cell_type": "code",
      "metadata": {
        "id": "X0SDglKhguow",
        "colab_type": "code",
        "colab": {
          "base_uri": "https://localhost:8080/",
          "height": 265
        },
        "outputId": "0cf94339-bbbb-48a3-bcf2-531f793808f1"
      },
      "source": [
        "# train data\n",
        "\n",
        "from sklearn.preprocessing import PowerTransformer\n",
        "\n",
        "tmp = [(dp+1) for dp in df_train_new.TitleWordCount]\n",
        "tmp = np.array(tmp)\n",
        "tmp = tmp.reshape(-1, 1)\n",
        "\n",
        "scaler_TitleWordCount = PowerTransformer(method='box-cox', standardize=True, copy=True)\n",
        "scaler_TitleWordCount.fit(tmp)\n",
        "df_train_new.TitleWordCount = scaler_TitleWordCount.transform(tmp)\n",
        "_=plt.hist(df_train_new.TitleWordCount)"
      ],
      "execution_count": null,
      "outputs": [
        {
          "output_type": "display_data",
          "data": {
            "image/png": "[encoded data removed]",
            "text/plain": [
              "<Figure size 432x288 with 1 Axes>"
            ]
          },
          "metadata": {
            "tags": [],
            "needs_background": "light"
          }
        }
      ]
    },
    {
      "cell_type": "code",
      "metadata": {
        "id": "2wCLJzQnhABp",
        "colab_type": "code",
        "colab": {
          "base_uri": "https://localhost:8080/",
          "height": 268
        },
        "outputId": "0941385f-2dad-4b90-a392-383298828c58"
      },
      "source": [
        "# test data\n",
        "\n",
        "tmp = [(dp + 1) for dp in df_test_new.TitleWordCount]\n",
        "tmp = np.array(tmp)\n",
        "tmp = tmp.reshape(-1, 1)\n",
        "\n",
        "df_test_new.TitleWordCount = scaler_TitleWordCount.transform(tmp)\n",
        "_=plt.hist(df_test_new.TitleWordCount)"
      ],
      "execution_count": null,
      "outputs": [
        {
          "output_type": "display_data",
          "data": {
            "image/png": "[encoded data removed]",
            "text/plain": [
              "<Figure size 432x288 with 1 Axes>"
            ]
          },
          "metadata": {
            "tags": [],
            "needs_background": "light"
          }
        }
      ]
    },
    {
      "cell_type": "markdown",
      "metadata": {
        "id": "uzc5PVbHmTAd",
        "colab_type": "text"
      },
      "source": [
        "## 4.5. Additional Feature: *TextWordCount*"
      ]
    },
    {
      "cell_type": "markdown",
      "metadata": {
        "id": "jKtsWBolOLTi",
        "colab_type": "text"
      },
      "source": [
        "The feature **TextWordCount** contains the amount of words in an article after the NLP preprocessing. This number is scaled with Box-Cox transformation."
      ]
    },
    {
      "cell_type": "code",
      "metadata": {
        "id": "W1T83uJCmfiC",
        "colab_type": "code",
        "colab": {}
      },
      "source": [
        "# train data\n",
        "tmp = [len(BOW) for BOW in df_train_new.Text]\n",
        "df_train_new[\"TextWordCount\"] = tmp\n",
        "\n",
        "# test data\n",
        "tmp = [len(BOW) for BOW in df_test_new.Text]\n",
        "df_test_new[\"TextWordCount\"] = tmp"
      ],
      "execution_count": null,
      "outputs": []
    },
    {
      "cell_type": "code",
      "metadata": {
        "id": "oRCd2rt2nJTE",
        "colab_type": "code",
        "colab": {
          "base_uri": "https://localhost:8080/",
          "height": 202
        },
        "outputId": "fa935c6a-ad6d-4082-ca95-74d680062ea1"
      },
      "source": [
        "# check df\n",
        "df_train_new.head()"
      ],
      "execution_count": null,
      "outputs": [
        {
          "output_type": "execute_result",
          "data": {
            "text/html": [
              "<div>\n",
              "<style scoped>\n",
              "    .dataframe tbody tr th:only-of-type {\n",
              "        vertical-align: middle;\n",
              "    }\n",
              "\n",
              "    .dataframe tbody tr th {\n",
              "        vertical-align: top;\n",
              "    }\n",
              "\n",
              "    .dataframe thead th {\n",
              "        text-align: right;\n",
              "    }\n",
              "</style>\n",
              "<table border=\"1\" class=\"dataframe\">\n",
              "  <thead>\n",
              "    <tr style=\"text-align: right;\">\n",
              "      <th></th>\n",
              "      <th>Claps</th>\n",
              "      <th>Text</th>\n",
              "      <th>DaysPublication</th>\n",
              "      <th>AuthorFollowers</th>\n",
              "      <th>TitleWordCount</th>\n",
              "      <th>TextWordCount</th>\n",
              "    </tr>\n",
              "  </thead>\n",
              "  <tbody>\n",
              "    <tr>\n",
              "      <th>0</th>\n",
              "      <td>0.740266</td>\n",
              "      <td>[private, business, government, blockchain, pr...</td>\n",
              "      <td>-1.821598</td>\n",
              "      <td>0.841609</td>\n",
              "      <td>-0.748153</td>\n",
              "      <td>103</td>\n",
              "    </tr>\n",
              "    <tr>\n",
              "      <th>3</th>\n",
              "      <td>0.000000</td>\n",
              "      <td>[epq, draft, word, epq, draft, word, introduct...</td>\n",
              "      <td>0.789287</td>\n",
              "      <td>-0.874553</td>\n",
              "      <td>-0.748153</td>\n",
              "      <td>2499</td>\n",
              "    </tr>\n",
              "    <tr>\n",
              "      <th>7</th>\n",
              "      <td>0.000000</td>\n",
              "      <td>[ascent, data, science, sas, big, data, analys...</td>\n",
              "      <td>0.358226</td>\n",
              "      <td>-1.033736</td>\n",
              "      <td>0.979435</td>\n",
              "      <td>322</td>\n",
              "    </tr>\n",
              "    <tr>\n",
              "      <th>11</th>\n",
              "      <td>0.630665</td>\n",
              "      <td>[robot, love, us, better, another, human, robo...</td>\n",
              "      <td>0.048817</td>\n",
              "      <td>0.887861</td>\n",
              "      <td>0.727353</td>\n",
              "      <td>97</td>\n",
              "    </tr>\n",
              "    <tr>\n",
              "      <th>16</th>\n",
              "      <td>0.534486</td>\n",
              "      <td>[big, data, ai, iot, use, case, big, data, ai,...</td>\n",
              "      <td>1.285806</td>\n",
              "      <td>0.533171</td>\n",
              "      <td>0.187199</td>\n",
              "      <td>1060</td>\n",
              "    </tr>\n",
              "  </tbody>\n",
              "</table>\n",
              "</div>"
            ],
            "text/plain": [
              "       Claps  ... TextWordCount\n",
              "0   0.740266  ...           103\n",
              "3   0.000000  ...          2499\n",
              "7   0.000000  ...           322\n",
              "11  0.630665  ...            97\n",
              "16  0.534486  ...          1060\n",
              "\n",
              "[5 rows x 6 columns]"
            ]
          },
          "metadata": {
            "tags": []
          },
          "execution_count": 44
        }
      ]
    },
    {
      "cell_type": "code",
      "metadata": {
        "id": "OBcGSaGQmSMV",
        "colab_type": "code",
        "colab": {
          "base_uri": "https://localhost:8080/",
          "height": 265
        },
        "outputId": "58599992-a5a5-448e-aff5-d3ce6389ca19"
      },
      "source": [
        "# train data\n",
        "\n",
        "from sklearn.preprocessing import PowerTransformer\n",
        "\n",
        "tmp = [(dp+1) for dp in df_train_new.TextWordCount]\n",
        "tmp = np.array(tmp)\n",
        "tmp = tmp.reshape(-1, 1)\n",
        "\n",
        "scaler_TextWordCount = PowerTransformer(method='box-cox', standardize=True, copy=True)\n",
        "scaler_TextWordCount.fit(tmp)\n",
        "df_train_new.TextWordCount = scaler_TextWordCount.transform(tmp)\n",
        "_=plt.hist(df_train_new.TextWordCount)"
      ],
      "execution_count": null,
      "outputs": [
        {
          "output_type": "display_data",
          "data": {
            "image/png": "[encoded data removed]",
            "text/plain": [
              "<Figure size 432x288 with 1 Axes>"
            ]
          },
          "metadata": {
            "tags": [],
            "needs_background": "light"
          }
        }
      ]
    },
    {
      "cell_type": "code",
      "metadata": {
        "id": "oo_cfuapmdNz",
        "colab_type": "code",
        "colab": {
          "base_uri": "https://localhost:8080/",
          "height": 266
        },
        "outputId": "405b90dd-eaff-4818-cd17-06d6408f65c1"
      },
      "source": [
        "# test data\n",
        "\n",
        "tmp = [(dp + 1) for dp in df_test_new.TextWordCount]\n",
        "tmp = np.array(tmp)\n",
        "tmp = tmp.reshape(-1, 1)\n",
        "\n",
        "df_test_new.TextWordCount = scaler_TextWordCount.transform(tmp)\n",
        "_=plt.hist(df_test_new.TextWordCount)"
      ],
      "execution_count": null,
      "outputs": [
        {
          "output_type": "display_data",
          "data": {
            "image/png": "[encoded data removed]",
            "text/plain": [
              "<Figure size 432x288 with 1 Axes>"
            ]
          },
          "metadata": {
            "tags": [],
            "needs_background": "light"
          }
        }
      ]
    },
    {
      "cell_type": "markdown",
      "metadata": {
        "id": "5T-FdzmepEaJ",
        "colab_type": "text"
      },
      "source": [
        "## 4.6. Check Scaling "
      ]
    },
    {
      "cell_type": "markdown",
      "metadata": {
        "id": "y42igIL_Q_VH",
        "colab_type": "text"
      },
      "source": [
        "Now, all required features have been selected and transformed in both dataframes **df_train_new** and **df_test_new**."
      ]
    },
    {
      "cell_type": "code",
      "metadata": {
        "id": "GfmCbJAXpNkh",
        "colab_type": "code",
        "colab": {
          "base_uri": "https://localhost:8080/",
          "height": 202
        },
        "outputId": "a69ea447-b2f8-467c-a59b-af250d56792a"
      },
      "source": [
        "df_train_new.head()"
      ],
      "execution_count": null,
      "outputs": [
        {
          "output_type": "execute_result",
          "data": {
            "text/html": [
              "<div>\n",
              "<style scoped>\n",
              "    .dataframe tbody tr th:only-of-type {\n",
              "        vertical-align: middle;\n",
              "    }\n",
              "\n",
              "    .dataframe tbody tr th {\n",
              "        vertical-align: top;\n",
              "    }\n",
              "\n",
              "    .dataframe thead th {\n",
              "        text-align: right;\n",
              "    }\n",
              "</style>\n",
              "<table border=\"1\" class=\"dataframe\">\n",
              "  <thead>\n",
              "    <tr style=\"text-align: right;\">\n",
              "      <th></th>\n",
              "      <th>Claps</th>\n",
              "      <th>Text</th>\n",
              "      <th>DaysPublication</th>\n",
              "      <th>AuthorFollowers</th>\n",
              "      <th>TitleWordCount</th>\n",
              "      <th>TextWordCount</th>\n",
              "    </tr>\n",
              "  </thead>\n",
              "  <tbody>\n",
              "    <tr>\n",
              "      <th>0</th>\n",
              "      <td>0.740266</td>\n",
              "      <td>[private, business, government, blockchain, pr...</td>\n",
              "      <td>-1.821598</td>\n",
              "      <td>0.841609</td>\n",
              "      <td>-0.748153</td>\n",
              "      <td>-1.307476</td>\n",
              "    </tr>\n",
              "    <tr>\n",
              "      <th>3</th>\n",
              "      <td>0.000000</td>\n",
              "      <td>[epq, draft, word, epq, draft, word, introduct...</td>\n",
              "      <td>0.789287</td>\n",
              "      <td>-0.874553</td>\n",
              "      <td>-0.748153</td>\n",
              "      <td>2.741348</td>\n",
              "    </tr>\n",
              "    <tr>\n",
              "      <th>7</th>\n",
              "      <td>0.000000</td>\n",
              "      <td>[ascent, data, science, sas, big, data, analys...</td>\n",
              "      <td>0.358226</td>\n",
              "      <td>-1.033736</td>\n",
              "      <td>0.979435</td>\n",
              "      <td>-0.232240</td>\n",
              "    </tr>\n",
              "    <tr>\n",
              "      <th>11</th>\n",
              "      <td>0.630665</td>\n",
              "      <td>[robot, love, us, better, another, human, robo...</td>\n",
              "      <td>0.048817</td>\n",
              "      <td>0.887861</td>\n",
              "      <td>0.727353</td>\n",
              "      <td>-1.355499</td>\n",
              "    </tr>\n",
              "    <tr>\n",
              "      <th>16</th>\n",
              "      <td>0.534486</td>\n",
              "      <td>[big, data, ai, iot, use, case, big, data, ai,...</td>\n",
              "      <td>1.285806</td>\n",
              "      <td>0.533171</td>\n",
              "      <td>0.187199</td>\n",
              "      <td>1.299583</td>\n",
              "    </tr>\n",
              "  </tbody>\n",
              "</table>\n",
              "</div>"
            ],
            "text/plain": [
              "       Claps  ... TextWordCount\n",
              "0   0.740266  ...     -1.307476\n",
              "3   0.000000  ...      2.741348\n",
              "7   0.000000  ...     -0.232240\n",
              "11  0.630665  ...     -1.355499\n",
              "16  0.534486  ...      1.299583\n",
              "\n",
              "[5 rows x 6 columns]"
            ]
          },
          "metadata": {
            "tags": []
          },
          "execution_count": 59
        }
      ]
    },
    {
      "cell_type": "code",
      "metadata": {
        "id": "6cI8nkxRo-j-",
        "colab_type": "code",
        "colab": {
          "base_uri": "https://localhost:8080/",
          "height": 202
        },
        "outputId": "f5e20b40-f63d-418e-e70d-a17f69883014"
      },
      "source": [
        "df_test_new.head()"
      ],
      "execution_count": null,
      "outputs": [
        {
          "output_type": "execute_result",
          "data": {
            "text/html": [
              "<div>\n",
              "<style scoped>\n",
              "    .dataframe tbody tr th:only-of-type {\n",
              "        vertical-align: middle;\n",
              "    }\n",
              "\n",
              "    .dataframe tbody tr th {\n",
              "        vertical-align: top;\n",
              "    }\n",
              "\n",
              "    .dataframe thead th {\n",
              "        text-align: right;\n",
              "    }\n",
              "</style>\n",
              "<table border=\"1\" class=\"dataframe\">\n",
              "  <thead>\n",
              "    <tr style=\"text-align: right;\">\n",
              "      <th></th>\n",
              "      <th>Index</th>\n",
              "      <th>Text</th>\n",
              "      <th>DaysPublication</th>\n",
              "      <th>AuthorFollowers</th>\n",
              "      <th>TitleWordCount</th>\n",
              "      <th>TextWordCount</th>\n",
              "    </tr>\n",
              "  </thead>\n",
              "  <tbody>\n",
              "    <tr>\n",
              "      <th>0</th>\n",
              "      <td>0</td>\n",
              "      <td>[everyone, miss, mind, blow, feature, cryptocu...</td>\n",
              "      <td>3.182518</td>\n",
              "      <td>2.327131</td>\n",
              "      <td>0.463856</td>\n",
              "      <td>2.312811</td>\n",
              "    </tr>\n",
              "    <tr>\n",
              "      <th>1</th>\n",
              "      <td>1</td>\n",
              "      <td>[neo, versus, ethereum, neo, might, strongest,...</td>\n",
              "      <td>2.583197</td>\n",
              "      <td>2.533711</td>\n",
              "      <td>0.727353</td>\n",
              "      <td>2.388475</td>\n",
              "    </tr>\n",
              "    <tr>\n",
              "      <th>2</th>\n",
              "      <td>2</td>\n",
              "      <td>[cryptocurrency, trade, bible, want, trade, cr...</td>\n",
              "      <td>3.227319</td>\n",
              "      <td>2.327131</td>\n",
              "      <td>-1.507654</td>\n",
              "      <td>-1.934529</td>\n",
              "    </tr>\n",
              "    <tr>\n",
              "      <th>3</th>\n",
              "      <td>5</td>\n",
              "      <td>[stablecoins, design, price, stable, cryptocur...</td>\n",
              "      <td>2.205768</td>\n",
              "      <td>2.659090</td>\n",
              "      <td>-0.748153</td>\n",
              "      <td>1.977172</td>\n",
              "    </tr>\n",
              "    <tr>\n",
              "      <th>4</th>\n",
              "      <td>7</td>\n",
              "      <td>[chaos, vs, order, cryptocurrency, dilemma, cr...</td>\n",
              "      <td>2.318804</td>\n",
              "      <td>2.244319</td>\n",
              "      <td>-0.748153</td>\n",
              "      <td>0.233396</td>\n",
              "    </tr>\n",
              "  </tbody>\n",
              "</table>\n",
              "</div>"
            ],
            "text/plain": [
              "  Index  ... TextWordCount\n",
              "0     0  ...      2.312811\n",
              "1     1  ...      2.388475\n",
              "2     2  ...     -1.934529\n",
              "3     5  ...      1.977172\n",
              "4     7  ...      0.233396\n",
              "\n",
              "[5 rows x 6 columns]"
            ]
          },
          "metadata": {
            "tags": []
          },
          "execution_count": 60
        }
      ]
    },
    {
      "cell_type": "markdown",
      "metadata": {
        "id": "Vb0q-diIqI9u",
        "colab_type": "text"
      },
      "source": [
        "## 4.7. Save Backup"
      ]
    },
    {
      "cell_type": "code",
      "metadata": {
        "id": "TGno7cvW4agV",
        "colab_type": "code",
        "colab": {}
      },
      "source": [
        "# save cleaned and preprocessed dataframes\n",
        "with open('gdrive/My Drive/Adams Assignment/New Approach/df_train_new.pkl','wb') as path_name:\n",
        "    pickle.dump(df_train_new, path_name)\n",
        "\n",
        "with open('gdrive/My Drive/Adams Assignment/New Approach/df_test_new.pkl','wb') as path_name:\n",
        "    pickle.dump(df_test_new, path_name)\n",
        "\n",
        "with open('gdrive/My Drive/Adams Assignment/New Approach/upper_bound_log.pkl','wb') as path_name:\n",
        "    pickle.dump(upper_bound_log, path_name)\n"
      ],
      "execution_count": null,
      "outputs": []
    },
    {
      "cell_type": "code",
      "metadata": {
        "id": "k9JJR6Y1ZX29",
        "colab_type": "code",
        "colab": {}
      },
      "source": [
        "# load backup\n",
        "import pickle\n",
        "with open('gdrive/My Drive/Adams Assignment/New Approach/df_train_new.pkl','rb') as path_name:\n",
        "    df_train_new = pickle.load(path_name)\n",
        "\n",
        "with open('gdrive/My Drive/Adams Assignment/New Approach/df_test_new.pkl','rb') as path_name:\n",
        "    df_test_new = pickle.load(path_name)\n",
        "\n",
        "with open('gdrive/My Drive/Adams Assignment/New Approach/upper_bound_log.pkl','rb') as path_name:\n",
        "    upper_bound_log = pickle.load(path_name)"
      ],
      "execution_count": null,
      "outputs": []
    },
    {
      "cell_type": "markdown",
      "metadata": {
        "id": "FX8Hw-IJ0SLh",
        "colab_type": "text"
      },
      "source": [
        "# 5. EDA Visualization: Dependencies to Claps"
      ]
    },
    {
      "cell_type": "markdown",
      "metadata": {
        "id": "ajT8qynezYk-",
        "colab_type": "text"
      },
      "source": [
        "## 5.1. Visualization: *Claps ~ DaysPublication*"
      ]
    },
    {
      "cell_type": "code",
      "metadata": {
        "id": "bwseDWHtz8r5",
        "colab_type": "code",
        "colab": {
          "base_uri": "https://localhost:8080/",
          "height": 35
        },
        "outputId": "8b65cc6a-207d-4661-8476-7b1f3b12fc1f"
      },
      "source": [
        "df_train_new.Claps[df_train_new.Claps>1]"
      ],
      "execution_count": null,
      "outputs": [
        {
          "output_type": "execute_result",
          "data": {
            "text/plain": [
              "Series([], Name: Claps, dtype: float64)"
            ]
          },
          "metadata": {
            "tags": []
          },
          "execution_count": 117
        }
      ]
    },
    {
      "cell_type": "code",
      "metadata": {
        "id": "cQewpmMIzbE2",
        "colab_type": "code",
        "colab": {
          "base_uri": "https://localhost:8080/",
          "height": 295
        },
        "outputId": "3ca2f837-708a-4774-e708-dc2594ce1a4e"
      },
      "source": [
        "import seaborn\n",
        "# plt.figure(figsize=(w, h), dpi=d)\n",
        "seaborn.regplot(df_train_new.DaysPublication, df_train_new.Claps,scatter=True, scatter_kws={'color': 'darkgrey','alpha':0.01},line_kws={'color':'#F12B04'})\n",
        "plt.title('Scatter Plot with Regression Line: Claps ~ DaysPublication')\n",
        "plt.ylabel('Claps')\n",
        "plt.xlabel('DaysPublication')\n",
        "plt.show()"
      ],
      "execution_count": null,
      "outputs": [
        {
          "output_type": "display_data",
          "data": {
            "image/png": "[encoded data removed]",
            "text/plain": [
              "<Figure size 432x288 with 1 Axes>"
            ]
          },
          "metadata": {
            "tags": [],
            "needs_background": "light"
          }
        }
      ]
    },
    {
      "cell_type": "markdown",
      "metadata": {
        "id": "AyauxQ0H-Ryw",
        "colab_type": "text"
      },
      "source": [
        "There is a **positive trend** between DaysPublication and Claps. The assumption arises that older articles will have a higher amount of claps. "
      ]
    },
    {
      "cell_type": "markdown",
      "metadata": {
        "id": "PX1vgV23zTDI",
        "colab_type": "text"
      },
      "source": [
        "## 5.2. Visualization: *Claps ~ AuthorFollowers*"
      ]
    },
    {
      "cell_type": "code",
      "metadata": {
        "id": "_Gx-nK7fr-Ry",
        "colab_type": "code",
        "colab": {
          "base_uri": "https://localhost:8080/",
          "height": 295
        },
        "outputId": "704521c2-8cf5-445f-a9c9-1c1ae6e45538"
      },
      "source": [
        "import seaborn\n",
        "seaborn.regplot(df_train_new.AuthorFollowers, df_train_new.Claps,scatter=True, scatter_kws={'color': 'darkgrey', 'alpha':0.01},line_kws={'color':'#F12B04'})\n",
        "plt.title('Scatter Plot with Regression Line: Claps ~ AuthorFollowers')\n",
        "plt.ylabel('Claps')\n",
        "plt.xlabel('AuthorFollowers')\n",
        "plt.show()"
      ],
      "execution_count": null,
      "outputs": [
        {
          "output_type": "display_data",
          "data": {
            "image/png": "[encoded data removed]",
            "text/plain": [
              "<Figure size 432x288 with 1 Axes>"
            ]
          },
          "metadata": {
            "tags": [],
            "needs_background": "light"
          }
        }
      ]
    },
    {
      "cell_type": "markdown",
      "metadata": {
        "id": "4EK4q1YJ-8rT",
        "colab_type": "text"
      },
      "source": [
        "There is a positive trend between AuthorFollowers and Claps. It can be assumed that an author with many followers will receive more claps on his articles."
      ]
    },
    {
      "cell_type": "code",
      "metadata": {
        "id": "CWgCdWR6uDm6",
        "colab_type": "code",
        "colab": {
          "base_uri": "https://localhost:8080/",
          "height": 295
        },
        "outputId": "70a5ddb0-f885-48ae-95cb-bb23c702f5cc"
      },
      "source": [
        "plt.title('Heatmap: Claps ~ AuthorFollowers')\n",
        "plt.ylabel('Claps')\n",
        "plt.xlabel('AuthorFollowers')\n",
        "plt.hist2d(np.array(df_train_new.AuthorFollowers), np.array(df_train_new.Claps), bins=10, normed=False, cmap='plasma')\n",
        "plt.show()\n"
      ],
      "execution_count": null,
      "outputs": [
        {
          "output_type": "display_data",
          "data": {
            "image/png": "[encoded data removed]",
            "text/plain": [
              "<Figure size 432x288 with 1 Axes>"
            ]
          },
          "metadata": {
            "tags": [],
            "needs_background": "light"
          }
        }
      ]
    },
    {
      "cell_type": "markdown",
      "metadata": {
        "id": "CIf41xlN-75q",
        "colab_type": "text"
      },
      "source": [
        "The heatmap shows the composite distibution of Claps and AuthorFollowers. Authors with few followers often post articles with only few claps and the aricles with the most claps are mostly written by authors with many followers. "
      ]
    },
    {
      "cell_type": "markdown",
      "metadata": {
        "id": "cyurIEdG1Pqt",
        "colab_type": "text"
      },
      "source": [
        "## 5.3. Visualization: *Claps ~ TitleWordCount*"
      ]
    },
    {
      "cell_type": "code",
      "metadata": {
        "id": "yALeIEKl1SJW",
        "colab_type": "code",
        "colab": {
          "base_uri": "https://localhost:8080/",
          "height": 295
        },
        "outputId": "da698632-e57f-40fb-c541-86f92545b4d1"
      },
      "source": [
        "seaborn.regplot(df_train_new.TitleWordCount, df_train_new.Claps,scatter=True, scatter_kws={'color': 'darkgrey', 'alpha':0.01},line_kws={'color':'#F12B04'})\n",
        "plt.title('Scatter Plot with Regression Line: Claps ~ TitleWordCount')\n",
        "plt.ylabel('Claps')\n",
        "plt.xlabel('TitleWordCount')\n",
        "plt.show()"
      ],
      "execution_count": null,
      "outputs": [
        {
          "output_type": "display_data",
          "data": {
            "image/png": "[encoded data removed]",
            "text/plain": [
              "<Figure size 432x288 with 1 Axes>"
            ]
          },
          "metadata": {
            "tags": [],
            "needs_background": "light"
          }
        }
      ]
    },
    {
      "cell_type": "markdown",
      "metadata": {
        "id": "2hxwfFWY_qEH",
        "colab_type": "text"
      },
      "source": [
        "A slight positive trend between TitleWordCount and Claps could expected."
      ]
    },
    {
      "cell_type": "markdown",
      "metadata": {
        "id": "DYqDA3xr1y7X",
        "colab_type": "text"
      },
      "source": [
        "## 5.4. Visualization: *Claps ~ TextWordCount*"
      ]
    },
    {
      "cell_type": "code",
      "metadata": {
        "id": "QzkPWbmb11I5",
        "colab_type": "code",
        "colab": {
          "base_uri": "https://localhost:8080/",
          "height": 295
        },
        "outputId": "e12f2f7d-121c-4126-f1dc-372b66e1556f"
      },
      "source": [
        "seaborn.regplot(df_train_new.TextWordCount, df_train_new.Claps,scatter=True, scatter_kws={'color': 'darkgrey', 'alpha':0.01},line_kws={'color':'#F12B04'})\n",
        "plt.title('Scatter Plot with Regression Line: Claps ~ TextWordCount')\n",
        "plt.ylabel('Claps')\n",
        "plt.xlabel('TextWordCount')\n",
        "plt.show()"
      ],
      "execution_count": null,
      "outputs": [
        {
          "output_type": "display_data",
          "data": {
            "image/png": "[encoded data removed]",
            "text/plain": [
              "<Figure size 432x288 with 1 Axes>"
            ]
          },
          "metadata": {
            "tags": [],
            "needs_background": "light"
          }
        }
      ]
    },
    {
      "cell_type": "markdown",
      "metadata": {
        "id": "SHFZNqSr_wIA",
        "colab_type": "text"
      },
      "source": [
        "There is a strong positive trend between TextWordCount and Claps. It seems plausible that articles with many words have been written with lots of effort. This might explain a rising number of claps."
      ]
    },
    {
      "cell_type": "markdown",
      "metadata": {
        "id": "Wm5fxX8tgXp1",
        "colab_type": "text"
      },
      "source": [
        "# 6. Training Preparation\n",
        "In the later training process, a 5-fold cross validation technique will be used in order to find the best model. In the end, the final model will be tested against some additional hold-back data in a validation set. Therefore, the df_train_new is split into two data sets:\n",
        "\n",
        "<center>$     df\\rule{0.2cm}{0.15mm}train\\rule{0.2cm}{0.15mm}new=:\\left\\{\\begin{array}{ll}  df\\rule{0.2cm}{0.15mm}train\\rule{0.2cm}{0.15mm}fin, &80\\% \\\\\n",
        "         df\\rule{0.2cm}{0.15mm}val\\rule{0.2cm}{0.15mm}fin, & 20\\%\\end{array}\\right. \n",
        "$</center>"
      ]
    },
    {
      "cell_type": "code",
      "metadata": {
        "id": "IbuUOwotgcju",
        "colab_type": "code",
        "colab": {}
      },
      "source": [
        "# split data\n",
        "from sklearn import model_selection \n",
        "df_train_fin, df_val_fin = model_selection.train_test_split(df_train_new, test_size=0.20, random_state=42)"
      ],
      "execution_count": null,
      "outputs": []
    },
    {
      "cell_type": "code",
      "metadata": {
        "id": "UpEICXsR-89D",
        "colab_type": "code",
        "colab": {
          "base_uri": "https://localhost:8080/",
          "height": 52
        },
        "outputId": "4b974dd8-783c-4f8c-e86a-93cc9304484e"
      },
      "source": [
        "print(\"Training size: \" + str(len(df_train_fin)))\n",
        "print(\"Validation size: \" + str(len(df_val_fin)))"
      ],
      "execution_count": null,
      "outputs": [
        {
          "output_type": "stream",
          "text": [
            "Training size: 57803\n",
            "Validation size: 14451\n"
          ],
          "name": "stdout"
        }
      ]
    },
    {
      "cell_type": "code",
      "metadata": {
        "id": "SkJWg3uzTwQt",
        "colab_type": "code",
        "colab": {}
      },
      "source": [
        "# make copy for further working\n",
        "df_test_fin = df_test_new.copy()"
      ],
      "execution_count": null,
      "outputs": []
    },
    {
      "cell_type": "markdown",
      "metadata": {
        "id": "RzH9aAFvAK1O",
        "colab_type": "text"
      },
      "source": [
        "# 7. Model Training"
      ]
    },
    {
      "cell_type": "markdown",
      "metadata": {
        "id": "nuISWfG4XpI5",
        "colab_type": "text"
      },
      "source": [
        "In the first step, a Word2Vec model with 200 dimensions is trained on the words of the training set. After checking the effectiveness of this Word2Vec model, a DocumentVector will be created as a feature that represents the whole article. \n",
        "\n",
        "Let $\\phi(1..k)$ be called a mapping function of a regession neural network with $k$ input values and one output value, then the first MLPRegressor is trained on a feedforward neural network with\n",
        "\n",
        "<center>$Claps \\sim \\phi_1(DocumentVector[1..200])$ </center>\n",
        "\n",
        "where Claps is the regression target. Let $\\psi_{1}$ be the predicted output of the first NN. \n",
        "\n",
        "On top of this first MLPRegressor, a second neural network is trained with\n",
        "\n",
        "<center>$Claps \\sim \\phi_2(\\psi_{1}, DaysPublication, AuthorFollowers, TitleWordCount, TextWordCount)$ </center>\n",
        "\n",
        "where Claps is again the regression target and $\\psi_{2}$ is the final prediction of the second model. This stacked model architecture has been chosen, in order to minimalize the regression training error $\\varepsilon_{1}^{2}= (Claps - \\psi_{1})^{2}$ of the first model."
      ]
    },
    {
      "cell_type": "markdown",
      "metadata": {
        "id": "9MnIxF90AtW9",
        "colab_type": "text"
      },
      "source": [
        "## 7.1. Word2Vec Model"
      ]
    },
    {
      "cell_type": "markdown",
      "metadata": {
        "id": "q-8nUvcg61lA",
        "colab_type": "text"
      },
      "source": [
        "A Word2Vec analyzes textual data and transforms words into vectors with $k$ dimensions (word embeddings). In addition to the single words of the articles, a **bigram model** is trained for creating frequently used bigrams in the data. Here, only bigrams with a frequency of $q\\geq 100$ are included.\n",
        "\n",
        "The actual model training is done by the **gensim API** with an embedding size of $k=200$ dimensions. "
      ]
    },
    {
      "cell_type": "markdown",
      "metadata": {
        "id": "c9zEQuLLA_Tc",
        "colab_type": "text"
      },
      "source": [
        "### 7.1.1. Create Bigrams"
      ]
    },
    {
      "cell_type": "code",
      "metadata": {
        "id": "C88-gHzEAQjd",
        "colab_type": "code",
        "colab": {}
      },
      "source": [
        "import gensim\n",
        "from gensim.models.phrases import Phrases\n",
        "\n",
        "bigram_model = gensim.models.Phrases(df_train_fin.Text, min_count=100) #runs for 1-2 minutes"
      ],
      "execution_count": null,
      "outputs": []
    },
    {
      "cell_type": "code",
      "metadata": {
        "id": "7TyKnmCZfI3g",
        "colab_type": "code",
        "colab": {}
      },
      "source": [
        "# show all bigrams\n",
        "bigram_model.vocab"
      ],
      "execution_count": null,
      "outputs": []
    },
    {
      "cell_type": "code",
      "metadata": {
        "id": "Vazi7MCEddRU",
        "colab_type": "code",
        "colab": {}
      },
      "source": [
        "# apply bigram model to the training & validation data\n",
        "df_train_fin.Text = [bigram_model[line] for line in df_train_fin.Text]  #runs for 3 minutes\n",
        "df_val_fin.Text = [bigram_model[line] for line in df_val_fin.Text]"
      ],
      "execution_count": null,
      "outputs": []
    },
    {
      "cell_type": "code",
      "metadata": {
        "id": "ZcloQjMIEBsb",
        "colab_type": "code",
        "colab": {}
      },
      "source": [
        "# apply bigram model to the testing data\n",
        "df_test_fin.Text = [bigram_model[line] for line in df_test_fin.Text]"
      ],
      "execution_count": null,
      "outputs": []
    },
    {
      "cell_type": "code",
      "metadata": {
        "id": "Ux0mT8eqGY2u",
        "colab_type": "code",
        "colab": {
          "base_uri": "https://localhost:8080/",
          "height": 55
        },
        "outputId": "83bfb402-4cb2-4a06-ef7e-83e41e26e2f7"
      },
      "source": [
        "# check one exemplary BOW \n",
        "print(df_train_fin.Text[min(df_train_fin.index)])"
      ],
      "execution_count": null,
      "outputs": [
        {
          "output_type": "stream",
          "text": [
            "['private', 'business', 'government', 'blockchain', 'private', 'business', 'government', 'blockchain', 'major', 'private', 'company', 'implement', 'blockchain', 'artificial', 'intelligence', 'internet', 'things', 'optimize', 'improve', 'high', 'technology', 'workflow', 'representatives', 'major', 'state', 'structure', 'country', 'like', 'experiment', 'much', 'decide', 'use', 'work', 'conclude', 'agreement', 'giant', 'ideal', 'example', 'interaction', 'private', 'business', 'state', 'regard', 'blockchain', 'think', 'even', 'better', 'story', 'real', 'south', 'korea', 'local', 'customs', 'office', 'sign', 'respective', 'partnership', 'agreement', 'samsung', 'believe', 'near', 'term', 'development', 'blockchain', 'build', 'examples', 'cooperation', 'world', 'best', 'technological', 'decisions', 'copy', 'supersonic', 'speed', 'one', 'cannot', 'remain', 'behind', 'trend', 'long', 'confident', 'blockchain', 'crypto', 'technologies', 'soon', 'adopt', 'around', 'world', 'st', 'century', 'would', 'strange', 'go', 'search', 'telephone', 'booth', 'make', 'call', 'anywhere', 'planet', 'one', 'click', 'gadget']\n"
          ],
          "name": "stdout"
        }
      ]
    },
    {
      "cell_type": "markdown",
      "metadata": {
        "id": "d0M2G4rnEfHe",
        "colab_type": "text"
      },
      "source": [
        "### 7.1.2. Train W2V Model"
      ]
    },
    {
      "cell_type": "markdown",
      "metadata": {
        "id": "1EFSaV-88h-G",
        "colab_type": "text"
      },
      "source": [
        "The progress of the model training is printed out with an EpochLogger as recommended by [Kite Documentation](https://www.kite.com/python/docs/gensim.models.callbacks)."
      ]
    },
    {
      "cell_type": "code",
      "metadata": {
        "id": "npuNFTnUhk_Z",
        "colab_type": "code",
        "colab": {}
      },
      "source": [
        "# print progress\n",
        "\n",
        "from gensim.models.callbacks import CallbackAny2Vec\n",
        "class EpochLogger(CallbackAny2Vec):\n",
        "  \"\"\"Print progress of Word2Vec training to console\"\"\"\n",
        "\n",
        "  def __init__(self):\n",
        "    self.epoch = 0\n",
        "\n",
        "  def on_epoch_begin(self, model):\n",
        "    print(\"Epoch #{} start\".format(self.epoch))\n",
        "\n",
        "  def on_epoch_end(self, model):\n",
        "    print(\"Epoch #{} end\".format(self.epoch))\n",
        "    self.epoch += 1"
      ],
      "execution_count": null,
      "outputs": []
    },
    {
      "cell_type": "code",
      "metadata": {
        "id": "QeQctRTiGjGY",
        "colab_type": "code",
        "colab": {}
      },
      "source": [
        "# train W2V model with 200 dimensions\n",
        "\n",
        "from gensim.models import Word2Vec    # one and a half hours of computation\n",
        "\n",
        "epoch_logger = EpochLogger()\n",
        "\n",
        "w2v_model = Word2Vec(df_train_fin.Text, \n",
        "                 min_count=30, \n",
        "                 window=5,    \n",
        "                 iter=100,     \n",
        "                 size=200, \n",
        "                 workers=4,    \n",
        "                 callbacks=[epoch_logger])\n",
        "\n",
        "# backup\n",
        "with open('gdrive/My Drive/Adams Assignment/New Approach/w2v_model.pkl','wb') as path_name:\n",
        "    pickle.dump(w2v_model, path_name)"
      ],
      "execution_count": null,
      "outputs": []
    },
    {
      "cell_type": "code",
      "metadata": {
        "id": "Hfdr5wQFBXWU",
        "colab_type": "code",
        "colab": {}
      },
      "source": [
        "# load backup\n",
        "with open('gdrive/My Drive/Adams Assignment/New Approach/w2v_model.pkl','rb') as path_name:\n",
        "    w2v_model = pickle.load(path_name)"
      ],
      "execution_count": null,
      "outputs": []
    },
    {
      "cell_type": "markdown",
      "metadata": {
        "id": "Y_KjQJ0Wb2G9",
        "colab_type": "text"
      },
      "source": [
        "### 7.1.3. Check W2V Model"
      ]
    },
    {
      "cell_type": "code",
      "metadata": {
        "id": "QK4IAAh1Vyfd",
        "colab_type": "code",
        "colab": {
          "base_uri": "https://localhost:8080/",
          "height": 901
        },
        "outputId": "d4368067-75fb-4836-febd-97e64e868377"
      },
      "source": [
        "# example vector of the word \"data\"\n",
        "w2v_model.wv[\"data\"]"
      ],
      "execution_count": null,
      "outputs": [
        {
          "output_type": "execute_result",
          "data": {
            "text/plain": [
              "array([ 2.7391595e-01,  3.8044600e+00, -1.7215838e+00,  2.3659195e-01,\n",
              "       -2.8299406e-01, -1.1931664e+00,  3.0075574e-01, -5.7456825e-02,\n",
              "       -2.0979400e+00,  3.8263050e-01,  2.2620757e+00,  6.1452430e-01,\n",
              "        1.8120369e-02, -5.9481941e-02,  5.2750963e-01, -4.0597672e+00,\n",
              "       -5.8676252e+00,  1.4525969e+00, -1.1779889e+00,  7.1639532e-01,\n",
              "       -1.8296396e+00, -8.8170797e-01,  7.4959838e-01,  2.1699152e+00,\n",
              "        1.1579524e+00,  1.5108185e+00, -1.8592255e-02,  4.8074423e-04,\n",
              "       -1.2426616e+00, -1.7665329e+00,  1.5559815e+00, -3.7430823e+00,\n",
              "        1.2097459e+00,  2.2563641e+00,  3.6515695e-01,  1.4929160e+00,\n",
              "       -2.6334143e+00,  5.6230700e-01,  2.4246372e-02, -2.6952276e-01,\n",
              "       -4.8253262e-01, -1.0279803e+00,  5.0002604e+00,  6.7241800e-01,\n",
              "       -2.2582662e-01, -3.1265894e-01,  5.5842263e-01, -1.2210205e+00,\n",
              "        2.4649031e+00,  1.7797656e+00,  2.0256548e+00, -9.2330211e-01,\n",
              "        2.3218195e+00,  2.6495152e+00,  3.8809884e+00,  1.8341492e-01,\n",
              "       -7.9599541e-01, -2.8552645e-01, -3.1313155e+00, -1.5158714e-01,\n",
              "       -3.1437469e-01,  5.4388857e-01,  4.4268459e-01, -3.1648664e+00,\n",
              "        3.4516755e-01,  4.5955893e-01, -7.9785269e-01,  6.6061187e-01,\n",
              "       -1.5643264e+00, -1.1046399e+00, -2.9474024e-02, -1.0930792e+00,\n",
              "       -8.1140131e-01,  1.5441459e+00,  1.7251223e+00, -4.2391000e+00,\n",
              "       -1.4610552e+00, -7.3160708e-01,  1.4480004e+00,  2.7696035e+00,\n",
              "        1.5145594e+00, -1.8307418e+00,  3.5212913e-01, -7.7229363e-01,\n",
              "        3.3053216e-01,  6.4160764e-01, -5.8616507e-01,  9.9173337e-01,\n",
              "        3.5314865e+00, -1.8011684e+00,  3.5285702e-01,  1.1108627e+00,\n",
              "        6.5499145e-01, -8.0639255e-01,  9.6400416e-01, -5.8612037e-01,\n",
              "        1.9355124e+00, -2.4908495e+00,  1.7582175e-01,  5.2994484e-01,\n",
              "        6.5184683e-01, -7.1761179e-01,  1.7790037e+00, -3.5144112e+00,\n",
              "        1.7894799e-01,  3.3943958e+00,  2.4862475e+00, -4.2599864e-02,\n",
              "       -2.3309522e+00, -3.1684864e+00,  4.3845415e+00, -3.7719538e+00,\n",
              "       -8.7579244e-01,  6.9365579e-01, -2.3071496e+00, -2.7198577e-01,\n",
              "       -6.9488066e-01,  2.7938817e+00,  3.7485194e-01,  5.4817271e-01,\n",
              "       -2.3540866e+00,  2.9506848e+00,  2.5240725e-01, -6.0572833e-01,\n",
              "        6.7216259e-01,  3.6202517e+00, -4.3207985e-01,  1.3377665e+00,\n",
              "       -1.7418987e+00, -1.9391093e+00, -2.4710348e+00,  1.6730728e+00,\n",
              "        4.0427542e+00,  2.7348359e+00,  8.7757045e-01, -1.8028623e+00,\n",
              "        1.9161432e+00,  2.0845337e+00,  2.8162425e+00, -4.4369168e+00,\n",
              "        1.9004455e+00, -1.0117217e+00,  1.6450757e+00,  2.2644842e+00,\n",
              "        3.1992252e+00,  1.0531932e+00,  8.5244435e-01,  1.4043610e-01,\n",
              "        3.1033604e+00,  1.0291119e+00, -5.1206166e-01, -2.2240720e+00,\n",
              "        5.5568058e-02, -1.9188597e+00, -3.3127382e+00, -1.7868872e+00,\n",
              "       -3.5200822e-01, -4.1055608e+00, -1.9080369e-01, -6.9895941e-01,\n",
              "       -1.4644126e+00, -3.2822423e+00, -3.2421837e+00, -1.5131818e+00,\n",
              "        3.8053995e-01,  1.4621283e-02, -2.5134034e+00,  1.8190820e+00,\n",
              "       -2.5172272e-01, -1.5940119e+00, -1.4686136e+00,  1.0265282e+00,\n",
              "        2.1720602e-01, -1.3693604e+00, -1.3201246e+00,  1.1108278e+00,\n",
              "       -2.8732262e+00, -6.0074437e-01,  1.7413924e+00,  2.3435163e+00,\n",
              "       -2.3181555e+00,  4.3337913e+00, -1.9982449e+00,  3.6020994e-01,\n",
              "       -5.7027429e-01, -3.3531756e+00,  1.5557162e+00, -2.4110501e-01,\n",
              "        1.2532403e+00,  4.5777493e+00,  1.4945565e+00, -1.1576188e+00,\n",
              "       -2.3575423e+00, -2.3384871e+00,  1.6928418e+00, -1.8408847e+00,\n",
              "        1.9305418e-01,  8.6223972e-01, -9.8682819e-03,  2.4842277e-01],\n",
              "      dtype=float32)"
            ]
          },
          "metadata": {
            "tags": []
          },
          "execution_count": 11
        }
      ]
    },
    {
      "cell_type": "code",
      "metadata": {
        "id": "Brtc7gqZXiOw",
        "colab_type": "code",
        "colab": {
          "base_uri": "https://localhost:8080/",
          "height": 191
        },
        "outputId": "b1057d2b-a0f2-4135-9468-c50e38fcaa5a"
      },
      "source": [
        "# example most similar words to \"python\"\n",
        "w2v_model.wv.most_similar(\"python\")"
      ],
      "execution_count": null,
      "outputs": [
        {
          "output_type": "execute_result",
          "data": {
            "text/plain": [
              "[('java', 0.6856076717376709),\n",
              " ('javascript', 0.674173891544342),\n",
              " ('program_language', 0.6644961833953857),\n",
              " ('libraries', 0.6463199853897095),\n",
              " ('sql', 0.6296360492706299),\n",
              " ('scala', 0.6290716528892517),\n",
              " ('pandas', 0.6280615925788879),\n",
              " ('matlab', 0.6240498423576355),\n",
              " ('library', 0.6103489995002747),\n",
              " ('numpy', 0.6089557409286499)]"
            ]
          },
          "metadata": {
            "tags": []
          },
          "execution_count": 202
        }
      ]
    },
    {
      "cell_type": "code",
      "metadata": {
        "id": "a5d3ju2iYUua",
        "colab_type": "code",
        "colab": {
          "base_uri": "https://localhost:8080/",
          "height": 35
        },
        "outputId": "6f6928bc-ef1d-43f8-f02c-d739cb743ef6"
      },
      "source": [
        "# example cosine similarity of \"dog\" and \"cat\"\n",
        "print(w2v_model.wv.similarity(\"dog\", \"cat\"))"
      ],
      "execution_count": null,
      "outputs": [
        {
          "output_type": "stream",
          "text": [
            "0.8110444\n"
          ],
          "name": "stdout"
        }
      ]
    },
    {
      "cell_type": "code",
      "metadata": {
        "id": "66xjjTbTZzuS",
        "colab_type": "code",
        "colab": {
          "base_uri": "https://localhost:8080/",
          "height": 35
        },
        "outputId": "c0a56b98-c001-4f07-dfe3-2e7b18ecd984"
      },
      "source": [
        "# example of similar words containing one with an additional meaning that doesn't match\n",
        "print(w2v_model.doesnt_match([\"python\", \"dog\", \"cat\", \"bird\"]))"
      ],
      "execution_count": null,
      "outputs": [
        {
          "output_type": "stream",
          "text": [
            "python\n"
          ],
          "name": "stdout"
        }
      ]
    },
    {
      "cell_type": "markdown",
      "metadata": {
        "id": "X5oktfm_gVUm",
        "colab_type": "text"
      },
      "source": [
        "### 7.1.4. TSNE Visualization\n",
        "A popular method for visualizing a Word2Vec model is a **t-distributed stochastic neighbor embedding plot**. The algorithm is able to cluster the Word2Vec information of the high-dimensional data points. This approach reduces the number of dimensions so that it can be plotted in 2D (2 dimensions) or 3D (3 dimensions). \n",
        "In this case, I directly followed the idea and code presented by [Sergey Smetanin in 2019 in Habr](https://habr.com/en/company/mailru/blog/449984/), who uses a 2D TSNE model. Here, 10 additional most-similar words are added to the keys.\n"
      ]
    },
    {
      "cell_type": "code",
      "metadata": {
        "id": "kdqBtncofQmB",
        "colab_type": "code",
        "colab": {}
      },
      "source": [
        "# define key words and get top 10 similar words with their embeddings\n",
        "\n",
        "keys = ['paris', 'python', 'sunday', 'twitter', 'bachelor', 'delivery', 'election', 'expensive',\n",
        "        'experience', 'financial', 'food', 'ios', 'peace', 'release', 'war', 'christopher']\n",
        "\n",
        "embedding_clusters = []\n",
        "word_clusters = []\n",
        "for word in keys:\n",
        "  if word in w2v_model.wv.vocab:\n",
        "    embeddings = []\n",
        "    words = []\n",
        "    for similar_word, _ in w2v_model.most_similar(word, topn=10):\n",
        "        words.append(similar_word)\n",
        "        embeddings.append(w2v_model[similar_word])\n",
        "    embedding_clusters.append(embeddings)\n",
        "    word_clusters.append(words)"
      ],
      "execution_count": null,
      "outputs": []
    },
    {
      "cell_type": "code",
      "metadata": {
        "id": "1L5Z-Y15fn3_",
        "colab_type": "code",
        "colab": {}
      },
      "source": [
        "# train the TSNE model and transform the embeddings into 2D\n",
        "\n",
        "from sklearn.manifold import TSNE\n",
        "tsne_model_en_2d = TSNE(perplexity=15, n_components=2, init='pca', n_iter=3500, random_state=32) \n",
        "embedding_clusters = np.array(embedding_clusters)\n",
        "n, m, k = embedding_clusters.shape\n",
        "embeddings_en_2d = np.array(tsne_model_en_2d.fit_transform(embedding_clusters.reshape(n * m, k))).reshape(n, m, 2) "
      ],
      "execution_count": null,
      "outputs": []
    },
    {
      "cell_type": "code",
      "metadata": {
        "id": "NwMyDHijf33q",
        "colab_type": "code",
        "colab": {
          "base_uri": "https://localhost:8080/",
          "height": 592
        },
        "outputId": "8356e5eb-e3e0-4f3b-f9f4-a068eb0f4dcb"
      },
      "source": [
        "# create the TSNE plot\n",
        "\n",
        "import matplotlib.cm as cm\n",
        "\n",
        "# surpress warning messages\n",
        "from matplotlib.axes._axes import _log as matplotlib_axes_logger\n",
        "matplotlib_axes_logger.setLevel('ERROR')\n",
        "\n",
        "def tsne_plot_similar_words(labels, embedding_clusters, word_clusters, a=0.7):\n",
        "    plt.figure(figsize=(20, 10))\n",
        "    colors = cm.rainbow(np.linspace(0, 1, len(labels))) \n",
        "    for label, embeddings, words, color in zip(labels, embedding_clusters, word_clusters, colors):\n",
        "        x = embeddings[:,0]\n",
        "        y = embeddings[:,1]\n",
        "        plt.scatter(x, y, c=color, alpha=a, label=label)\n",
        "        for i, word in enumerate(words):\n",
        "            plt.annotate(word, alpha=0.8, xy=(x[i], y[i]), xytext=(5, 2), \n",
        "                         textcoords='offset points', ha='right', va='bottom', size=11)\n",
        "    plt.legend(loc='upper right', frameon=True, fontsize=11)\n",
        "    plt.grid(True)\n",
        "    plt.show()\n",
        "\n",
        "\n",
        "tsne_plot_similar_words(keys, embeddings_en_2d, word_clusters)"
      ],
      "execution_count": null,
      "outputs": [
        {
          "output_type": "display_data",
          "data": {
            "image/png": "[encoded data removed]",
            "text/plain": [
              "<Figure size 1440x720 with 1 Axes>"
            ]
          },
          "metadata": {
            "tags": []
          }
        }
      ]
    },
    {
      "cell_type": "markdown",
      "metadata": {
        "id": "PlbtKqdiaBEe",
        "colab_type": "text"
      },
      "source": [
        "The TSNE plot shows the predefined key word as a cluster centroid and adds the top 10 most similar words of the Word2Vec model to the plot. The clustered words appear to be sensibly chosen. For instance, the cluster key \"paris\" shows other metropolitan cities around the world and this cluster can be easily distiguished from others in the plot.  "
      ]
    },
    {
      "cell_type": "markdown",
      "metadata": {
        "id": "yVE0DnQWcB72",
        "colab_type": "text"
      },
      "source": [
        "### 7.1.5. Apply W2V Model"
      ]
    },
    {
      "cell_type": "markdown",
      "metadata": {
        "id": "7uHUPCRbywu8",
        "colab_type": "text"
      },
      "source": [
        "The final step in the Word2Vec model is the calculation of a document vector that represents a specific article with just one single vector of dimansionality $k=200$. There are different approaches to create such a document vector. The problem arises that the articles have a different number of words. \n",
        "\n",
        "In this solution the **arithmetic mean** is used as a way to consolidate the different vectors into one. It can be assumed, that a vector space with $k=200$ dimensions is sufficiently large to create enough distinction/distance between the documents. Now, similar articles will obtain a similar vector projection. \n",
        "\n",
        "For instance, an article about *data science* should me more similar to an article about *maths* than to a *political* text."
      ]
    },
    {
      "cell_type": "code",
      "metadata": {
        "id": "pcOg5kLW4EQJ",
        "colab_type": "code",
        "colab": {}
      },
      "source": [
        "# calculate document vector\n",
        "\n",
        "def calcDocMean(input_data):\n",
        "  tmp = [w2v_model.wv[word] for word in input_data if word in list(w2v_model.wv.vocab)] \n",
        "  tmp = np.array(tmp)\n",
        "\n",
        "  if len(tmp)<1:\n",
        "    return np.zeros((200,), dtype=float) \n",
        "  else: return np.nanmean(tmp.astype('float64'), axis=0)"
      ],
      "execution_count": null,
      "outputs": []
    },
    {
      "cell_type": "code",
      "metadata": {
        "id": "SMFRoZiZCkrv",
        "colab_type": "code",
        "colab": {
          "base_uri": "https://localhost:8080/",
          "height": 202
        },
        "outputId": "fb06e990-ce69-43bd-f4fd-015d9eee3729"
      },
      "source": [
        "df_train_fin.head()"
      ],
      "execution_count": null,
      "outputs": [
        {
          "output_type": "execute_result",
          "data": {
            "text/html": [
              "<div>\n",
              "<style scoped>\n",
              "    .dataframe tbody tr th:only-of-type {\n",
              "        vertical-align: middle;\n",
              "    }\n",
              "\n",
              "    .dataframe tbody tr th {\n",
              "        vertical-align: top;\n",
              "    }\n",
              "\n",
              "    .dataframe thead th {\n",
              "        text-align: right;\n",
              "    }\n",
              "</style>\n",
              "<table border=\"1\" class=\"dataframe\">\n",
              "  <thead>\n",
              "    <tr style=\"text-align: right;\">\n",
              "      <th></th>\n",
              "      <th>Claps</th>\n",
              "      <th>Text</th>\n",
              "      <th>DaysPublication</th>\n",
              "      <th>AuthorFollowers</th>\n",
              "      <th>TitleWordCount</th>\n",
              "      <th>TextWordCount</th>\n",
              "    </tr>\n",
              "  </thead>\n",
              "  <tbody>\n",
              "    <tr>\n",
              "      <th>256583</th>\n",
              "      <td>1.000000</td>\n",
              "      <td>[catch, near, future, commercial, ai, catch, n...</td>\n",
              "      <td>1.388788</td>\n",
              "      <td>0.440865</td>\n",
              "      <td>-0.104861</td>\n",
              "      <td>1.696101</td>\n",
              "    </tr>\n",
              "    <tr>\n",
              "      <th>62151</th>\n",
              "      <td>0.509760</td>\n",
              "      <td>[take, leap, data, science, take, leap, data, ...</td>\n",
              "      <td>1.477952</td>\n",
              "      <td>-0.626452</td>\n",
              "      <td>-0.415290</td>\n",
              "      <td>-0.907792</td>\n",
              "    </tr>\n",
              "    <tr>\n",
              "      <th>270177</th>\n",
              "      <td>0.826588</td>\n",
              "      <td>[compare, different, methods, achieve, sparse,...</td>\n",
              "      <td>-1.183215</td>\n",
              "      <td>1.412331</td>\n",
              "      <td>2.109287</td>\n",
              "      <td>0.804154</td>\n",
              "    </tr>\n",
              "    <tr>\n",
              "      <th>39471</th>\n",
              "      <td>0.000000</td>\n",
              "      <td>[compliance, collaboration, key, data, project...</td>\n",
              "      <td>0.258091</td>\n",
              "      <td>2.021836</td>\n",
              "      <td>0.727353</td>\n",
              "      <td>-0.337829</td>\n",
              "    </tr>\n",
              "    <tr>\n",
              "      <th>39747</th>\n",
              "      <td>0.630665</td>\n",
              "      <td>[ai, accessibility, improve, user, access, ess...</td>\n",
              "      <td>0.147001</td>\n",
              "      <td>-0.665939</td>\n",
              "      <td>0.979435</td>\n",
              "      <td>0.403703</td>\n",
              "    </tr>\n",
              "  </tbody>\n",
              "</table>\n",
              "</div>"
            ],
            "text/plain": [
              "           Claps  ... TextWordCount\n",
              "256583  1.000000  ...      1.696101\n",
              "62151   0.509760  ...     -0.907792\n",
              "270177  0.826588  ...      0.804154\n",
              "39471   0.000000  ...     -0.337829\n",
              "39747   0.630665  ...      0.403703\n",
              "\n",
              "[5 rows x 6 columns]"
            ]
          },
          "metadata": {
            "tags": []
          },
          "execution_count": 16
        }
      ]
    },
    {
      "cell_type": "code",
      "metadata": {
        "id": "oWwgZMgVzm2P",
        "colab_type": "code",
        "colab": {}
      },
      "source": [
        "# train data\n",
        "\n",
        "from tqdm import tqdm\n",
        "tqdm.pandas()\n",
        "tmp_train_doc = df_train_fin.Text.progress_apply(lambda x: calcDocMean(x))\n",
        "tmp_train_doc = [list(r) for r in tmp_train_doc]\n",
        "df_train_fin[\"DocumentVector\"] = tmp_train_doc\n",
        "del tmp_train_doc\n",
        "\n",
        "# backup\n",
        "with open('gdrive/My Drive/Adams Assignment/New Approach/df_train_fin.pkl','wb') as path_name:\n",
        "    pickle.dump(df_train_fin, path_name)"
      ],
      "execution_count": null,
      "outputs": []
    },
    {
      "cell_type": "code",
      "metadata": {
        "id": "1ewVDCpFqpZn",
        "colab_type": "code",
        "colab": {}
      },
      "source": [
        "# validation data\n",
        "\n",
        "from tqdm import tqdm\n",
        "tqdm.pandas()\n",
        "tmp_val_doc = df_val_fin.Text.progress_apply(lambda x: calcDocMean(x))\n",
        "tmp_val_doc = [list(r) for r in tmp_val_doc]\n",
        "df_val_fin[\"DocumentVector\"] = tmp_val_doc\n",
        "del tmp_val_doc\n",
        "\n",
        "# backup\n",
        "with open('gdrive/My Drive/Adams Assignment/New Approach/df_val_fin.pkl','wb') as path_name:\n",
        "    pickle.dump(df_val_fin, path_name)"
      ],
      "execution_count": null,
      "outputs": []
    },
    {
      "cell_type": "code",
      "metadata": {
        "id": "XUVs7Gzdq7zI",
        "colab_type": "code",
        "colab": {}
      },
      "source": [
        "# test data\n",
        "\n",
        "from tqdm import tqdm\n",
        "tqdm.pandas()\n",
        "tmp_test_doc = df_test_fin.Text.progress_apply(lambda x: calcDocMean(x))\n",
        "tmp_test_doc = [list(r) for r in tmp_test_doc]\n",
        "df_test_fin[\"DocumentVector\"] = tmp_test_doc\n",
        "del tmp_test_doc\n",
        "\n",
        "# backup\n",
        "with open('gdrive/My Drive/Adams Assignment/New Approach/df_test_fin.pkl','wb') as path_name:\n",
        "    pickle.dump(df_test_fin, path_name)"
      ],
      "execution_count": null,
      "outputs": []
    },
    {
      "cell_type": "markdown",
      "metadata": {
        "id": "H5mt6KXItsU6",
        "colab_type": "text"
      },
      "source": [
        "### 7.1.6. Load Backup"
      ]
    },
    {
      "cell_type": "code",
      "metadata": {
        "id": "D1q3dZamOtfG",
        "colab_type": "code",
        "colab": {}
      },
      "source": [
        "import pickle\n",
        "\n",
        "with open('gdrive/My Drive/Adams Assignment/New Approach/df_test_fin.pkl','rb') as path_name:\n",
        "    df_test_fin = pickle.load(path_name)\n",
        "\n",
        "with open('gdrive/My Drive/Adams Assignment/New Approach/df_val_fin.pkl','rb') as path_name:\n",
        "    df_val_fin = pickle.load(path_name)\n",
        "\n",
        "with open('gdrive/My Drive/Adams Assignment/New Approach/df_train_fin.pkl','rb') as path_name:\n",
        "    df_train_fin = pickle.load(path_name)"
      ],
      "execution_count": null,
      "outputs": []
    },
    {
      "cell_type": "markdown",
      "metadata": {
        "id": "YlTcnsWTFjMU",
        "colab_type": "text"
      },
      "source": [
        "### 7.1.7. Check the Document Vectors"
      ]
    },
    {
      "cell_type": "markdown",
      "metadata": {
        "id": "v0EyiwjddCUg",
        "colab_type": "text"
      },
      "source": [
        "In order to check the semantics of the document vectors, four keyword-tuples containing words from one specific topic are chosen:\n",
        "\n",
        "\n",
        "*   Blockchain & Bitcoin\n",
        "*   AI & ML\n",
        "*   Trump & Obama\n",
        "*   Company & Business\n",
        "\n",
        "\n",
        "For each tuple, 10 articles containing both words are sampled and a composite document vector for those 10 articles is calculated. Then a inverse search for the words with the highest probability is applied. This way, one can quickly evaluate whether the document vector approach is effective. "
      ]
    },
    {
      "cell_type": "code",
      "metadata": {
        "id": "U7pdHpwRFCSt",
        "colab_type": "code",
        "colab": {
          "base_uri": "https://localhost:8080/",
          "height": 55
        },
        "outputId": "f8478757-8cfc-4688-bffd-ce0b747c92cb"
      },
      "source": [
        "# choose 10 blockchain/bitcoin articles\n",
        "blockchain_articles = [a  for a in df_train_fin.Text if \"blockchain\" in a and \"bitcoin\" in a]\n",
        "blockchain_articles= blockchain_articles[0:10]\n",
        "bc = [calcDocMean(b) for b in blockchain_articles]\n",
        "\n",
        "# print words with highest similarity to this composite vector\n",
        "bc_docVec_mean = np.mean(bc, axis=0)\n",
        "print(w2v_model.wv.most_similar([bc_docVec_mean]))\n",
        "\n",
        "del bc, blockchain_articles, bc_docVec_mean"
      ],
      "execution_count": null,
      "outputs": [
        {
          "output_type": "stream",
          "text": [
            "[('blockchain', 0.47601714730262756), ('cryptocurrency', 0.4614923596382141), ('crypto', 0.4357680380344391), ('platform', 0.42325544357299805), ('decentralize', 0.42101091146469116), ('company', 0.4187498986721039), ('blockchain_technology', 0.41389739513397217), ('marketplace', 0.41275453567504883), ('already', 0.41003623604774475), ('also', 0.4092147946357727)]\n"
          ],
          "name": "stdout"
        }
      ]
    },
    {
      "cell_type": "code",
      "metadata": {
        "id": "LCzkZ1jrUJWn",
        "colab_type": "code",
        "colab": {
          "base_uri": "https://localhost:8080/",
          "height": 55
        },
        "outputId": "97293a5a-29c8-4be2-f134-fdfb7821db23"
      },
      "source": [
        "# choose 10 ai/ml articles\n",
        "ai_articles = [a  for a in df_train_fin.Text if \"ai\" in a and \"ml\" in a]\n",
        "ai_articles= ai_articles[0:10]\n",
        "ai = [calcDocMean(a) for a in ai_articles]\n",
        "\n",
        "# print words with highest similarity to this composite vector\n",
        "ai_docVec_mean = np.mean(ai, axis=0)\n",
        "print(w2v_model.wv.most_similar([ai_docVec_mean]))\n",
        "\n",
        "del ai, ai_articles, ai_docVec_mean"
      ],
      "execution_count": null,
      "outputs": [
        {
          "output_type": "stream",
          "text": [
            "[('ai', 0.5246028900146484), ('machine_learn', 0.456862211227417), ('artificial_intelligence', 0.4529162049293518), ('need', 0.43408918380737305), ('technology', 0.42836087942123413), ('solve_problems', 0.4178697168827057), ('today', 0.41686302423477173), ('work', 0.41660672426223755), ('able', 0.4127207398414612), ('think', 0.41087085008621216)]\n"
          ],
          "name": "stdout"
        }
      ]
    },
    {
      "cell_type": "code",
      "metadata": {
        "id": "AGWQhwVdTJ-B",
        "colab_type": "code",
        "colab": {
          "base_uri": "https://localhost:8080/",
          "height": 55
        },
        "outputId": "1659afe3-7f12-4d18-bd70-38254046eec5"
      },
      "source": [
        "# choose 10 trump/obama articles\n",
        "america_articles = [a  for a in df_train_fin.Text if \"trump\" in a and \"obama\" in a]\n",
        "america_articles= america_articles[0:10]\n",
        "am = [calcDocMean(a) for a in america_articles]\n",
        "\n",
        "# print words with highest similarity to this composite vector\n",
        "am_docVec_mean = np.mean(am, axis=0)\n",
        "print(w2v_model.wv.most_similar([am_docVec_mean]))\n",
        "\n",
        "del am, america_articles, am_docVec_mean"
      ],
      "execution_count": null,
      "outputs": [
        {
          "output_type": "stream",
          "text": [
            "[('trump', 0.5069077610969543), ('tweet', 0.47504180669784546), ('likely', 0.4596823453903198), ('would', 0.4550718665122986), ('donald_trump', 0.4418484568595886), ('might', 0.43284428119659424), ('actually', 0.4290761649608612), ('negative', 0.42042872309684753), ('want', 0.4153555631637573), ('followers', 0.4013408124446869)]\n"
          ],
          "name": "stdout"
        }
      ]
    },
    {
      "cell_type": "code",
      "metadata": {
        "id": "jjHwqIbgUPJv",
        "colab_type": "code",
        "colab": {
          "base_uri": "https://localhost:8080/",
          "height": 55
        },
        "outputId": "9121a551-ceb4-46e1-bf97-57d6fef25395"
      },
      "source": [
        "# choose 10 company/business articles\n",
        "company_articles = [a  for a in df_train_fin.Text if \"company\" in a and \"business\" in a]\n",
        "company_articles= company_articles[0:10]\n",
        "cp = [calcDocMean(a) for a in company_articles]\n",
        "\n",
        "# print words with highest similarity to this composite vector\n",
        "cp_docVec_mean = np.mean(cp, axis=0)\n",
        "print(w2v_model.wv.most_similar([cp_docVec_mean]))\n",
        "\n",
        "del cp, company_articles, cp_docVec_mean"
      ],
      "execution_count": null,
      "outputs": [
        {
          "output_type": "stream",
          "text": [
            "[('business', 0.5912221074104309), ('company', 0.5493031144142151), ('need', 0.5278937816619873), ('organization', 0.49748945236206055), ('organizations', 0.49460458755493164), ('businesses', 0.4901440739631653), ('focus', 0.4863661527633667), ('help', 0.4779168367385864), ('enterprise', 0.4625743627548218), ('importantly', 0.4446471929550171)]\n"
          ],
          "name": "stdout"
        }
      ]
    },
    {
      "cell_type": "markdown",
      "metadata": {
        "id": "1_t7C67vesM3",
        "colab_type": "text"
      },
      "source": [
        "Considering the output for these four tuples, the document vector model seems to be able to represent semantic essences of documents. \n"
      ]
    },
    {
      "cell_type": "markdown",
      "metadata": {
        "id": "lo5QD92ifqUK",
        "colab_type": "text"
      },
      "source": [
        "### 7.1.8 Semantic Cluster Analysis\n",
        "The idea of a document vector space immediately suggests performing a **cluster analysis**. In the following subsection, the applicability of a K-Means model is tested, but then *discarded*. The reason for that is the difficulty in setting the number of clusters and potential loss of information."
      ]
    },
    {
      "cell_type": "code",
      "metadata": {
        "id": "hVuwzbQaJnFH",
        "colab_type": "code",
        "colab": {
          "base_uri": "https://localhost:8080/",
          "height": 52
        },
        "outputId": "3c4c9ddc-5b5b-4d30-92f8-02837bb64f3d"
      },
      "source": [
        "# k=2 clusters\n",
        "\n",
        "from sklearn.cluster import KMeans\n",
        "\n",
        "X=np.stack(df_train_fin[\"DocumentVector\"], axis=0)\n",
        "kmeans = KMeans(n_clusters=2, random_state=0).fit(X)\n",
        "\n",
        "print([w[0] for w in w2v_model.wv.most_similar([kmeans.cluster_centers_[0]])])\n",
        "print([w[0] for w in w2v_model.wv.most_similar([kmeans.cluster_centers_[1]])])"
      ],
      "execution_count": null,
      "outputs": [
        {
          "output_type": "stream",
          "text": [
            "['de', 'que', 'en', 'para', 'la', 'se', 'como', 'es', 'da', 'por']\n",
            "['need', 'want', 'also', 'able', 'way', 'actually', 'could', 'would', 'simply', 'well']\n"
          ],
          "name": "stdout"
        }
      ]
    },
    {
      "cell_type": "markdown",
      "metadata": {
        "id": "cvTfPpouhAKW",
        "colab_type": "text"
      },
      "source": [
        "A cluster with $k=2$ centroids reveals a very plausible splitting criterion: **Spanish, English**."
      ]
    },
    {
      "cell_type": "code",
      "metadata": {
        "id": "UiQ4To2xhiTL",
        "colab_type": "code",
        "colab": {
          "base_uri": "https://localhost:8080/",
          "height": 104
        },
        "outputId": "daf5ccce-7848-4018-96c3-15c0d4f1ff56"
      },
      "source": [
        "# k=5 clusters\n",
        "\n",
        "from sklearn.cluster import KMeans\n",
        "\n",
        "X=np.stack(df_train_fin[\"DocumentVector\"], axis=0)\n",
        "kmeans = KMeans(n_clusters=5, random_state=0).fit(X)\n",
        "\n",
        "print([w[0] for w in w2v_model.wv.most_similar([kmeans.cluster_centers_[0]])])\n",
        "print([w[0] for w in w2v_model.wv.most_similar([kmeans.cluster_centers_[1]])])\n",
        "print([w[0] for w in w2v_model.wv.most_similar([kmeans.cluster_centers_[2]])])\n",
        "print([w[0] for w in w2v_model.wv.most_similar([kmeans.cluster_centers_[3]])])\n",
        "print([w[0] for w in w2v_model.wv.most_similar([kmeans.cluster_centers_[4]])])"
      ],
      "execution_count": null,
      "outputs": [
        {
          "output_type": "stream",
          "text": [
            "['business', 'company', 'businesses', 'ai', 'technology', 'organizations', 'enterprise', 'market', 'service', 'help']\n",
            "['le', 'de', 'en', 'du', 'di', 'il', 'la', 'bir', 'et', 'tlar']\n",
            "['think', 'actually', 'really', 'would', 'even', 'kind', 'might', 'never', 'want', 'could']\n",
            "['de', 'que', 'para', 'como', 'por', 'en', 'se', 'es', 'la', 'da']\n",
            "['model', 'output', 'input', 'parameters', 'function', 'sample', 'train', 'set', 'feature', 'use']\n"
          ],
          "name": "stdout"
        }
      ]
    },
    {
      "cell_type": "markdown",
      "metadata": {
        "id": "Yhoas605iEcf",
        "colab_type": "text"
      },
      "source": [
        "A cluster with $k=5$ centroids shows the following splits: \n",
        "**Business, Turkish, General, Spanish, Data Science**."
      ]
    },
    {
      "cell_type": "code",
      "metadata": {
        "id": "NwypCxrEidOW",
        "colab_type": "code",
        "colab": {
          "base_uri": "https://localhost:8080/",
          "height": 191
        },
        "outputId": "4b11bf9b-c2ef-4de9-9e59-4a173e985215"
      },
      "source": [
        "# k=10 clusters\n",
        "\n",
        "from sklearn.cluster import KMeans\n",
        "\n",
        "X=np.stack(df_train_fin[\"DocumentVector\"], axis=0)\n",
        "kmeans = KMeans(n_clusters=10, random_state=0).fit(X)\n",
        "\n",
        "print([w[0] for w in w2v_model.wv.most_similar([kmeans.cluster_centers_[0]])])\n",
        "print([w[0] for w in w2v_model.wv.most_similar([kmeans.cluster_centers_[1]])])\n",
        "print([w[0] for w in w2v_model.wv.most_similar([kmeans.cluster_centers_[2]])])\n",
        "print([w[0] for w in w2v_model.wv.most_similar([kmeans.cluster_centers_[3]])])\n",
        "print([w[0] for w in w2v_model.wv.most_similar([kmeans.cluster_centers_[4]])])\n",
        "print([w[0] for w in w2v_model.wv.most_similar([kmeans.cluster_centers_[5]])])\n",
        "print([w[0] for w in w2v_model.wv.most_similar([kmeans.cluster_centers_[6]])])\n",
        "print([w[0] for w in w2v_model.wv.most_similar([kmeans.cluster_centers_[7]])])\n",
        "print([w[0] for w in w2v_model.wv.most_similar([kmeans.cluster_centers_[8]])])\n",
        "print([w[0] for w in w2v_model.wv.most_similar([kmeans.cluster_centers_[9]])])"
      ],
      "execution_count": null,
      "outputs": [
        {
          "output_type": "stream",
          "text": [
            "['code', 'file', 'notebook', 'load', 'script', 'jupyter_notebook', 'python', 'documentation', 'api', 'source_code']\n",
            "['think', 'believe', 'humans', 'yet', 'even', 'perhaps', 'truly', 'human', 'human_be', 'could']\n",
            "['les', 'le', 'de', 'des', 'la', 'en', 'et', 'une', 'qui', 'est']\n",
            "['business', 'businesses', 'company', 'need', 'organizations', 'help', 'customers', 'benefit', 'products', 'leverage']\n",
            "['de', 'que', 'para', 'como', 'por', 'en', 'se', 'es', 'la', 'da']\n",
            "['learn', 'use', 'need', 'algorithms', 'able', 'data', 'model', 'understand', 'useful', 'process']\n",
            "['want', 'really', 'actually', 'go', 'would', 'probably', 'know', 'think', 'sure', 'never']\n",
            "['bir', 'tlar', 'kompleks', 'di', 'laca', 'madencilik', 'eyler', 'ile', 'meye', 'kendine']\n",
            "['output', 'model', 'parameters', 'input', 'sample', 'weight', 'function', 'parameter', 'method', 'loss_function']\n",
            "['ai', 'technology', 'tech', 'partner', 'artificial_intelligence', 'company', 'partnership', 'blockchain', 'industry', 'innovation']\n"
          ],
          "name": "stdout"
        }
      ]
    },
    {
      "cell_type": "markdown",
      "metadata": {
        "id": "MtYyrWE7i6nc",
        "colab_type": "text"
      },
      "source": [
        "A cluster with $k=10$ centroids shows the following splits: \n",
        "**Python Coding, Humans, French, Business, Spanish, Data Science, General, Turkish, Statistical Modelling, AI**.\n",
        "\n",
        "In some terms, adding more clusters to the algorithm seems to improve the semantic preciseness and accuracy of the clusters. That contradicts the general idea of clustering, which is dimensionality reduction. However, in this case, too much information is lost by assigning the document vectors to clusters. The visualization with an elbow curve gives no hint for a number of clusters. "
      ]
    },
    {
      "cell_type": "code",
      "metadata": {
        "id": "Agd-F0N-Mtn9",
        "colab_type": "code",
        "colab": {
          "base_uri": "https://localhost:8080/",
          "height": 382
        },
        "outputId": "796ea25c-b1af-4cea-f2c9-89905a7071b1"
      },
      "source": [
        "# visualization with elbow curve\n",
        "\n",
        "from sklearn.cluster import KMeans\n",
        "from yellowbrick.cluster import KElbowVisualizer\n",
        "\n",
        "X=np.stack(df_train_fin[\"DocumentVector\"], axis=0)\n",
        "model = KMeans()\n",
        "visualizer = KElbowVisualizer(model, k=(2,30))\n",
        "visualizer.fit(X)"
      ],
      "execution_count": null,
      "outputs": [
        {
          "output_type": "execute_result",
          "data": {
            "text/plain": [
              "KElbowVisualizer(ax=<matplotlib.axes._subplots.AxesSubplot object at 0x7f87107cb6d8>,\n",
              "                 k=None, metric=None, model=None, timings=True)"
            ]
          },
          "metadata": {
            "tags": []
          },
          "execution_count": 132
        },
        {
          "output_type": "display_data",
          "data": {
            "image/png": "[encoded data removed]",
            "text/plain": [
              "<Figure size 576x396 with 2 Axes>"
            ]
          },
          "metadata": {
            "tags": []
          }
        }
      ]
    },
    {
      "cell_type": "markdown",
      "metadata": {
        "id": "gnbsyCF4krpw",
        "colab_type": "text"
      },
      "source": [
        "Hence, the idea of clustering is kept for completeness, but **not included into further model building**. "
      ]
    },
    {
      "cell_type": "markdown",
      "metadata": {
        "id": "LGQ0gq9wmJzn",
        "colab_type": "text"
      },
      "source": [
        "## 7.2. Build NLP Neural Network (1)\n",
        "The first NN is based on the feature **DocumentVector** and thus predicts the number of claps based on the textual data.\n",
        "\n",
        "Remember, $\\phi(1..k)$ denotes a mapping function of a regession neural network with $k$ input values and one output value. Here, the first MLPRegressor is trained on a feedforward neural network with\n",
        "\n",
        "<center>$Claps \\sim \\phi_1(DocumentVector[1..200])$ </center>\n",
        "\n",
        "where Claps is the regression target. Let $\\psi_{1}$ be the predicted output of the first NN. $\\psi_{1}$ is stored in the feature **NN1_output**."
      ]
    },
    {
      "cell_type": "code",
      "metadata": {
        "id": "dlCiXtoqIcSJ",
        "colab_type": "code",
        "colab": {}
      },
      "source": [
        "# import libraries\n",
        "\n",
        "# for training\n",
        "import sklearn\n",
        "from sklearn import neural_network\n",
        "from sklearn.model_selection import RandomizedSearchCV\n",
        "\n",
        "# for assessment\n",
        "from sklearn.metrics import mean_squared_error\n",
        "from sklearn.metrics import r2_score\n",
        "from sklearn.metrics import mean_absolute_error"
      ],
      "execution_count": null,
      "outputs": []
    },
    {
      "cell_type": "markdown",
      "metadata": {
        "id": "Q1Dq2LJMWn2x",
        "colab_type": "text"
      },
      "source": [
        "### 7.2.1. NLP Model (1) : Prepare Randomized Grid Search"
      ]
    },
    {
      "cell_type": "code",
      "metadata": {
        "id": "wg7I3wTmJwUH",
        "colab_type": "code",
        "colab": {
          "base_uri": "https://localhost:8080/",
          "height": 1000
        },
        "outputId": "49cf42e4-7a33-4b7a-eeda-3715343aaf41"
      },
      "source": [
        "# create grid with hidden layers for randomized CV\n",
        "hiddenLayerGrid = []\n",
        "for layers in range(1,10):\n",
        "  for neurons in range(25, 201,25):\n",
        "    # for position in len(neurons):\n",
        "      hiddenLayerGrid.append((neurons,)*layers)\n",
        "\n",
        "hiddenLayerGrid\n"
      ],
      "execution_count": null,
      "outputs": [
        {
          "output_type": "execute_result",
          "data": {
            "text/plain": [
              "[(25,),\n",
              " (50,),\n",
              " (75,),\n",
              " (100,),\n",
              " (125,),\n",
              " (150,),\n",
              " (175,),\n",
              " (200,),\n",
              " (25, 25),\n",
              " (50, 50),\n",
              " (75, 75),\n",
              " (100, 100),\n",
              " (125, 125),\n",
              " (150, 150),\n",
              " (175, 175),\n",
              " (200, 200),\n",
              " (25, 25, 25),\n",
              " (50, 50, 50),\n",
              " (75, 75, 75),\n",
              " (100, 100, 100),\n",
              " (125, 125, 125),\n",
              " (150, 150, 150),\n",
              " (175, 175, 175),\n",
              " (200, 200, 200),\n",
              " (25, 25, 25, 25),\n",
              " (50, 50, 50, 50),\n",
              " (75, 75, 75, 75),\n",
              " (100, 100, 100, 100),\n",
              " (125, 125, 125, 125),\n",
              " (150, 150, 150, 150),\n",
              " (175, 175, 175, 175),\n",
              " (200, 200, 200, 200),\n",
              " (25, 25, 25, 25, 25),\n",
              " (50, 50, 50, 50, 50),\n",
              " (75, 75, 75, 75, 75),\n",
              " (100, 100, 100, 100, 100),\n",
              " (125, 125, 125, 125, 125),\n",
              " (150, 150, 150, 150, 150),\n",
              " (175, 175, 175, 175, 175),\n",
              " (200, 200, 200, 200, 200),\n",
              " (25, 25, 25, 25, 25, 25),\n",
              " (50, 50, 50, 50, 50, 50),\n",
              " (75, 75, 75, 75, 75, 75),\n",
              " (100, 100, 100, 100, 100, 100),\n",
              " (125, 125, 125, 125, 125, 125),\n",
              " (150, 150, 150, 150, 150, 150),\n",
              " (175, 175, 175, 175, 175, 175),\n",
              " (200, 200, 200, 200, 200, 200),\n",
              " (25, 25, 25, 25, 25, 25, 25),\n",
              " (50, 50, 50, 50, 50, 50, 50),\n",
              " (75, 75, 75, 75, 75, 75, 75),\n",
              " (100, 100, 100, 100, 100, 100, 100),\n",
              " (125, 125, 125, 125, 125, 125, 125),\n",
              " (150, 150, 150, 150, 150, 150, 150),\n",
              " (175, 175, 175, 175, 175, 175, 175),\n",
              " (200, 200, 200, 200, 200, 200, 200),\n",
              " (25, 25, 25, 25, 25, 25, 25, 25),\n",
              " (50, 50, 50, 50, 50, 50, 50, 50),\n",
              " (75, 75, 75, 75, 75, 75, 75, 75),\n",
              " (100, 100, 100, 100, 100, 100, 100, 100),\n",
              " (125, 125, 125, 125, 125, 125, 125, 125),\n",
              " (150, 150, 150, 150, 150, 150, 150, 150),\n",
              " (175, 175, 175, 175, 175, 175, 175, 175),\n",
              " (200, 200, 200, 200, 200, 200, 200, 200),\n",
              " (25, 25, 25, 25, 25, 25, 25, 25, 25),\n",
              " (50, 50, 50, 50, 50, 50, 50, 50, 50),\n",
              " (75, 75, 75, 75, 75, 75, 75, 75, 75),\n",
              " (100, 100, 100, 100, 100, 100, 100, 100, 100),\n",
              " (125, 125, 125, 125, 125, 125, 125, 125, 125),\n",
              " (150, 150, 150, 150, 150, 150, 150, 150, 150),\n",
              " (175, 175, 175, 175, 175, 175, 175, 175, 175),\n",
              " (200, 200, 200, 200, 200, 200, 200, 200, 200)]"
            ]
          },
          "metadata": {
            "tags": []
          },
          "execution_count": 4
        }
      ]
    },
    {
      "cell_type": "markdown",
      "metadata": {
        "id": "uk5QbzPKIiD5",
        "colab_type": "text"
      },
      "source": [
        "### 7.2.2. NLP Model (1) : Randomized Grid Search"
      ]
    },
    {
      "cell_type": "code",
      "metadata": {
        "id": "Z8KF_hTZ5w-R",
        "colab_type": "code",
        "colab": {}
      },
      "source": [
        "# build NLP Regression NN: Claps ~ DocumentVector \n",
        "\n",
        "reg_ML_NLP = sklearn.neural_network.MLPRegressor(max_iter=1000, verbose = True)\n",
        "\n",
        "param_list = {\"hidden_layer_sizes\": hiddenLayerGrid,\n",
        "              \"activation\": [\"logistic\", \"relu\"], \n",
        "              \"solver\": [\"adam\"], \n",
        "              \"alpha\": [0.00005, 0.0001, 0.0005]}\n",
        "\n",
        "X_NLP = [np.array(x) for x in df_train_fin.DocumentVector]\n",
        "\n",
        "y_NLP = np.array(df_train_fin.Claps, dtype=float)\n",
        "y_NLP = y_NLP.reshape((-1,1))\n",
        "\n",
        "randCV_NLP = RandomizedSearchCV(reg_ML_NLP, param_list, scoring=\"neg_mean_squared_error\", n_jobs=-1, n_iter=10 )\n",
        "randCV_NLP.fit(X_NLP, y_NLP)\n"
      ],
      "execution_count": null,
      "outputs": []
    },
    {
      "cell_type": "code",
      "metadata": {
        "id": "zTUfks_w3jZA",
        "colab_type": "code",
        "colab": {
          "base_uri": "https://localhost:8080/",
          "height": 87
        },
        "outputId": "9dbc95ca-a096-4de0-d66c-aaca38358e58"
      },
      "source": [
        "randCV_NLP.best_params_"
      ],
      "execution_count": null,
      "outputs": [
        {
          "output_type": "execute_result",
          "data": {
            "text/plain": [
              "{'activation': 'relu',\n",
              " 'alpha': 0.0001,\n",
              " 'hidden_layer_sizes': (25, 25, 25, 25),\n",
              " 'solver': 'adam'}"
            ]
          },
          "metadata": {
            "tags": []
          },
          "execution_count": 35
        }
      ]
    },
    {
      "cell_type": "markdown",
      "metadata": {
        "id": "DGb9t0DBnDik",
        "colab_type": "text"
      },
      "source": [
        "Based on the best parameters of the randomized parameter search, the following architecture of the first NN emerges:"
      ]
    },
    {
      "cell_type": "code",
      "metadata": {
        "id": "9H8N8NB_pSbD",
        "colab_type": "code",
        "colab": {
          "base_uri": "https://localhost:8080/",
          "height": 441
        },
        "outputId": "0558a79b-b541-45a8-f86d-2d28daf7f1f7"
      },
      "source": [
        "# Image(filename='NN1.png')"
      ],
      "execution_count": null,
      "outputs": [
        {
          "output_type": "execute_result",
          "data": {
            "image/png": "[encoded data removed]",
            "text/plain": [
              "<IPython.core.display.Image object>"
            ]
          },
          "metadata": {
            "tags": []
          },
          "execution_count": 239
        }
      ]
    },
    {
      "cell_type": "code",
      "metadata": {
        "id": "MLbl-1TZ7Wz9",
        "colab_type": "code",
        "colab": {}
      },
      "source": [
        "# backup randCV_NLP\n",
        "with open('gdrive/My Drive/Adams Assignment/New Approach/randCV.pkl','wb') as path_name:\n",
        "    pickle.dump(randCV_NLP, path_name)"
      ],
      "execution_count": null,
      "outputs": []
    },
    {
      "cell_type": "code",
      "metadata": {
        "id": "BY-rQ_p7CjdZ",
        "colab_type": "code",
        "colab": {}
      },
      "source": [
        "# re-load randCV_NLP\n",
        "with open('gdrive/My Drive/Adams Assignment/New Approach/randCV.pkl','rb') as path_name:\n",
        "    randCV_NLP = pickle.load(path_name)"
      ],
      "execution_count": null,
      "outputs": []
    },
    {
      "cell_type": "markdown",
      "metadata": {
        "id": "Ue8NuF3WJFup",
        "colab_type": "text"
      },
      "source": [
        "### 7.2.3. NLP Model (1) : Assessment"
      ]
    },
    {
      "cell_type": "code",
      "metadata": {
        "id": "91KW-MrRBo_Q",
        "colab_type": "code",
        "colab": {}
      },
      "source": [
        "y_hat_NLP = randCV_NLP.predict(X_NLP)"
      ],
      "execution_count": null,
      "outputs": []
    },
    {
      "cell_type": "code",
      "metadata": {
        "id": "WyRexzwllPZz",
        "colab_type": "code",
        "colab": {
          "base_uri": "https://localhost:8080/",
          "height": 52
        },
        "outputId": "f68f29fc-3e0d-4f55-c071-f4f3593aeebd"
      },
      "source": [
        "# accuracy on the training data\n",
        "\n",
        "print(\"MSE: {}\".format(mean_squared_error(y_NLP, y_hat_NLP)))\n",
        "print(\"R^2: {}\".format(r2_score(y_NLP, y_hat_NLP)))"
      ],
      "execution_count": null,
      "outputs": [
        {
          "output_type": "stream",
          "text": [
            "MSE: 0.0744503037983564\n",
            "R^2: 0.3696653357527896\n"
          ],
          "name": "stdout"
        }
      ]
    },
    {
      "cell_type": "markdown",
      "metadata": {
        "id": "87Rw6mT-HVFA",
        "colab_type": "text"
      },
      "source": [
        "### 7.2.4. NLP Model (1) : Create Output Feature"
      ]
    },
    {
      "cell_type": "code",
      "metadata": {
        "id": "rkGyKNs6HI5D",
        "colab_type": "code",
        "colab": {}
      },
      "source": [
        "# train data\n",
        "X=[np.array(x) for x in df_train_fin.DocumentVector]\n",
        "y_pred = randCV_NLP.predict(X)\n",
        "df_train_fin[\"NN1_output\"] = y_pred"
      ],
      "execution_count": null,
      "outputs": []
    },
    {
      "cell_type": "code",
      "metadata": {
        "id": "XEpzvWalHdzE",
        "colab_type": "code",
        "colab": {}
      },
      "source": [
        "# val data\n",
        "X=[np.array(x) for x in df_val_fin.DocumentVector]\n",
        "y_pred = randCV_NLP.predict(X)\n",
        "df_val_fin[\"NN1_output\"] = y_pred"
      ],
      "execution_count": null,
      "outputs": []
    },
    {
      "cell_type": "code",
      "metadata": {
        "id": "sofd7luGHcxk",
        "colab_type": "code",
        "colab": {}
      },
      "source": [
        "# test data\n",
        "X=[np.array(x) for x in df_test_fin.DocumentVector]\n",
        "y_pred = randCV_NLP.predict(X)\n",
        "df_test_fin[\"NN1_output\"] = y_pred"
      ],
      "execution_count": null,
      "outputs": []
    },
    {
      "cell_type": "code",
      "metadata": {
        "id": "mbM54ydALPjY",
        "colab_type": "code",
        "colab": {
          "base_uri": "https://localhost:8080/",
          "height": 289
        },
        "outputId": "a83be307-7481-4a98-de4c-624bcdabbd29"
      },
      "source": [
        "df_train_fin.head()"
      ],
      "execution_count": null,
      "outputs": [
        {
          "output_type": "execute_result",
          "data": {
            "text/html": [
              "<div>\n",
              "<style scoped>\n",
              "    .dataframe tbody tr th:only-of-type {\n",
              "        vertical-align: middle;\n",
              "    }\n",
              "\n",
              "    .dataframe tbody tr th {\n",
              "        vertical-align: top;\n",
              "    }\n",
              "\n",
              "    .dataframe thead th {\n",
              "        text-align: right;\n",
              "    }\n",
              "</style>\n",
              "<table border=\"1\" class=\"dataframe\">\n",
              "  <thead>\n",
              "    <tr style=\"text-align: right;\">\n",
              "      <th></th>\n",
              "      <th>Claps</th>\n",
              "      <th>Text</th>\n",
              "      <th>DaysPublication</th>\n",
              "      <th>AuthorFollowers</th>\n",
              "      <th>TitleWordCount</th>\n",
              "      <th>TextWordCount</th>\n",
              "      <th>DocumentVector</th>\n",
              "      <th>NN1_output</th>\n",
              "    </tr>\n",
              "  </thead>\n",
              "  <tbody>\n",
              "    <tr>\n",
              "      <th>256583</th>\n",
              "      <td>1.000000</td>\n",
              "      <td>[catch, near, future, commercial, ai, catch, n...</td>\n",
              "      <td>1.388788</td>\n",
              "      <td>0.440865</td>\n",
              "      <td>-0.104861</td>\n",
              "      <td>1.696101</td>\n",
              "      <td>[-0.3093129392638314, -0.11153129572223189, 0....</td>\n",
              "      <td>0.463625</td>\n",
              "    </tr>\n",
              "    <tr>\n",
              "      <th>62151</th>\n",
              "      <td>0.509760</td>\n",
              "      <td>[take, leap, data, science, take, leap, data, ...</td>\n",
              "      <td>1.477952</td>\n",
              "      <td>-0.626452</td>\n",
              "      <td>-0.415290</td>\n",
              "      <td>-0.907792</td>\n",
              "      <td>[-0.7048988816493031, -0.22216329754262074, -0...</td>\n",
              "      <td>0.222917</td>\n",
              "    </tr>\n",
              "    <tr>\n",
              "      <th>270177</th>\n",
              "      <td>0.826588</td>\n",
              "      <td>[compare, different, methods, achieve, sparse,...</td>\n",
              "      <td>-1.183215</td>\n",
              "      <td>1.412331</td>\n",
              "      <td>2.109287</td>\n",
              "      <td>0.804154</td>\n",
              "      <td>[-0.1861217496249183, 0.660846884732171, -0.02...</td>\n",
              "      <td>0.807848</td>\n",
              "    </tr>\n",
              "    <tr>\n",
              "      <th>39471</th>\n",
              "      <td>0.000000</td>\n",
              "      <td>[compliance, collaboration, key, data, project...</td>\n",
              "      <td>0.258091</td>\n",
              "      <td>2.021836</td>\n",
              "      <td>0.727353</td>\n",
              "      <td>-0.337829</td>\n",
              "      <td>[-0.3596593484762964, -0.4861906697540034, -0....</td>\n",
              "      <td>0.279104</td>\n",
              "    </tr>\n",
              "    <tr>\n",
              "      <th>39747</th>\n",
              "      <td>0.630665</td>\n",
              "      <td>[ai, accessibility, improve, user, access, ess...</td>\n",
              "      <td>0.147001</td>\n",
              "      <td>-0.665939</td>\n",
              "      <td>0.979435</td>\n",
              "      <td>0.403703</td>\n",
              "      <td>[-0.4308867991698155, -0.18054565572336478, 0....</td>\n",
              "      <td>0.161272</td>\n",
              "    </tr>\n",
              "  </tbody>\n",
              "</table>\n",
              "</div>"
            ],
            "text/plain": [
              "           Claps  ... NN1_output\n",
              "256583  1.000000  ...   0.463625\n",
              "62151   0.509760  ...   0.222917\n",
              "270177  0.826588  ...   0.807848\n",
              "39471   0.000000  ...   0.279104\n",
              "39747   0.630665  ...   0.161272\n",
              "\n",
              "[5 rows x 8 columns]"
            ]
          },
          "metadata": {
            "tags": []
          },
          "execution_count": 17
        }
      ]
    },
    {
      "cell_type": "markdown",
      "metadata": {
        "id": "oqIrBxqkJY7U",
        "colab_type": "text"
      },
      "source": [
        "## 7.3. Final Model\n",
        "Using the output $\\psi_{1}$ of the first NN and the remaining features, a second neural network is trained with\n",
        "\n",
        "<center>$Claps \\sim \\phi_2(\\psi_{1}, DaysPublication, AuthorFollowers, TitleWordCount, TextWordCount)$ </center>\n",
        "\n",
        "where again Claps is the regression target and $\\psi_{2}$ is the final prediction of the second model. This stacked model architecture has been chosen, in order to minimalize the regression training error $\\varepsilon_{1}^{2}= (Claps - \\psi_{1})^{2}$ of the first model."
      ]
    },
    {
      "cell_type": "markdown",
      "metadata": {
        "id": "yuCK3bGGDbb4",
        "colab_type": "text"
      },
      "source": [
        "### 7.3.1. Final Model (2) : Prepare Randomized Grid Search"
      ]
    },
    {
      "cell_type": "code",
      "metadata": {
        "id": "6c5aHwhBDgqT",
        "colab_type": "code",
        "colab": {
          "base_uri": "https://localhost:8080/",
          "height": 1000
        },
        "outputId": "2d2dc841-baed-4819-9958-0aae57ec4e4b"
      },
      "source": [
        "# create grid with hidden layers for randomized CV\n",
        "hiddenLayerGrid2 = []\n",
        "for layers in range(1,15):\n",
        "  for neurons in range(3, 20, 1):\n",
        "    # for position in len(neurons):\n",
        "      hiddenLayerGrid2.append((neurons,)*layers)\n",
        "\n",
        "hiddenLayerGrid2\n"
      ],
      "execution_count": null,
      "outputs": [
        {
          "output_type": "execute_result",
          "data": {
            "text/plain": [
              "[(3,),\n",
              " (4,),\n",
              " (5,),\n",
              " (6,),\n",
              " (7,),\n",
              " (8,),\n",
              " (9,),\n",
              " (10,),\n",
              " (11,),\n",
              " (12,),\n",
              " (13,),\n",
              " (14,),\n",
              " (15,),\n",
              " (16,),\n",
              " (17,),\n",
              " (18,),\n",
              " (19,),\n",
              " (3, 3),\n",
              " (4, 4),\n",
              " (5, 5),\n",
              " (6, 6),\n",
              " (7, 7),\n",
              " (8, 8),\n",
              " (9, 9),\n",
              " (10, 10),\n",
              " (11, 11),\n",
              " (12, 12),\n",
              " (13, 13),\n",
              " (14, 14),\n",
              " (15, 15),\n",
              " (16, 16),\n",
              " (17, 17),\n",
              " (18, 18),\n",
              " (19, 19),\n",
              " (3, 3, 3),\n",
              " (4, 4, 4),\n",
              " (5, 5, 5),\n",
              " (6, 6, 6),\n",
              " (7, 7, 7),\n",
              " (8, 8, 8),\n",
              " (9, 9, 9),\n",
              " (10, 10, 10),\n",
              " (11, 11, 11),\n",
              " (12, 12, 12),\n",
              " (13, 13, 13),\n",
              " (14, 14, 14),\n",
              " (15, 15, 15),\n",
              " (16, 16, 16),\n",
              " (17, 17, 17),\n",
              " (18, 18, 18),\n",
              " (19, 19, 19),\n",
              " (3, 3, 3, 3),\n",
              " (4, 4, 4, 4),\n",
              " (5, 5, 5, 5),\n",
              " (6, 6, 6, 6),\n",
              " (7, 7, 7, 7),\n",
              " (8, 8, 8, 8),\n",
              " (9, 9, 9, 9),\n",
              " (10, 10, 10, 10),\n",
              " (11, 11, 11, 11),\n",
              " (12, 12, 12, 12),\n",
              " (13, 13, 13, 13),\n",
              " (14, 14, 14, 14),\n",
              " (15, 15, 15, 15),\n",
              " (16, 16, 16, 16),\n",
              " (17, 17, 17, 17),\n",
              " (18, 18, 18, 18),\n",
              " (19, 19, 19, 19),\n",
              " (3, 3, 3, 3, 3),\n",
              " (4, 4, 4, 4, 4),\n",
              " (5, 5, 5, 5, 5),\n",
              " (6, 6, 6, 6, 6),\n",
              " (7, 7, 7, 7, 7),\n",
              " (8, 8, 8, 8, 8),\n",
              " (9, 9, 9, 9, 9),\n",
              " (10, 10, 10, 10, 10),\n",
              " (11, 11, 11, 11, 11),\n",
              " (12, 12, 12, 12, 12),\n",
              " (13, 13, 13, 13, 13),\n",
              " (14, 14, 14, 14, 14),\n",
              " (15, 15, 15, 15, 15),\n",
              " (16, 16, 16, 16, 16),\n",
              " (17, 17, 17, 17, 17),\n",
              " (18, 18, 18, 18, 18),\n",
              " (19, 19, 19, 19, 19),\n",
              " (3, 3, 3, 3, 3, 3),\n",
              " (4, 4, 4, 4, 4, 4),\n",
              " (5, 5, 5, 5, 5, 5),\n",
              " (6, 6, 6, 6, 6, 6),\n",
              " (7, 7, 7, 7, 7, 7),\n",
              " (8, 8, 8, 8, 8, 8),\n",
              " (9, 9, 9, 9, 9, 9),\n",
              " (10, 10, 10, 10, 10, 10),\n",
              " (11, 11, 11, 11, 11, 11),\n",
              " (12, 12, 12, 12, 12, 12),\n",
              " (13, 13, 13, 13, 13, 13),\n",
              " (14, 14, 14, 14, 14, 14),\n",
              " (15, 15, 15, 15, 15, 15),\n",
              " (16, 16, 16, 16, 16, 16),\n",
              " (17, 17, 17, 17, 17, 17),\n",
              " (18, 18, 18, 18, 18, 18),\n",
              " (19, 19, 19, 19, 19, 19),\n",
              " (3, 3, 3, 3, 3, 3, 3),\n",
              " (4, 4, 4, 4, 4, 4, 4),\n",
              " (5, 5, 5, 5, 5, 5, 5),\n",
              " (6, 6, 6, 6, 6, 6, 6),\n",
              " (7, 7, 7, 7, 7, 7, 7),\n",
              " (8, 8, 8, 8, 8, 8, 8),\n",
              " (9, 9, 9, 9, 9, 9, 9),\n",
              " (10, 10, 10, 10, 10, 10, 10),\n",
              " (11, 11, 11, 11, 11, 11, 11),\n",
              " (12, 12, 12, 12, 12, 12, 12),\n",
              " (13, 13, 13, 13, 13, 13, 13),\n",
              " (14, 14, 14, 14, 14, 14, 14),\n",
              " (15, 15, 15, 15, 15, 15, 15),\n",
              " (16, 16, 16, 16, 16, 16, 16),\n",
              " (17, 17, 17, 17, 17, 17, 17),\n",
              " (18, 18, 18, 18, 18, 18, 18),\n",
              " (19, 19, 19, 19, 19, 19, 19),\n",
              " (3, 3, 3, 3, 3, 3, 3, 3),\n",
              " (4, 4, 4, 4, 4, 4, 4, 4),\n",
              " (5, 5, 5, 5, 5, 5, 5, 5),\n",
              " (6, 6, 6, 6, 6, 6, 6, 6),\n",
              " (7, 7, 7, 7, 7, 7, 7, 7),\n",
              " (8, 8, 8, 8, 8, 8, 8, 8),\n",
              " (9, 9, 9, 9, 9, 9, 9, 9),\n",
              " (10, 10, 10, 10, 10, 10, 10, 10),\n",
              " (11, 11, 11, 11, 11, 11, 11, 11),\n",
              " (12, 12, 12, 12, 12, 12, 12, 12),\n",
              " (13, 13, 13, 13, 13, 13, 13, 13),\n",
              " (14, 14, 14, 14, 14, 14, 14, 14),\n",
              " (15, 15, 15, 15, 15, 15, 15, 15),\n",
              " (16, 16, 16, 16, 16, 16, 16, 16),\n",
              " (17, 17, 17, 17, 17, 17, 17, 17),\n",
              " (18, 18, 18, 18, 18, 18, 18, 18),\n",
              " (19, 19, 19, 19, 19, 19, 19, 19),\n",
              " (3, 3, 3, 3, 3, 3, 3, 3, 3),\n",
              " (4, 4, 4, 4, 4, 4, 4, 4, 4),\n",
              " (5, 5, 5, 5, 5, 5, 5, 5, 5),\n",
              " (6, 6, 6, 6, 6, 6, 6, 6, 6),\n",
              " (7, 7, 7, 7, 7, 7, 7, 7, 7),\n",
              " (8, 8, 8, 8, 8, 8, 8, 8, 8),\n",
              " (9, 9, 9, 9, 9, 9, 9, 9, 9),\n",
              " (10, 10, 10, 10, 10, 10, 10, 10, 10),\n",
              " (11, 11, 11, 11, 11, 11, 11, 11, 11),\n",
              " (12, 12, 12, 12, 12, 12, 12, 12, 12),\n",
              " (13, 13, 13, 13, 13, 13, 13, 13, 13),\n",
              " (14, 14, 14, 14, 14, 14, 14, 14, 14),\n",
              " (15, 15, 15, 15, 15, 15, 15, 15, 15),\n",
              " (16, 16, 16, 16, 16, 16, 16, 16, 16),\n",
              " (17, 17, 17, 17, 17, 17, 17, 17, 17),\n",
              " (18, 18, 18, 18, 18, 18, 18, 18, 18),\n",
              " (19, 19, 19, 19, 19, 19, 19, 19, 19),\n",
              " (3, 3, 3, 3, 3, 3, 3, 3, 3, 3),\n",
              " (4, 4, 4, 4, 4, 4, 4, 4, 4, 4),\n",
              " (5, 5, 5, 5, 5, 5, 5, 5, 5, 5),\n",
              " (6, 6, 6, 6, 6, 6, 6, 6, 6, 6),\n",
              " (7, 7, 7, 7, 7, 7, 7, 7, 7, 7),\n",
              " (8, 8, 8, 8, 8, 8, 8, 8, 8, 8),\n",
              " (9, 9, 9, 9, 9, 9, 9, 9, 9, 9),\n",
              " (10, 10, 10, 10, 10, 10, 10, 10, 10, 10),\n",
              " (11, 11, 11, 11, 11, 11, 11, 11, 11, 11),\n",
              " (12, 12, 12, 12, 12, 12, 12, 12, 12, 12),\n",
              " (13, 13, 13, 13, 13, 13, 13, 13, 13, 13),\n",
              " (14, 14, 14, 14, 14, 14, 14, 14, 14, 14),\n",
              " (15, 15, 15, 15, 15, 15, 15, 15, 15, 15),\n",
              " (16, 16, 16, 16, 16, 16, 16, 16, 16, 16),\n",
              " (17, 17, 17, 17, 17, 17, 17, 17, 17, 17),\n",
              " (18, 18, 18, 18, 18, 18, 18, 18, 18, 18),\n",
              " (19, 19, 19, 19, 19, 19, 19, 19, 19, 19),\n",
              " (3, 3, 3, 3, 3, 3, 3, 3, 3, 3, 3),\n",
              " (4, 4, 4, 4, 4, 4, 4, 4, 4, 4, 4),\n",
              " (5, 5, 5, 5, 5, 5, 5, 5, 5, 5, 5),\n",
              " (6, 6, 6, 6, 6, 6, 6, 6, 6, 6, 6),\n",
              " (7, 7, 7, 7, 7, 7, 7, 7, 7, 7, 7),\n",
              " (8, 8, 8, 8, 8, 8, 8, 8, 8, 8, 8),\n",
              " (9, 9, 9, 9, 9, 9, 9, 9, 9, 9, 9),\n",
              " (10, 10, 10, 10, 10, 10, 10, 10, 10, 10, 10),\n",
              " (11, 11, 11, 11, 11, 11, 11, 11, 11, 11, 11),\n",
              " (12, 12, 12, 12, 12, 12, 12, 12, 12, 12, 12),\n",
              " (13, 13, 13, 13, 13, 13, 13, 13, 13, 13, 13),\n",
              " (14, 14, 14, 14, 14, 14, 14, 14, 14, 14, 14),\n",
              " (15, 15, 15, 15, 15, 15, 15, 15, 15, 15, 15),\n",
              " (16, 16, 16, 16, 16, 16, 16, 16, 16, 16, 16),\n",
              " (17, 17, 17, 17, 17, 17, 17, 17, 17, 17, 17),\n",
              " (18, 18, 18, 18, 18, 18, 18, 18, 18, 18, 18),\n",
              " (19, 19, 19, 19, 19, 19, 19, 19, 19, 19, 19),\n",
              " (3, 3, 3, 3, 3, 3, 3, 3, 3, 3, 3, 3),\n",
              " (4, 4, 4, 4, 4, 4, 4, 4, 4, 4, 4, 4),\n",
              " (5, 5, 5, 5, 5, 5, 5, 5, 5, 5, 5, 5),\n",
              " (6, 6, 6, 6, 6, 6, 6, 6, 6, 6, 6, 6),\n",
              " (7, 7, 7, 7, 7, 7, 7, 7, 7, 7, 7, 7),\n",
              " (8, 8, 8, 8, 8, 8, 8, 8, 8, 8, 8, 8),\n",
              " (9, 9, 9, 9, 9, 9, 9, 9, 9, 9, 9, 9),\n",
              " (10, 10, 10, 10, 10, 10, 10, 10, 10, 10, 10, 10),\n",
              " (11, 11, 11, 11, 11, 11, 11, 11, 11, 11, 11, 11),\n",
              " (12, 12, 12, 12, 12, 12, 12, 12, 12, 12, 12, 12),\n",
              " (13, 13, 13, 13, 13, 13, 13, 13, 13, 13, 13, 13),\n",
              " (14, 14, 14, 14, 14, 14, 14, 14, 14, 14, 14, 14),\n",
              " (15, 15, 15, 15, 15, 15, 15, 15, 15, 15, 15, 15),\n",
              " (16, 16, 16, 16, 16, 16, 16, 16, 16, 16, 16, 16),\n",
              " (17, 17, 17, 17, 17, 17, 17, 17, 17, 17, 17, 17),\n",
              " (18, 18, 18, 18, 18, 18, 18, 18, 18, 18, 18, 18),\n",
              " (19, 19, 19, 19, 19, 19, 19, 19, 19, 19, 19, 19),\n",
              " (3, 3, 3, 3, 3, 3, 3, 3, 3, 3, 3, 3, 3),\n",
              " (4, 4, 4, 4, 4, 4, 4, 4, 4, 4, 4, 4, 4),\n",
              " (5, 5, 5, 5, 5, 5, 5, 5, 5, 5, 5, 5, 5),\n",
              " (6, 6, 6, 6, 6, 6, 6, 6, 6, 6, 6, 6, 6),\n",
              " (7, 7, 7, 7, 7, 7, 7, 7, 7, 7, 7, 7, 7),\n",
              " (8, 8, 8, 8, 8, 8, 8, 8, 8, 8, 8, 8, 8),\n",
              " (9, 9, 9, 9, 9, 9, 9, 9, 9, 9, 9, 9, 9),\n",
              " (10, 10, 10, 10, 10, 10, 10, 10, 10, 10, 10, 10, 10),\n",
              " (11, 11, 11, 11, 11, 11, 11, 11, 11, 11, 11, 11, 11),\n",
              " (12, 12, 12, 12, 12, 12, 12, 12, 12, 12, 12, 12, 12),\n",
              " (13, 13, 13, 13, 13, 13, 13, 13, 13, 13, 13, 13, 13),\n",
              " (14, 14, 14, 14, 14, 14, 14, 14, 14, 14, 14, 14, 14),\n",
              " (15, 15, 15, 15, 15, 15, 15, 15, 15, 15, 15, 15, 15),\n",
              " (16, 16, 16, 16, 16, 16, 16, 16, 16, 16, 16, 16, 16),\n",
              " (17, 17, 17, 17, 17, 17, 17, 17, 17, 17, 17, 17, 17),\n",
              " (18, 18, 18, 18, 18, 18, 18, 18, 18, 18, 18, 18, 18),\n",
              " (19, 19, 19, 19, 19, 19, 19, 19, 19, 19, 19, 19, 19),\n",
              " (3, 3, 3, 3, 3, 3, 3, 3, 3, 3, 3, 3, 3, 3),\n",
              " (4, 4, 4, 4, 4, 4, 4, 4, 4, 4, 4, 4, 4, 4),\n",
              " (5, 5, 5, 5, 5, 5, 5, 5, 5, 5, 5, 5, 5, 5),\n",
              " (6, 6, 6, 6, 6, 6, 6, 6, 6, 6, 6, 6, 6, 6),\n",
              " (7, 7, 7, 7, 7, 7, 7, 7, 7, 7, 7, 7, 7, 7),\n",
              " (8, 8, 8, 8, 8, 8, 8, 8, 8, 8, 8, 8, 8, 8),\n",
              " (9, 9, 9, 9, 9, 9, 9, 9, 9, 9, 9, 9, 9, 9),\n",
              " (10, 10, 10, 10, 10, 10, 10, 10, 10, 10, 10, 10, 10, 10),\n",
              " (11, 11, 11, 11, 11, 11, 11, 11, 11, 11, 11, 11, 11, 11),\n",
              " (12, 12, 12, 12, 12, 12, 12, 12, 12, 12, 12, 12, 12, 12),\n",
              " (13, 13, 13, 13, 13, 13, 13, 13, 13, 13, 13, 13, 13, 13),\n",
              " (14, 14, 14, 14, 14, 14, 14, 14, 14, 14, 14, 14, 14, 14),\n",
              " (15, 15, 15, 15, 15, 15, 15, 15, 15, 15, 15, 15, 15, 15),\n",
              " (16, 16, 16, 16, 16, 16, 16, 16, 16, 16, 16, 16, 16, 16),\n",
              " (17, 17, 17, 17, 17, 17, 17, 17, 17, 17, 17, 17, 17, 17),\n",
              " (18, 18, 18, 18, 18, 18, 18, 18, 18, 18, 18, 18, 18, 18),\n",
              " (19, 19, 19, 19, 19, 19, 19, 19, 19, 19, 19, 19, 19, 19)]"
            ]
          },
          "metadata": {
            "tags": []
          },
          "execution_count": 22
        }
      ]
    },
    {
      "cell_type": "markdown",
      "metadata": {
        "id": "1e6PVOucJeO4",
        "colab_type": "text"
      },
      "source": [
        "### 7.3.1. Final Model (2) : Randomized Grid Search"
      ]
    },
    {
      "cell_type": "code",
      "metadata": {
        "id": "n5-XEbUlJYpm",
        "colab_type": "code",
        "colab": {}
      },
      "source": [
        "reg_ML_fin = sklearn.neural_network.MLPRegressor(max_iter=1000, verbose = True)\n",
        "\n",
        "param_list = {\"hidden_layer_sizes\": hiddenLayerGrid2,\n",
        "              \"activation\": [\"logistic\", \"relu\"], \n",
        "              \"solver\": [\"adam\"], \n",
        "              \"alpha\": [0.00005, 0.0001, 0.0005]}\n",
        "\n",
        "X_fin = df_train_fin[[\"DaysPublication\", \"AuthorFollowers\", \"TitleWordCount\", \"TextWordCount\", \"NN1_output\"]]\n",
        "\n",
        "y_fin = np.array(df_train_fin.Claps, dtype=float)\n",
        "y_fin = y_fin.reshape((-1,1))\n",
        "\n",
        "randCV_fin = RandomizedSearchCV(reg_ML_fin, param_list, scoring=\"neg_mean_squared_error\", n_jobs=-1, n_iter=30 )\n",
        "randCV_fin.fit(X_fin, y_fin)"
      ],
      "execution_count": null,
      "outputs": []
    },
    {
      "cell_type": "code",
      "metadata": {
        "id": "jyRYHPyCG7I7",
        "colab_type": "code",
        "colab": {
          "base_uri": "https://localhost:8080/",
          "height": 87
        },
        "outputId": "51738f18-2592-4fa3-d698-ddf20a482ed0"
      },
      "source": [
        "randCV_fin.best_params_"
      ],
      "execution_count": null,
      "outputs": [
        {
          "output_type": "execute_result",
          "data": {
            "text/plain": [
              "{'activation': 'relu',\n",
              " 'alpha': 0.0005,\n",
              " 'hidden_layer_sizes': (15, 15, 15, 15),\n",
              " 'solver': 'adam'}"
            ]
          },
          "metadata": {
            "tags": []
          },
          "execution_count": 44
        }
      ]
    },
    {
      "cell_type": "markdown",
      "metadata": {
        "id": "E08luYCJofpT",
        "colab_type": "text"
      },
      "source": [
        "The following composite final model architecture with 4 hidden layers with 15 neurons each is chosen:"
      ]
    },
    {
      "cell_type": "code",
      "metadata": {
        "id": "nY7MVaCKC0gN",
        "colab_type": "code",
        "colab": {
          "base_uri": "https://localhost:8080/",
          "height": 409
        },
        "outputId": "b6b59442-9b87-4126-bba1-7c70c7b201a2"
      },
      "source": [
        "# Image(filename='NN2.png')"
      ],
      "execution_count": null,
      "outputs": [
        {
          "output_type": "execute_result",
          "data": {
            "image/png": "[encoded data removed]",
            "text/plain": [
              "<IPython.core.display.Image object>"
            ]
          },
          "metadata": {
            "tags": []
          },
          "execution_count": 4
        }
      ]
    },
    {
      "cell_type": "code",
      "metadata": {
        "id": "6CcguDx5HhDY",
        "colab_type": "code",
        "colab": {}
      },
      "source": [
        "# backup randCV_fin\n",
        "with open('gdrive/My Drive/Adams Assignment/New Approach/randCV_fin.pkl','wb') as path_name:\n",
        "    pickle.dump(randCV_fin, path_name)"
      ],
      "execution_count": null,
      "outputs": []
    },
    {
      "cell_type": "code",
      "metadata": {
        "id": "jfwMdZoaLofv",
        "colab_type": "code",
        "colab": {}
      },
      "source": [
        "# load randCV_fin\n",
        "with open('gdrive/My Drive/Adams Assignment/New Approach/randCV_fin.pkl','rb') as path_name:\n",
        "    randCV_fin = pickle.load(path_name)"
      ],
      "execution_count": null,
      "outputs": []
    },
    {
      "cell_type": "markdown",
      "metadata": {
        "id": "5CrhIRWCLNTb",
        "colab_type": "text"
      },
      "source": [
        "### 7.3.2. Final Model (2) : Assessment on Training Data"
      ]
    },
    {
      "cell_type": "code",
      "metadata": {
        "id": "5nPVQm3rHsJS",
        "colab_type": "code",
        "colab": {}
      },
      "source": [
        "# reshape testing data\n",
        "X_train = df_train_fin[[\"DaysPublication\", \"AuthorFollowers\", \"TitleWordCount\", \"TextWordCount\", \"NN1_output\"]]\n",
        "\n",
        "# predict\n",
        "df_train_fin[\"predicted_Claps\"] = randCV_fin.predict(X_train)"
      ],
      "execution_count": null,
      "outputs": []
    },
    {
      "cell_type": "code",
      "metadata": {
        "id": "cMN4OUjKamZR",
        "colab_type": "code",
        "colab": {
          "base_uri": "https://localhost:8080/",
          "height": 52
        },
        "outputId": "0b865228-ce30-4894-d07f-5a2a00251bc7"
      },
      "source": [
        "# accuracy on the training data\n",
        "\n",
        "print(\"MSE: {}\".format(mean_squared_error(df_train_fin[\"Claps\"], df_train_fin[\"predicted_Claps\"])))\n",
        "print(\"R^2: {}\".format(r2_score(df_train_fin[\"Claps\"], df_train_fin[\"predicted_Claps\"])))"
      ],
      "execution_count": null,
      "outputs": [
        {
          "output_type": "stream",
          "text": [
            "MSE: 0.061513515001722516\n",
            "R^2: 0.4791948609062291\n"
          ],
          "name": "stdout"
        }
      ]
    },
    {
      "cell_type": "markdown",
      "metadata": {
        "id": "LVq-yrgsE0q7",
        "colab_type": "text"
      },
      "source": [
        "Based on the training data, this final model has improved the predictions compared to a plain NLP model (1), where $MSE_{(1)}= 0.0745$ and $R^2_{(1)}= 0.3697$. The composite model proves more efficient."
      ]
    },
    {
      "cell_type": "code",
      "metadata": {
        "id": "gcnc5K8Aa12a",
        "colab_type": "code",
        "colab": {}
      },
      "source": [
        "# create a dataframe with retransformed Claps and predicted_claps\n",
        "retransf_train = df_train_fin[[\"Claps\", \"predicted_Claps\"]]\n",
        "retransf_train.Claps = [re_Transformation_Claps(r) for r in retransf_train.Claps]\n",
        "retransf_train.predicted_Claps = [re_Transformation_Claps(r) for r in retransf_train.predicted_Claps]"
      ],
      "execution_count": null,
      "outputs": []
    },
    {
      "cell_type": "code",
      "metadata": {
        "id": "IQNur6m3becy",
        "colab_type": "code",
        "colab": {
          "base_uri": "https://localhost:8080/",
          "height": 202
        },
        "outputId": "6c23dd0d-56d5-4894-c7d1-0c20317db939"
      },
      "source": [
        "retransf_train.head()"
      ],
      "execution_count": null,
      "outputs": [
        {
          "output_type": "execute_result",
          "data": {
            "text/html": [
              "<div>\n",
              "<style scoped>\n",
              "    .dataframe tbody tr th:only-of-type {\n",
              "        vertical-align: middle;\n",
              "    }\n",
              "\n",
              "    .dataframe tbody tr th {\n",
              "        vertical-align: top;\n",
              "    }\n",
              "\n",
              "    .dataframe thead th {\n",
              "        text-align: right;\n",
              "    }\n",
              "</style>\n",
              "<table border=\"1\" class=\"dataframe\">\n",
              "  <thead>\n",
              "    <tr style=\"text-align: right;\">\n",
              "      <th></th>\n",
              "      <th>Claps</th>\n",
              "      <th>predicted_Claps</th>\n",
              "    </tr>\n",
              "  </thead>\n",
              "  <tbody>\n",
              "    <tr>\n",
              "      <th>256583</th>\n",
              "      <td>509.0</td>\n",
              "      <td>33.257059</td>\n",
              "    </tr>\n",
              "    <tr>\n",
              "      <th>62151</th>\n",
              "      <td>23.0</td>\n",
              "      <td>2.053096</td>\n",
              "    </tr>\n",
              "    <tr>\n",
              "      <th>270177</th>\n",
              "      <td>172.0</td>\n",
              "      <td>273.894357</td>\n",
              "    </tr>\n",
              "    <tr>\n",
              "      <th>39471</th>\n",
              "      <td>0.0</td>\n",
              "      <td>17.372487</td>\n",
              "    </tr>\n",
              "    <tr>\n",
              "      <th>39747</th>\n",
              "      <td>50.0</td>\n",
              "      <td>2.130746</td>\n",
              "    </tr>\n",
              "  </tbody>\n",
              "</table>\n",
              "</div>"
            ],
            "text/plain": [
              "        Claps  predicted_Claps\n",
              "256583  509.0        33.257059\n",
              "62151    23.0         2.053096\n",
              "270177  172.0       273.894357\n",
              "39471     0.0        17.372487\n",
              "39747    50.0         2.130746"
            ]
          },
          "metadata": {
            "tags": []
          },
          "execution_count": 225
        }
      ]
    },
    {
      "cell_type": "code",
      "metadata": {
        "id": "ZAdbiQPibjxw",
        "colab_type": "code",
        "colab": {
          "base_uri": "https://localhost:8080/",
          "height": 69
        },
        "outputId": "239ca090-165a-4c80-a0b4-76b4a377791b"
      },
      "source": [
        "# accuracy on the training data after retransformation\n",
        "\n",
        "print(\"MSE: {}\".format(mean_squared_error(retransf_train[\"Claps\"], retransf_train[\"predicted_Claps\"])))\n",
        "print(\"MAE: {}\".format(mean_absolute_error(retransf_train[\"Claps\"], retransf_train[\"predicted_Claps\"])))\n",
        "print(\"R^2: {}\".format(r2_score(retransf_train[\"Claps\"], retransf_train[\"predicted_Claps\"])))"
      ],
      "execution_count": null,
      "outputs": [
        {
          "output_type": "stream",
          "text": [
            "MSE: 13271.174987441234\n",
            "MAE: 53.65373745319598\n",
            "R^2: 0.23059118530595535\n"
          ],
          "name": "stdout"
        }
      ]
    },
    {
      "cell_type": "markdown",
      "metadata": {
        "id": "PcHFEhx5F6ya",
        "colab_type": "text"
      },
      "source": [
        "Though $R^2$ decreased, the predictions seem to be acceptable with a $MSE_{(2)}=13271.2$ and a $MAE_{(2)}=53.6$. That is, on average the predicion only deviates from the correct number of claps by about 53 claps. "
      ]
    },
    {
      "cell_type": "markdown",
      "metadata": {
        "id": "v28lGyaiMUJk",
        "colab_type": "text"
      },
      "source": [
        "## 7.4. Final Model Assessment on Validation Data"
      ]
    },
    {
      "cell_type": "markdown",
      "metadata": {
        "id": "Dsq5y0l3HOI9",
        "colab_type": "text"
      },
      "source": [
        "These first assumptions on the model efficiency need to be validated with the validation data set."
      ]
    },
    {
      "cell_type": "code",
      "metadata": {
        "id": "z-H0jdxSI_Xs",
        "colab_type": "code",
        "colab": {}
      },
      "source": [
        "# reshape testing data\n",
        "X_val = df_val_fin[[\"DaysPublication\", \"AuthorFollowers\", \"TitleWordCount\", \"TextWordCount\", \"NN1_output\"]]\n",
        "\n",
        "# predict\n",
        "df_val_fin[\"predicted_Claps\"] = randCV_fin.predict(X_val)"
      ],
      "execution_count": null,
      "outputs": []
    },
    {
      "cell_type": "code",
      "metadata": {
        "id": "zdZKRUcNdXCa",
        "colab_type": "code",
        "colab": {
          "base_uri": "https://localhost:8080/",
          "height": 410
        },
        "outputId": "220fedb0-4933-4fdd-9f76-0336f383ac98"
      },
      "source": [
        "df_val_fin.head()"
      ],
      "execution_count": null,
      "outputs": [
        {
          "output_type": "execute_result",
          "data": {
            "text/html": [
              "<div>\n",
              "<style scoped>\n",
              "    .dataframe tbody tr th:only-of-type {\n",
              "        vertical-align: middle;\n",
              "    }\n",
              "\n",
              "    .dataframe tbody tr th {\n",
              "        vertical-align: top;\n",
              "    }\n",
              "\n",
              "    .dataframe thead th {\n",
              "        text-align: right;\n",
              "    }\n",
              "</style>\n",
              "<table border=\"1\" class=\"dataframe\">\n",
              "  <thead>\n",
              "    <tr style=\"text-align: right;\">\n",
              "      <th></th>\n",
              "      <th>Claps</th>\n",
              "      <th>Text</th>\n",
              "      <th>DaysPublication</th>\n",
              "      <th>AuthorFollowers</th>\n",
              "      <th>TitleWordCount</th>\n",
              "      <th>TextWordCount</th>\n",
              "      <th>DocumentVector</th>\n",
              "      <th>NN1_output</th>\n",
              "      <th>predicted_Claps</th>\n",
              "    </tr>\n",
              "  </thead>\n",
              "  <tbody>\n",
              "    <tr>\n",
              "      <th>55851</th>\n",
              "      <td>0.000000</td>\n",
              "      <td>[improve, health_care, innovation, improve, he...</td>\n",
              "      <td>-0.426369</td>\n",
              "      <td>-0.101629</td>\n",
              "      <td>-0.748153</td>\n",
              "      <td>-1.582742</td>\n",
              "      <td>[-0.14574049521357782, 0.24787024739048175, -0...</td>\n",
              "      <td>0.084036</td>\n",
              "      <td>0.080755</td>\n",
              "    </tr>\n",
              "    <tr>\n",
              "      <th>268386</th>\n",
              "      <td>0.659385</td>\n",
              "      <td>[build, first, data_science, project, part, pr...</td>\n",
              "      <td>-1.141657</td>\n",
              "      <td>0.030690</td>\n",
              "      <td>0.727353</td>\n",
              "      <td>1.353981</td>\n",
              "      <td>[0.15027108739248785, 0.455987625617021, 0.232...</td>\n",
              "      <td>0.687625</td>\n",
              "      <td>0.691085</td>\n",
              "    </tr>\n",
              "    <tr>\n",
              "      <th>239253</th>\n",
              "      <td>0.907222</td>\n",
              "      <td>[miss, goal, germany, fate, world_cup, demonst...</td>\n",
              "      <td>-0.629422</td>\n",
              "      <td>-0.319474</td>\n",
              "      <td>1.679830</td>\n",
              "      <td>0.102023</td>\n",
              "      <td>[-0.2748476533029247, 0.11142682805842724, 0.2...</td>\n",
              "      <td>0.452640</td>\n",
              "      <td>0.431644</td>\n",
              "    </tr>\n",
              "    <tr>\n",
              "      <th>170220</th>\n",
              "      <td>0.000000</td>\n",
              "      <td>[collective, human, right, meet, ai, collectiv...</td>\n",
              "      <td>-0.911079</td>\n",
              "      <td>-0.874553</td>\n",
              "      <td>-0.415290</td>\n",
              "      <td>-0.252761</td>\n",
              "      <td>[-0.22174196642817268, -0.09898683621904394, 0...</td>\n",
              "      <td>0.227247</td>\n",
              "      <td>0.182436</td>\n",
              "    </tr>\n",
              "    <tr>\n",
              "      <th>145780</th>\n",
              "      <td>0.176218</td>\n",
              "      <td>[google_deepmind, develop, ai, predict, layout...</td>\n",
              "      <td>-0.577077</td>\n",
              "      <td>-0.071347</td>\n",
              "      <td>0.979435</td>\n",
              "      <td>-0.023187</td>\n",
              "      <td>[-0.4164885507313187, 0.28916094243874424, -0....</td>\n",
              "      <td>0.616536</td>\n",
              "      <td>0.620490</td>\n",
              "    </tr>\n",
              "  </tbody>\n",
              "</table>\n",
              "</div>"
            ],
            "text/plain": [
              "           Claps  ... predicted_Claps\n",
              "55851   0.000000  ...        0.080755\n",
              "268386  0.659385  ...        0.691085\n",
              "239253  0.907222  ...        0.431644\n",
              "170220  0.000000  ...        0.182436\n",
              "145780  0.176218  ...        0.620490\n",
              "\n",
              "[5 rows x 9 columns]"
            ]
          },
          "metadata": {
            "tags": []
          },
          "execution_count": 23
        }
      ]
    },
    {
      "cell_type": "code",
      "metadata": {
        "id": "c0cI48izIl2E",
        "colab_type": "code",
        "colab": {}
      },
      "source": [
        "# create a dataframe with retransformed Claps and predicted_claps\n",
        "retransf_val = df_val_fin[[\"Claps\", \"predicted_Claps\"]]\n",
        "retransf_val.Claps = [re_Transformation_Claps(r) for r in retransf_val.Claps]\n",
        "retransf_val.predicted_Claps = [re_Transformation_Claps(r) for r in retransf_val.predicted_Claps]"
      ],
      "execution_count": null,
      "outputs": []
    },
    {
      "cell_type": "code",
      "metadata": {
        "id": "Q49vb0adKFUf",
        "colab_type": "code",
        "colab": {
          "base_uri": "https://localhost:8080/",
          "height": 509
        },
        "outputId": "d221822b-28c0-4b47-a922-b94bd6978832"
      },
      "source": [
        "retransf_val.head(n=15)"
      ],
      "execution_count": null,
      "outputs": [
        {
          "output_type": "execute_result",
          "data": {
            "text/html": [
              "<div>\n",
              "<style scoped>\n",
              "    .dataframe tbody tr th:only-of-type {\n",
              "        vertical-align: middle;\n",
              "    }\n",
              "\n",
              "    .dataframe tbody tr th {\n",
              "        vertical-align: top;\n",
              "    }\n",
              "\n",
              "    .dataframe thead th {\n",
              "        text-align: right;\n",
              "    }\n",
              "</style>\n",
              "<table border=\"1\" class=\"dataframe\">\n",
              "  <thead>\n",
              "    <tr style=\"text-align: right;\">\n",
              "      <th></th>\n",
              "      <th>Claps</th>\n",
              "      <th>predicted_Claps</th>\n",
              "    </tr>\n",
              "  </thead>\n",
              "  <tbody>\n",
              "    <tr>\n",
              "      <th>55851</th>\n",
              "      <td>0.0</td>\n",
              "      <td>0.654437</td>\n",
              "    </tr>\n",
              "    <tr>\n",
              "      <th>268386</th>\n",
              "      <td>60.0</td>\n",
              "      <td>73.329609</td>\n",
              "    </tr>\n",
              "    <tr>\n",
              "      <th>239253</th>\n",
              "      <td>285.0</td>\n",
              "      <td>13.747062</td>\n",
              "    </tr>\n",
              "    <tr>\n",
              "      <th>170220</th>\n",
              "      <td>0.0</td>\n",
              "      <td>2.118582</td>\n",
              "    </tr>\n",
              "    <tr>\n",
              "      <th>145780</th>\n",
              "      <td>2.0</td>\n",
              "      <td>46.865100</td>\n",
              "    </tr>\n",
              "    <tr>\n",
              "      <th>73414</th>\n",
              "      <td>1.0</td>\n",
              "      <td>19.987080</td>\n",
              "    </tr>\n",
              "    <tr>\n",
              "      <th>246602</th>\n",
              "      <td>57.0</td>\n",
              "      <td>2.503992</td>\n",
              "    </tr>\n",
              "    <tr>\n",
              "      <th>146837</th>\n",
              "      <td>119.0</td>\n",
              "      <td>24.727383</td>\n",
              "    </tr>\n",
              "    <tr>\n",
              "      <th>167396</th>\n",
              "      <td>321.0</td>\n",
              "      <td>122.177887</td>\n",
              "    </tr>\n",
              "    <tr>\n",
              "      <th>134870</th>\n",
              "      <td>59.0</td>\n",
              "      <td>140.958219</td>\n",
              "    </tr>\n",
              "    <tr>\n",
              "      <th>211599</th>\n",
              "      <td>0.0</td>\n",
              "      <td>5.888129</td>\n",
              "    </tr>\n",
              "    <tr>\n",
              "      <th>261703</th>\n",
              "      <td>0.0</td>\n",
              "      <td>16.389775</td>\n",
              "    </tr>\n",
              "    <tr>\n",
              "      <th>32468</th>\n",
              "      <td>3.0</td>\n",
              "      <td>50.333297</td>\n",
              "    </tr>\n",
              "    <tr>\n",
              "      <th>116815</th>\n",
              "      <td>35.0</td>\n",
              "      <td>5.800383</td>\n",
              "    </tr>\n",
              "    <tr>\n",
              "      <th>229200</th>\n",
              "      <td>1.0</td>\n",
              "      <td>0.191042</td>\n",
              "    </tr>\n",
              "  </tbody>\n",
              "</table>\n",
              "</div>"
            ],
            "text/plain": [
              "        Claps  predicted_Claps\n",
              "55851     0.0         0.654437\n",
              "268386   60.0        73.329609\n",
              "239253  285.0        13.747062\n",
              "170220    0.0         2.118582\n",
              "145780    2.0        46.865100\n",
              "73414     1.0        19.987080\n",
              "246602   57.0         2.503992\n",
              "146837  119.0        24.727383\n",
              "167396  321.0       122.177887\n",
              "134870   59.0       140.958219\n",
              "211599    0.0         5.888129\n",
              "261703    0.0        16.389775\n",
              "32468     3.0        50.333297\n",
              "116815   35.0         5.800383\n",
              "229200    1.0         0.191042"
            ]
          },
          "metadata": {
            "tags": []
          },
          "execution_count": 29
        }
      ]
    },
    {
      "cell_type": "code",
      "metadata": {
        "id": "rDiWkBUTKaT8",
        "colab_type": "code",
        "colab": {
          "base_uri": "https://localhost:8080/",
          "height": 69
        },
        "outputId": "4677bf6f-cf63-4af1-f993-c745f4bfd1eb"
      },
      "source": [
        "# accuracy on the validation data after retransformation\n",
        "\n",
        "print(\"MSE: {}\".format(mean_squared_error(retransf_val[\"Claps\"], retransf_val[\"predicted_Claps\"])))\n",
        "print(\"MAE: {}\".format(mean_absolute_error(retransf_val[\"Claps\"], retransf_val[\"predicted_Claps\"])))\n",
        "print(\"R^2: {}\".format(r2_score(retransf_val[\"Claps\"], retransf_val[\"predicted_Claps\"])))"
      ],
      "execution_count": null,
      "outputs": [
        {
          "output_type": "stream",
          "text": [
            "MSE: 14663.562792744362\n",
            "MAE: 58.74575542077285\n",
            "R^2: 0.13349038174048278\n"
          ],
          "name": "stdout"
        }
      ]
    },
    {
      "cell_type": "markdown",
      "metadata": {
        "id": "IClzcK1nLwR-",
        "colab_type": "text"
      },
      "source": [
        "The model shows similar results when applied on the validation data set. Though $R^2_{val}$ decreased even further, the predictions seem to as accaptable as on the training data with a $MSE_{(2), val}=14663.6$ and a $MAE_{(2), val}=58.7$. That is, on average the predicion only deviates from the correct number of claps by about 58 claps. Since the models where trained with $MSE$ as loss function, I focus on this measure. "
      ]
    },
    {
      "cell_type": "markdown",
      "metadata": {
        "id": "G87D7oUeWyHw",
        "colab_type": "text"
      },
      "source": [
        "## 7.5. Interpretation"
      ]
    },
    {
      "cell_type": "markdown",
      "metadata": {
        "id": "-MjymcvgLvek",
        "colab_type": "text"
      },
      "source": [
        "The predictive power of the composite NN has been shown. In this section, a plain vanilla linear regression is run over the input features of model 2. This **surrogate model** gives insights into the black-box NN and helps to understand the dependencies of the features."
      ]
    },
    {
      "cell_type": "code",
      "metadata": {
        "id": "GyYTt3M3W2b9",
        "colab_type": "code",
        "colab": {
          "base_uri": "https://localhost:8080/",
          "height": 35
        },
        "outputId": "bc497ecb-faf3-4c1b-e756-a7f3978b849a"
      },
      "source": [
        "# surrogate model - linear regression on: predicted_Claps ~ [DaysPublication, AuthorFollowers, TitleWordCount, TextWordCount, NN1_output]\n",
        "\n",
        "from sklearn.linear_model import LinearRegression\n",
        "X_lin = df_train_fin[[\"DaysPublication\", \"AuthorFollowers\", \"TitleWordCount\", \"TextWordCount\", \"NN1_output\"]]\n",
        "y_lin = np.array(df_train_fin.predicted_Claps, dtype=float)\n",
        "y_lin = y_lin.reshape((-1,1))\n",
        "lin_reg = LinearRegression().fit(X_lin, y_lin)\n",
        "lin_reg.score(X_lin, y_lin)"
      ],
      "execution_count": null,
      "outputs": [
        {
          "output_type": "execute_result",
          "data": {
            "text/plain": [
              "0.952645317260666"
            ]
          },
          "metadata": {
            "tags": []
          },
          "execution_count": 37
        }
      ]
    },
    {
      "cell_type": "code",
      "metadata": {
        "id": "kx6peDOWXnq_",
        "colab_type": "code",
        "colab": {
          "base_uri": "https://localhost:8080/",
          "height": 52
        },
        "outputId": "6ce87129-4654-466d-d55f-169c45d143d9"
      },
      "source": [
        "print([\"DaysPublication\", \"AuthorFollowers\", \"TitleWordCount\", \"TextWordCount\", \"NN1_output\"])\n",
        "print(lin_reg.coef_)"
      ],
      "execution_count": null,
      "outputs": [
        {
          "output_type": "stream",
          "text": [
            "['DaysPublication', 'AuthorFollowers', 'TitleWordCount', 'TextWordCount', 'NN1_output']\n",
            "[[ 0.00583354  0.09949934 -0.00841753  0.02847117  0.84003992]]\n"
          ],
          "name": "stdout"
        }
      ]
    },
    {
      "cell_type": "markdown",
      "metadata": {
        "id": "XJj7f_nxNzF_",
        "colab_type": "text"
      },
      "source": [
        "The coefficients of the surrogate model demonstrate that the output of the first NLP regression model has the strongest impact on the final prediction. Hence, the article text and its related document vector have a lot of predictive power. \n",
        "\n",
        "The features **DaysPublication**, **AuthorFollowers** and **TextWordCount** have a weak positive effect on the number of claps per unit. The feature **TitleWordCount** shows a weak negative effect on the prediction of claps."
      ]
    },
    {
      "cell_type": "markdown",
      "metadata": {
        "id": "VARgJ46RLfKn",
        "colab_type": "text"
      },
      "source": [
        "# 8. Final Predictions"
      ]
    },
    {
      "cell_type": "markdown",
      "metadata": {
        "id": "REbPACcWRzcT",
        "colab_type": "text"
      },
      "source": [
        "# 8.1. Calculate Predictions for Test Data"
      ]
    },
    {
      "cell_type": "code",
      "metadata": {
        "id": "v6NtILLhNx6r",
        "colab_type": "code",
        "colab": {}
      },
      "source": [
        "# reshape testing data\n",
        "X_test = df_test_fin[[\"DaysPublication\", \"AuthorFollowers\", \"TitleWordCount\", \"TextWordCount\", \"NN1_output\"]]\n",
        "\n",
        "# predict\n",
        "df_test_fin[\"predicted_Claps\"] = randCV_fin.predict(X_test)"
      ],
      "execution_count": null,
      "outputs": []
    },
    {
      "cell_type": "code",
      "metadata": {
        "id": "NMR5cQvEOLs1",
        "colab_type": "code",
        "colab": {
          "base_uri": "https://localhost:8080/",
          "height": 289
        },
        "outputId": "a451ada0-406a-4831-c055-d4d4e6862e46"
      },
      "source": [
        "df_test_fin.head()"
      ],
      "execution_count": null,
      "outputs": [
        {
          "output_type": "execute_result",
          "data": {
            "text/html": [
              "<div>\n",
              "<style scoped>\n",
              "    .dataframe tbody tr th:only-of-type {\n",
              "        vertical-align: middle;\n",
              "    }\n",
              "\n",
              "    .dataframe tbody tr th {\n",
              "        vertical-align: top;\n",
              "    }\n",
              "\n",
              "    .dataframe thead th {\n",
              "        text-align: right;\n",
              "    }\n",
              "</style>\n",
              "<table border=\"1\" class=\"dataframe\">\n",
              "  <thead>\n",
              "    <tr style=\"text-align: right;\">\n",
              "      <th></th>\n",
              "      <th>Index</th>\n",
              "      <th>Text</th>\n",
              "      <th>DaysPublication</th>\n",
              "      <th>AuthorFollowers</th>\n",
              "      <th>TitleWordCount</th>\n",
              "      <th>TextWordCount</th>\n",
              "      <th>DocumentVector</th>\n",
              "    </tr>\n",
              "  </thead>\n",
              "  <tbody>\n",
              "    <tr>\n",
              "      <th>0</th>\n",
              "      <td>0</td>\n",
              "      <td>[everyone, miss, mind_blow, feature, cryptocur...</td>\n",
              "      <td>3.182518</td>\n",
              "      <td>2.327131</td>\n",
              "      <td>0.463856</td>\n",
              "      <td>2.312811</td>\n",
              "      <td>[-0.36383097389805963, -0.17429247831521033, 0...</td>\n",
              "    </tr>\n",
              "    <tr>\n",
              "      <th>1</th>\n",
              "      <td>1</td>\n",
              "      <td>[neo, versus, ethereum, neo, might, strongest,...</td>\n",
              "      <td>2.583197</td>\n",
              "      <td>2.533711</td>\n",
              "      <td>0.727353</td>\n",
              "      <td>2.388475</td>\n",
              "      <td>[-0.16940387948896063, -0.575383800739601, -0....</td>\n",
              "    </tr>\n",
              "    <tr>\n",
              "      <th>2</th>\n",
              "      <td>2</td>\n",
              "      <td>[cryptocurrency, trade, bible, want, trade, cr...</td>\n",
              "      <td>3.227319</td>\n",
              "      <td>2.327131</td>\n",
              "      <td>-1.507654</td>\n",
              "      <td>-1.934529</td>\n",
              "      <td>[-0.4807727076113224, -0.13983466809517459, 0....</td>\n",
              "    </tr>\n",
              "    <tr>\n",
              "      <th>3</th>\n",
              "      <td>5</td>\n",
              "      <td>[stablecoins, design, price, stable, cryptocur...</td>\n",
              "      <td>2.205768</td>\n",
              "      <td>2.659090</td>\n",
              "      <td>-0.748153</td>\n",
              "      <td>1.977172</td>\n",
              "      <td>[-0.5314112407898075, -0.06769813359163174, 0....</td>\n",
              "    </tr>\n",
              "    <tr>\n",
              "      <th>4</th>\n",
              "      <td>7</td>\n",
              "      <td>[chaos, vs, order, cryptocurrency, dilemma, cr...</td>\n",
              "      <td>2.318804</td>\n",
              "      <td>2.244319</td>\n",
              "      <td>-0.748153</td>\n",
              "      <td>0.233396</td>\n",
              "      <td>[-0.6283444019246075, -0.23537706750349655, 0....</td>\n",
              "    </tr>\n",
              "  </tbody>\n",
              "</table>\n",
              "</div>"
            ],
            "text/plain": [
              "  Index  ...                                     DocumentVector\n",
              "0     0  ...  [-0.36383097389805963, -0.17429247831521033, 0...\n",
              "1     1  ...  [-0.16940387948896063, -0.575383800739601, -0....\n",
              "2     2  ...  [-0.4807727076113224, -0.13983466809517459, 0....\n",
              "3     5  ...  [-0.5314112407898075, -0.06769813359163174, 0....\n",
              "4     7  ...  [-0.6283444019246075, -0.23537706750349655, 0....\n",
              "\n",
              "[5 rows x 7 columns]"
            ]
          },
          "metadata": {
            "tags": []
          },
          "execution_count": 209
        }
      ]
    },
    {
      "cell_type": "code",
      "metadata": {
        "id": "bH66IAPuOqgu",
        "colab_type": "code",
        "colab": {
          "base_uri": "https://localhost:8080/",
          "height": 35
        },
        "outputId": "a6f896f6-c754-44e0-ba45-81c97a59dc14"
      },
      "source": [
        "min(df_test_fin[\"predicted_Claps\"])\n",
        "max(df_test_fin[\"predicted_Claps\"])"
      ],
      "execution_count": null,
      "outputs": [
        {
          "output_type": "execute_result",
          "data": {
            "text/plain": [
              "1.387518383115597"
            ]
          },
          "metadata": {
            "tags": []
          },
          "execution_count": 67
        }
      ]
    },
    {
      "cell_type": "code",
      "metadata": {
        "id": "4tEh4pSGPaA-",
        "colab_type": "code",
        "colab": {
          "base_uri": "https://localhost:8080/",
          "height": 265
        },
        "outputId": "21171aff-0e61-49bc-fa52-5d3082208f5f"
      },
      "source": [
        "_=plt.hist(df_test_fin[\"predicted_Claps\"])"
      ],
      "execution_count": null,
      "outputs": [
        {
          "output_type": "display_data",
          "data": {
            "image/png": "[encoded data removed]",
            "text/plain": [
              "<Figure size 432x288 with 1 Axes>"
            ]
          },
          "metadata": {
            "tags": [],
            "needs_background": "light"
          }
        }
      ]
    },
    {
      "cell_type": "code",
      "metadata": {
        "id": "t3HVnL_-O6co",
        "colab_type": "code",
        "colab": {}
      },
      "source": [
        "# retransform the claps\n",
        "df_test_fin[\"predicted_Claps_retransformed\"] = [re_Transformation_Claps(r) for r in df_test_fin[\"predicted_Claps\"]]"
      ],
      "execution_count": null,
      "outputs": []
    },
    {
      "cell_type": "code",
      "metadata": {
        "id": "Zmy-2Y63P2U8",
        "colab_type": "code",
        "colab": {
          "base_uri": "https://localhost:8080/",
          "height": 499
        },
        "outputId": "0ef07319-d92c-4d52-cc48-b9dd36fbd6e5"
      },
      "source": [
        "df_test_fin.head()"
      ],
      "execution_count": null,
      "outputs": [
        {
          "output_type": "execute_result",
          "data": {
            "text/html": [
              "<div>\n",
              "<style scoped>\n",
              "    .dataframe tbody tr th:only-of-type {\n",
              "        vertical-align: middle;\n",
              "    }\n",
              "\n",
              "    .dataframe tbody tr th {\n",
              "        vertical-align: top;\n",
              "    }\n",
              "\n",
              "    .dataframe thead th {\n",
              "        text-align: right;\n",
              "    }\n",
              "</style>\n",
              "<table border=\"1\" class=\"dataframe\">\n",
              "  <thead>\n",
              "    <tr style=\"text-align: right;\">\n",
              "      <th></th>\n",
              "      <th>Index</th>\n",
              "      <th>Text</th>\n",
              "      <th>DaysPublication</th>\n",
              "      <th>AuthorFollowers</th>\n",
              "      <th>TitleWordCount</th>\n",
              "      <th>TextWordCount</th>\n",
              "      <th>DocumentVector</th>\n",
              "      <th>NN1_output</th>\n",
              "      <th>predicted_Claps</th>\n",
              "      <th>predicted_Claps_retransformed</th>\n",
              "    </tr>\n",
              "  </thead>\n",
              "  <tbody>\n",
              "    <tr>\n",
              "      <th>0</th>\n",
              "      <td>0</td>\n",
              "      <td>[everyone, miss, mind_blow, feature, cryptocur...</td>\n",
              "      <td>3.182518</td>\n",
              "      <td>2.327131</td>\n",
              "      <td>0.463856</td>\n",
              "      <td>2.312811</td>\n",
              "      <td>[-0.36383097389805963, -0.17429247831521033, 0...</td>\n",
              "      <td>0.444075</td>\n",
              "      <td>0.968821</td>\n",
              "      <td>418.904561</td>\n",
              "    </tr>\n",
              "    <tr>\n",
              "      <th>1</th>\n",
              "      <td>1</td>\n",
              "      <td>[neo, versus, ethereum, neo, might, strongest,...</td>\n",
              "      <td>2.583197</td>\n",
              "      <td>2.533711</td>\n",
              "      <td>0.727353</td>\n",
              "      <td>2.388475</td>\n",
              "      <td>[-0.16940387948896063, -0.575383800739601, -0....</td>\n",
              "      <td>0.685264</td>\n",
              "      <td>1.115024</td>\n",
              "      <td>1043.731725</td>\n",
              "    </tr>\n",
              "    <tr>\n",
              "      <th>2</th>\n",
              "      <td>2</td>\n",
              "      <td>[cryptocurrency, trade, bible, want, trade, cr...</td>\n",
              "      <td>3.227319</td>\n",
              "      <td>2.327131</td>\n",
              "      <td>-1.507654</td>\n",
              "      <td>-1.934529</td>\n",
              "      <td>[-0.4807727076113224, -0.13983466809517459, 0....</td>\n",
              "      <td>0.497608</td>\n",
              "      <td>0.628303</td>\n",
              "      <td>49.254338</td>\n",
              "    </tr>\n",
              "    <tr>\n",
              "      <th>3</th>\n",
              "      <td>5</td>\n",
              "      <td>[stablecoins, design, price, stable, cryptocur...</td>\n",
              "      <td>2.205768</td>\n",
              "      <td>2.659090</td>\n",
              "      <td>-0.748153</td>\n",
              "      <td>1.977172</td>\n",
              "      <td>[-0.5314112407898075, -0.06769813359163174, 0....</td>\n",
              "      <td>0.372522</td>\n",
              "      <td>0.842331</td>\n",
              "      <td>189.840719</td>\n",
              "    </tr>\n",
              "    <tr>\n",
              "      <th>4</th>\n",
              "      <td>7</td>\n",
              "      <td>[chaos, vs, order, cryptocurrency, dilemma, cr...</td>\n",
              "      <td>2.318804</td>\n",
              "      <td>2.244319</td>\n",
              "      <td>-0.748153</td>\n",
              "      <td>0.233396</td>\n",
              "      <td>[-0.6283444019246075, -0.23537706750349655, 0....</td>\n",
              "      <td>0.283109</td>\n",
              "      <td>0.664498</td>\n",
              "      <td>61.975833</td>\n",
              "    </tr>\n",
              "  </tbody>\n",
              "</table>\n",
              "</div>"
            ],
            "text/plain": [
              "  Index  ... predicted_Claps_retransformed\n",
              "0     0  ...                    418.904561\n",
              "1     1  ...                   1043.731725\n",
              "2     2  ...                     49.254338\n",
              "3     5  ...                    189.840719\n",
              "4     7  ...                     61.975833\n",
              "\n",
              "[5 rows x 10 columns]"
            ]
          },
          "metadata": {
            "tags": []
          },
          "execution_count": 81
        }
      ]
    },
    {
      "cell_type": "markdown",
      "metadata": {
        "id": "xMTFlqhaR721",
        "colab_type": "text"
      },
      "source": [
        "# 8.2. Save CSV File"
      ]
    },
    {
      "cell_type": "code",
      "metadata": {
        "id": "_Qc85pdoSGDl",
        "colab_type": "code",
        "colab": {}
      },
      "source": [
        "# create output DataFrame\n",
        "\n",
        "df_submission = df_test_fin[[\"Index\", \"predicted_Claps_retransformed\"]]\n",
        "df_submission.columns= ([\"index\", \"Claps\"])"
      ],
      "execution_count": null,
      "outputs": []
    },
    {
      "cell_type": "code",
      "metadata": {
        "id": "5b8FSzXBS8FI",
        "colab_type": "code",
        "colab": {
          "base_uri": "https://localhost:8080/",
          "height": 202
        },
        "outputId": "57ec6009-5cfc-42d0-8328-8867baa1258d"
      },
      "source": [
        "df_submission.head()"
      ],
      "execution_count": null,
      "outputs": [
        {
          "output_type": "execute_result",
          "data": {
            "text/html": [
              "<div>\n",
              "<style scoped>\n",
              "    .dataframe tbody tr th:only-of-type {\n",
              "        vertical-align: middle;\n",
              "    }\n",
              "\n",
              "    .dataframe tbody tr th {\n",
              "        vertical-align: top;\n",
              "    }\n",
              "\n",
              "    .dataframe thead th {\n",
              "        text-align: right;\n",
              "    }\n",
              "</style>\n",
              "<table border=\"1\" class=\"dataframe\">\n",
              "  <thead>\n",
              "    <tr style=\"text-align: right;\">\n",
              "      <th></th>\n",
              "      <th>index</th>\n",
              "      <th>Claps</th>\n",
              "    </tr>\n",
              "  </thead>\n",
              "  <tbody>\n",
              "    <tr>\n",
              "      <th>0</th>\n",
              "      <td>0</td>\n",
              "      <td>418.904561</td>\n",
              "    </tr>\n",
              "    <tr>\n",
              "      <th>1</th>\n",
              "      <td>1</td>\n",
              "      <td>1043.731725</td>\n",
              "    </tr>\n",
              "    <tr>\n",
              "      <th>2</th>\n",
              "      <td>2</td>\n",
              "      <td>49.254338</td>\n",
              "    </tr>\n",
              "    <tr>\n",
              "      <th>3</th>\n",
              "      <td>5</td>\n",
              "      <td>189.840719</td>\n",
              "    </tr>\n",
              "    <tr>\n",
              "      <th>4</th>\n",
              "      <td>7</td>\n",
              "      <td>61.975833</td>\n",
              "    </tr>\n",
              "  </tbody>\n",
              "</table>\n",
              "</div>"
            ],
            "text/plain": [
              "  index        Claps\n",
              "0     0   418.904561\n",
              "1     1  1043.731725\n",
              "2     2    49.254338\n",
              "3     5   189.840719\n",
              "4     7    61.975833"
            ]
          },
          "metadata": {
            "tags": []
          },
          "execution_count": 87
        }
      ]
    },
    {
      "cell_type": "code",
      "metadata": {
        "id": "qXaj6lmBTQVU",
        "colab_type": "code",
        "colab": {}
      },
      "source": [
        "pth = \"gdrive/My Drive/Adams Assignment/New Approach/Final_Submission.csv\"\n",
        "df_submission.to_csv(pth, sep=\",\", index=False)"
      ],
      "execution_count": null,
      "outputs": []
    }
  ]
}